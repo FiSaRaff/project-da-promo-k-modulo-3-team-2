{
 "cells": [
  {
   "cell_type": "code",
   "execution_count": 147,
   "metadata": {},
   "outputs": [],
   "source": [
    "import pandas as pd\n",
    "import numpy as np\n",
    "from scipy.stats import shapiro, levene\n",
    "from scipy.stats import ttest_ind\n",
    "from scipy.stats import mannwhitneyu\n",
    "from scipy.stats import chi2_contingency\n",
    "import seaborn\n",
    "#import scipy.stats as stats\n",
    "import scipy.stats as stats\n",
    "from scipy.stats import shapiro, poisson, chisquare, expon, kstest\n",
    "# Visualización\n",
    "# ------------------------------------------------------------------------------\n",
    "import matplotlib.pyplot as plt\n",
    "import seaborn as sns"
   ]
  },
  {
   "cell_type": "code",
   "execution_count": 148,
   "metadata": {},
   "outputs": [
    {
     "data": {
      "text/html": [
       "<div>\n",
       "<style scoped>\n",
       "    .dataframe tbody tr th:only-of-type {\n",
       "        vertical-align: middle;\n",
       "    }\n",
       "\n",
       "    .dataframe tbody tr th {\n",
       "        vertical-align: top;\n",
       "    }\n",
       "\n",
       "    .dataframe thead th {\n",
       "        text-align: right;\n",
       "    }\n",
       "</style>\n",
       "<table border=\"1\" class=\"dataframe\">\n",
       "  <thead>\n",
       "    <tr style=\"text-align: right;\">\n",
       "      <th></th>\n",
       "      <th>employee_number</th>\n",
       "      <th>attrition</th>\n",
       "      <th>job_level</th>\n",
       "      <th>job_role</th>\n",
       "      <th>department</th>\n",
       "      <th>monthly_income</th>\n",
       "      <th>salary</th>\n",
       "      <th>percent_salary_hike</th>\n",
       "      <th>training_times_last_year</th>\n",
       "      <th>stock_option_level</th>\n",
       "      <th>...</th>\n",
       "      <th>age</th>\n",
       "      <th>gender</th>\n",
       "      <th>marital_status</th>\n",
       "      <th>education</th>\n",
       "      <th>education_field</th>\n",
       "      <th>num_companies_worked</th>\n",
       "      <th>total_working_years</th>\n",
       "      <th>years_at_company</th>\n",
       "      <th>years_since_last_promotion</th>\n",
       "      <th>years_with_curr_manager</th>\n",
       "    </tr>\n",
       "  </thead>\n",
       "  <tbody>\n",
       "    <tr>\n",
       "      <th>0</th>\n",
       "      <td>1</td>\n",
       "      <td>No</td>\n",
       "      <td>5</td>\n",
       "      <td>research director</td>\n",
       "      <td>research &amp; development</td>\n",
       "      <td>16280.83</td>\n",
       "      <td>195370.00</td>\n",
       "      <td>13</td>\n",
       "      <td>5</td>\n",
       "      <td>0</td>\n",
       "      <td>...</td>\n",
       "      <td>52</td>\n",
       "      <td>M</td>\n",
       "      <td>NaN</td>\n",
       "      <td>3</td>\n",
       "      <td>other</td>\n",
       "      <td>7</td>\n",
       "      <td>NaN</td>\n",
       "      <td>20</td>\n",
       "      <td>15</td>\n",
       "      <td>15</td>\n",
       "    </tr>\n",
       "    <tr>\n",
       "      <th>1</th>\n",
       "      <td>2</td>\n",
       "      <td>No</td>\n",
       "      <td>5</td>\n",
       "      <td>manager</td>\n",
       "      <td>general</td>\n",
       "      <td>16665.83</td>\n",
       "      <td>199990.00</td>\n",
       "      <td>14</td>\n",
       "      <td>5</td>\n",
       "      <td>1</td>\n",
       "      <td>...</td>\n",
       "      <td>53</td>\n",
       "      <td>M</td>\n",
       "      <td>NaN</td>\n",
       "      <td>4</td>\n",
       "      <td>life sciences</td>\n",
       "      <td>0</td>\n",
       "      <td>34.0</td>\n",
       "      <td>33</td>\n",
       "      <td>11</td>\n",
       "      <td>9</td>\n",
       "    </tr>\n",
       "    <tr>\n",
       "      <th>2</th>\n",
       "      <td>3</td>\n",
       "      <td>No</td>\n",
       "      <td>5</td>\n",
       "      <td>manager</td>\n",
       "      <td>research &amp; development</td>\n",
       "      <td>16026.67</td>\n",
       "      <td>192320.00</td>\n",
       "      <td>11</td>\n",
       "      <td>3</td>\n",
       "      <td>0</td>\n",
       "      <td>...</td>\n",
       "      <td>43</td>\n",
       "      <td>M</td>\n",
       "      <td>married</td>\n",
       "      <td>2</td>\n",
       "      <td>technical degree</td>\n",
       "      <td>1</td>\n",
       "      <td>22.0</td>\n",
       "      <td>22</td>\n",
       "      <td>11</td>\n",
       "      <td>15</td>\n",
       "    </tr>\n",
       "    <tr>\n",
       "      <th>3</th>\n",
       "      <td>4</td>\n",
       "      <td>No</td>\n",
       "      <td>4</td>\n",
       "      <td>research director</td>\n",
       "      <td>research &amp; development</td>\n",
       "      <td>14307.50</td>\n",
       "      <td>171690.00</td>\n",
       "      <td>19</td>\n",
       "      <td>2</td>\n",
       "      <td>2</td>\n",
       "      <td>...</td>\n",
       "      <td>48</td>\n",
       "      <td>F</td>\n",
       "      <td>married</td>\n",
       "      <td>4</td>\n",
       "      <td>medical</td>\n",
       "      <td>3</td>\n",
       "      <td>NaN</td>\n",
       "      <td>20</td>\n",
       "      <td>5</td>\n",
       "      <td>6</td>\n",
       "    </tr>\n",
       "    <tr>\n",
       "      <th>4</th>\n",
       "      <td>5</td>\n",
       "      <td>No</td>\n",
       "      <td>4</td>\n",
       "      <td>sales executive</td>\n",
       "      <td>sales</td>\n",
       "      <td>12783.92</td>\n",
       "      <td>153407.04</td>\n",
       "      <td>12</td>\n",
       "      <td>5</td>\n",
       "      <td>1</td>\n",
       "      <td>...</td>\n",
       "      <td>47</td>\n",
       "      <td>F</td>\n",
       "      <td>divorced</td>\n",
       "      <td>3</td>\n",
       "      <td>technical degree</td>\n",
       "      <td>2</td>\n",
       "      <td>NaN</td>\n",
       "      <td>19</td>\n",
       "      <td>2</td>\n",
       "      <td>8</td>\n",
       "    </tr>\n",
       "  </tbody>\n",
       "</table>\n",
       "<p>5 rows × 36 columns</p>\n",
       "</div>"
      ],
      "text/plain": [
       "   employee_number attrition  job_level           job_role  \\\n",
       "0                1        No          5  research director   \n",
       "1                2        No          5            manager   \n",
       "2                3        No          5            manager   \n",
       "3                4        No          4  research director   \n",
       "4                5        No          4    sales executive   \n",
       "\n",
       "               department  monthly_income     salary  percent_salary_hike  \\\n",
       "0  research & development        16280.83  195370.00                   13   \n",
       "1                 general        16665.83  199990.00                   14   \n",
       "2  research & development        16026.67  192320.00                   11   \n",
       "3  research & development        14307.50  171690.00                   19   \n",
       "4                   sales        12783.92  153407.04                   12   \n",
       "\n",
       "   training_times_last_year  stock_option_level  ...  age  gender  \\\n",
       "0                         5                   0  ...   52       M   \n",
       "1                         5                   1  ...   53       M   \n",
       "2                         3                   0  ...   43       M   \n",
       "3                         2                   2  ...   48       F   \n",
       "4                         5                   1  ...   47       F   \n",
       "\n",
       "   marital_status education   education_field num_companies_worked  \\\n",
       "0             NaN         3             other                    7   \n",
       "1             NaN         4     life sciences                    0   \n",
       "2         married         2  technical degree                    1   \n",
       "3         married         4           medical                    3   \n",
       "4        divorced         3  technical degree                    2   \n",
       "\n",
       "   total_working_years years_at_company  years_since_last_promotion  \\\n",
       "0                  NaN               20                          15   \n",
       "1                 34.0               33                          11   \n",
       "2                 22.0               22                          11   \n",
       "3                  NaN               20                           5   \n",
       "4                  NaN               19                           2   \n",
       "\n",
       "   years_with_curr_manager  \n",
       "0                       15  \n",
       "1                        9  \n",
       "2                       15  \n",
       "3                        6  \n",
       "4                        8  \n",
       "\n",
       "[5 rows x 36 columns]"
      ]
     },
     "execution_count": 148,
     "metadata": {},
     "output_type": "execute_result"
    }
   ],
   "source": [
    "df = pd.read_csv('../data/hr_raw_data_definitivo.csv', index_col=0)\n",
    "df.head()"
   ]
  },
  {
   "cell_type": "code",
   "execution_count": 149,
   "metadata": {},
   "outputs": [],
   "source": [
    "grupo_control = df[df['satisfaction'] == 'satisfied']"
   ]
  },
  {
   "cell_type": "code",
   "execution_count": 150,
   "metadata": {},
   "outputs": [],
   "source": [
    "grupo_variante = df[df['satisfaction'] == 'not satisfied']"
   ]
  },
  {
   "cell_type": "code",
   "execution_count": 151,
   "metadata": {},
   "outputs": [
    {
     "name": "stdout",
     "output_type": "stream",
     "text": [
      "13.668341708542714\n"
     ]
    }
   ],
   "source": [
    "grupo_control_porcentaje_rotacion = grupo_control[grupo_control['attrition'] == 'Yes'][\"employee_number\"].count()/grupo_control.shape[0]*100\n",
    "print(grupo_control_porcentaje_rotacion)"
   ]
  },
  {
   "cell_type": "code",
   "execution_count": 152,
   "metadata": {},
   "outputs": [
    {
     "name": "stdout",
     "output_type": "stream",
     "text": [
      "19.87075928917609\n"
     ]
    }
   ],
   "source": [
    "grupo_variante_porcentaje_rotacion = grupo_variante[grupo_variante['attrition'] == 'Yes'][\"employee_number\"].count()/grupo_variante.shape[0]*100\n",
    "print(grupo_variante_porcentaje_rotacion)"
   ]
  },
  {
   "cell_type": "markdown",
   "metadata": {},
   "source": [
    "### Marina y Fiona - 25.11.2024"
   ]
  },
  {
   "cell_type": "markdown",
   "metadata": {},
   "source": [
    "    H0 = No existe una relación entre el nivel de satisfacción en el trabajo y la rotación de empleados en la empresa.\n",
    "    H1 = Existe una relación entre el nivel de satisfacción en el trabajo y la rotación de empleados en la empresa."
   ]
  },
  {
   "cell_type": "code",
   "execution_count": 153,
   "metadata": {},
   "outputs": [],
   "source": [
    "'''Hacemos una tabla de contingencia, ya que son dos variables categóricas, para ver las proporciones.'''\n",
    "tabla_contingencia = pd.crosstab(df[\"satisfaction\"], df[\"attrition\"])"
   ]
  },
  {
   "cell_type": "code",
   "execution_count": 154,
   "metadata": {},
   "outputs": [
    {
     "data": {
      "text/html": [
       "<div>\n",
       "<style scoped>\n",
       "    .dataframe tbody tr th:only-of-type {\n",
       "        vertical-align: middle;\n",
       "    }\n",
       "\n",
       "    .dataframe tbody tr th {\n",
       "        vertical-align: top;\n",
       "    }\n",
       "\n",
       "    .dataframe thead th {\n",
       "        text-align: right;\n",
       "    }\n",
       "</style>\n",
       "<table border=\"1\" class=\"dataframe\">\n",
       "  <thead>\n",
       "    <tr style=\"text-align: right;\">\n",
       "      <th>attrition</th>\n",
       "      <th>No</th>\n",
       "      <th>Yes</th>\n",
       "    </tr>\n",
       "    <tr>\n",
       "      <th>satisfaction</th>\n",
       "      <th></th>\n",
       "      <th></th>\n",
       "    </tr>\n",
       "  </thead>\n",
       "  <tbody>\n",
       "    <tr>\n",
       "      <th>not satisfied</th>\n",
       "      <td>496</td>\n",
       "      <td>123</td>\n",
       "    </tr>\n",
       "    <tr>\n",
       "      <th>satisfied</th>\n",
       "      <td>859</td>\n",
       "      <td>136</td>\n",
       "    </tr>\n",
       "  </tbody>\n",
       "</table>\n",
       "</div>"
      ],
      "text/plain": [
       "attrition       No  Yes\n",
       "satisfaction           \n",
       "not satisfied  496  123\n",
       "satisfied      859  136"
      ]
     },
     "execution_count": 154,
     "metadata": {},
     "output_type": "execute_result"
    }
   ],
   "source": [
    "tabla_contingencia"
   ]
  },
  {
   "cell_type": "code",
   "execution_count": 155,
   "metadata": {},
   "outputs": [
    {
     "data": {
      "image/png": "[encoded data removed]",
      "text/plain": [
       "<Figure size 640x480 with 1 Axes>"
      ]
     },
     "metadata": {},
     "output_type": "display_data"
    }
   ],
   "source": [
    "plot = sns.countplot( x=\"satisfaction\", data=df, hue='attrition', palette=\"mako\") \n",
    "plot.set_title(\"Relación entre nivel de satisfacción y rotación\", fontsize=16) \n",
    "plot.set_xlabel(\"Nivel de satisfacción / Rotación\", fontsize=12) \n",
    "plot.set_ylabel(\"Nº de empleados\", fontsize=12);"
   ]
  },
  {
   "cell_type": "code",
   "execution_count": 156,
   "metadata": {},
   "outputs": [
    {
     "name": "stdout",
     "output_type": "stream",
     "text": [
      "Existe una relación entre el nivel de satisfacción en el trabajo y la rotación de empleados en la empresa.\n"
     ]
    }
   ],
   "source": [
    "'''Confirmar si nos quedamos con la H0 o la H1. En este caso calculamos el chi2 al tratarse de variables categóricas (proporciones).'''\n",
    "\n",
    "_, p_value, _, _ = chi2_contingency(tabla_contingencia)\n",
    "if p_value <= 0.05:\n",
    "    print('Existe una relación entre el nivel de satisfacción en el trabajo y la rotación de empleados en la empresa.')\n",
    "else:\n",
    "    print('No existe una relación entre el nivel de satisfacción en el trabajo y la rotación de empleados en la empresa.')"
   ]
  },
  {
   "cell_type": "markdown",
   "metadata": {},
   "source": [
    "Rechazamos H0 y nos quedamos con la H1 - Existe una relación significativa entre el nivel de satisfacción y la rotación. "
   ]
  },
  {
   "cell_type": "markdown",
   "metadata": {},
   "source": [
    "### ¿Existe relación entre el salario y el nivel de rotación de los empleados?\n",
    "    H0 = No existe relación entre el salario y el nivel de rotación de os empleados.\n",
    "    H1 = Existe relación entre el salario y el nivel de rotación de os empleados."
   ]
  },
  {
   "cell_type": "code",
   "execution_count": 157,
   "metadata": {},
   "outputs": [],
   "source": [
    "grupo_control_rotacion = df[df['attrition'] == 'No']"
   ]
  },
  {
   "cell_type": "code",
   "execution_count": 158,
   "metadata": {},
   "outputs": [],
   "source": [
    "grupo_variante_rotacion = df[df['attrition'] == 'Yes']"
   ]
  },
  {
   "cell_type": "code",
   "execution_count": 159,
   "metadata": {},
   "outputs": [
    {
     "data": {
      "image/png": "[encoded data removed]",
      "text/plain": [
       "<Figure size 640x480 with 1 Axes>"
      ]
     },
     "metadata": {},
     "output_type": "display_data"
    }
   ],
   "source": [
    "'''Visualización distribución salarios de empleados satisfechos.'''\n",
    "sns.histplot(x= 'salary', data= grupo_control_rotacion, kde=True)\n",
    "plt.xlim(0, 200000); "
   ]
  },
  {
   "cell_type": "code",
   "execution_count": 160,
   "metadata": {},
   "outputs": [
    {
     "data": {
      "image/png": "[encoded data removed]",
      "text/plain": [
       "<Figure size 640x480 with 1 Axes>"
      ]
     },
     "metadata": {},
     "output_type": "display_data"
    }
   ],
   "source": [
    "sns.boxplot(x= 'salary', data= grupo_control_rotacion)\n",
    "plt.xlim(0, 200000); "
   ]
  },
  {
   "cell_type": "code",
   "execution_count": 161,
   "metadata": {},
   "outputs": [
    {
     "data": {
      "image/png": "[encoded data removed]",
      "text/plain": [
       "<Figure size 640x480 with 1 Axes>"
      ]
     },
     "metadata": {},
     "output_type": "display_data"
    }
   ],
   "source": [
    "'''Visualización distribución salarios de empleados que se han ido de la empresa.'''\n",
    "sns.histplot(x= 'salary', data= grupo_variante_rotacion, kde=True)\n",
    "plt.xlim(0, 200000); "
   ]
  },
  {
   "cell_type": "code",
   "execution_count": 162,
   "metadata": {},
   "outputs": [
    {
     "data": {
      "image/png": "[encoded data removed]",
      "text/plain": [
       "<Figure size 640x480 with 1 Axes>"
      ]
     },
     "metadata": {},
     "output_type": "display_data"
    }
   ],
   "source": [
    "sns.boxplot(x= 'salary', data= grupo_variante_rotacion)\n",
    "plt.xlim(0, 200000); "
   ]
  },
  {
   "cell_type": "code",
   "execution_count": 163,
   "metadata": {},
   "outputs": [],
   "source": [
    "def normalidad(dataframe, columna):\n",
    "\n",
    "    statistic, p_value = stats.shapiro(dataframe[columna])\n",
    "    if p_value > 0.05:\n",
    "        print(f\"Para la columna {columna} los datos siguen una distribución normal.\")\n",
    "    else:\n",
    "        print(f\"Para la columna {columna} los datos no siguen una distribución normal.\")"
   ]
  },
  {
   "cell_type": "code",
   "execution_count": 164,
   "metadata": {},
   "outputs": [
    {
     "name": "stdout",
     "output_type": "stream",
     "text": [
      "Para la columna ['salary'] los datos no siguen una distribución normal.\n"
     ]
    }
   ],
   "source": [
    "'''¿Siguen los datos salariales de los empleados que siguen en la empresa una distribución normal?'''\n",
    "normalidad(grupo_control_rotacion, ['salary'])"
   ]
  },
  {
   "cell_type": "code",
   "execution_count": 165,
   "metadata": {},
   "outputs": [
    {
     "name": "stdout",
     "output_type": "stream",
     "text": [
      "Para la columna ['salary'] los datos no siguen una distribución normal.\n"
     ]
    }
   ],
   "source": [
    "'''¿Siguen los datos salariales de los empleados que se han ido de la empresa una distribución normal?'''\n",
    "normalidad(grupo_variante_rotacion, ['salary'])"
   ]
  },
  {
   "cell_type": "code",
   "execution_count": 166,
   "metadata": {},
   "outputs": [
    {
     "name": "stdout",
     "output_type": "stream",
     "text": [
      "Para la métrica 'salary', las medianas son diferentes (p = 0.0000).\n"
     ]
    }
   ],
   "source": [
    "def test_man_whitney(dataframe, metricas, columna_grupos=\"attrition\", grupo_control=\"No\", grupo_variante=\"Yes\"):\n",
    "    # Verificar si la columna tiene los valores esperados\n",
    "    grupos = dataframe[columna_grupos].unique()\n",
    "    if not {grupo_control, grupo_variante}.issubset(grupos):\n",
    "        raise ValueError(f\"La columna '{columna_grupos}' debe contener los valores '{grupo_control}' y '{grupo_variante}'.\")\n",
    "\n",
    "    # Filtrar los datos para los dos grupos\n",
    "    control = dataframe[dataframe[columna_grupos] == grupo_control]\n",
    "    variante = dataframe[dataframe[columna_grupos] == grupo_variante]\n",
    "\n",
    "    # Comprobar que ambos grupos tengan datos suficientes\n",
    "    if control.empty or variante.empty:\n",
    "        raise ValueError(\"Uno de los grupos no tiene datos suficientes para realizar el test.\")\n",
    "\n",
    "    # Realizar el test de Mann-Whitney para cada métrica\n",
    "    for metrica in metricas:\n",
    "        if metrica not in dataframe.columns:\n",
    "            print(f\"La métrica '{metrica}' no existe en el DataFrame.\")\n",
    "            continue\n",
    "\n",
    "        metrica_control = control[metrica]\n",
    "        metrica_variante = variante[metrica]\n",
    "\n",
    "        # Aplicar el test de Mann-Whitney\n",
    "        u_statistic, p_value = stats.mannwhitneyu(metrica_control, metrica_variante)\n",
    "\n",
    "        # Mostrar los resultados\n",
    "        if p_value < 0.05:\n",
    "            print(f\"Para la métrica '{metrica}', las medianas son diferentes (p = {p_value:.4f}).\")\n",
    "        else:\n",
    "            print(f\"Para la métrica '{metrica}', las medianas son iguales (p = {p_value:.4f}).\")\n",
    "\n",
    "\n",
    "test_man_whitney(df, ['salary']) "
   ]
  },
  {
   "cell_type": "markdown",
   "metadata": {},
   "source": [
    "### Rechazamos la hipótesis nula y afirmarmos que existe una relación entre el salario y la rotación de empleados."
   ]
  },
  {
   "cell_type": "code",
   "execution_count": 167,
   "metadata": {},
   "outputs": [],
   "source": [
    "full_time = df[df['standard_hours'] == 'Full Time']"
   ]
  },
  {
   "cell_type": "code",
   "execution_count": 168,
   "metadata": {},
   "outputs": [],
   "source": [
    "part_time = df[df['standard_hours'] == 'Part Time']"
   ]
  },
  {
   "cell_type": "code",
   "execution_count": 169,
   "metadata": {},
   "outputs": [
    {
     "data": {
      "image/png": "[encoded data removed]",
      "text/plain": [
       "<Figure size 640x480 with 1 Axes>"
      ]
     },
     "metadata": {},
     "output_type": "display_data"
    }
   ],
   "source": [
    "sns.histplot(x= 'salary', data= full_time, kde=True)\n",
    "plt.xlim(0, 210000); "
   ]
  },
  {
   "cell_type": "code",
   "execution_count": 170,
   "metadata": {},
   "outputs": [
    {
     "data": {
      "image/png": "[encoded data removed]",
      "text/plain": [
       "<Figure size 640x480 with 1 Axes>"
      ]
     },
     "metadata": {},
     "output_type": "display_data"
    }
   ],
   "source": [
    "sns.histplot(x= 'salary', data= part_time, kde= True)\n",
    "plt.xlim(5000, 110000); "
   ]
  },
  {
   "cell_type": "markdown",
   "metadata": {},
   "source": [
    "### Hacemos la prueba de M Whitney por separado, ya que no sabemos el equivalente del salario full time para los que trabajan a media jornada y podría afectar sobre cómo están distribuidos los salarios."
   ]
  },
  {
   "cell_type": "code",
   "execution_count": 171,
   "metadata": {},
   "outputs": [
    {
     "data": {
      "text/html": [
       "<div>\n",
       "<style scoped>\n",
       "    .dataframe tbody tr th:only-of-type {\n",
       "        vertical-align: middle;\n",
       "    }\n",
       "\n",
       "    .dataframe tbody tr th {\n",
       "        vertical-align: top;\n",
       "    }\n",
       "\n",
       "    .dataframe thead th {\n",
       "        text-align: right;\n",
       "    }\n",
       "</style>\n",
       "<table border=\"1\" class=\"dataframe\">\n",
       "  <thead>\n",
       "    <tr style=\"text-align: right;\">\n",
       "      <th></th>\n",
       "      <th>employee_number</th>\n",
       "      <th>attrition</th>\n",
       "      <th>job_level</th>\n",
       "      <th>job_role</th>\n",
       "      <th>department</th>\n",
       "      <th>monthly_income</th>\n",
       "      <th>salary</th>\n",
       "      <th>percent_salary_hike</th>\n",
       "      <th>training_times_last_year</th>\n",
       "      <th>stock_option_level</th>\n",
       "      <th>...</th>\n",
       "      <th>age</th>\n",
       "      <th>gender</th>\n",
       "      <th>marital_status</th>\n",
       "      <th>education</th>\n",
       "      <th>education_field</th>\n",
       "      <th>num_companies_worked</th>\n",
       "      <th>total_working_years</th>\n",
       "      <th>years_at_company</th>\n",
       "      <th>years_since_last_promotion</th>\n",
       "      <th>years_with_curr_manager</th>\n",
       "    </tr>\n",
       "  </thead>\n",
       "  <tbody>\n",
       "    <tr>\n",
       "      <th>0</th>\n",
       "      <td>1</td>\n",
       "      <td>No</td>\n",
       "      <td>5</td>\n",
       "      <td>research director</td>\n",
       "      <td>research &amp; development</td>\n",
       "      <td>16280.83</td>\n",
       "      <td>195370.00</td>\n",
       "      <td>13</td>\n",
       "      <td>5</td>\n",
       "      <td>0</td>\n",
       "      <td>...</td>\n",
       "      <td>52</td>\n",
       "      <td>M</td>\n",
       "      <td>NaN</td>\n",
       "      <td>3</td>\n",
       "      <td>other</td>\n",
       "      <td>7</td>\n",
       "      <td>NaN</td>\n",
       "      <td>20</td>\n",
       "      <td>15</td>\n",
       "      <td>15</td>\n",
       "    </tr>\n",
       "    <tr>\n",
       "      <th>1</th>\n",
       "      <td>2</td>\n",
       "      <td>No</td>\n",
       "      <td>5</td>\n",
       "      <td>manager</td>\n",
       "      <td>general</td>\n",
       "      <td>16665.83</td>\n",
       "      <td>199990.00</td>\n",
       "      <td>14</td>\n",
       "      <td>5</td>\n",
       "      <td>1</td>\n",
       "      <td>...</td>\n",
       "      <td>53</td>\n",
       "      <td>M</td>\n",
       "      <td>NaN</td>\n",
       "      <td>4</td>\n",
       "      <td>life sciences</td>\n",
       "      <td>0</td>\n",
       "      <td>34.0</td>\n",
       "      <td>33</td>\n",
       "      <td>11</td>\n",
       "      <td>9</td>\n",
       "    </tr>\n",
       "    <tr>\n",
       "      <th>2</th>\n",
       "      <td>3</td>\n",
       "      <td>No</td>\n",
       "      <td>5</td>\n",
       "      <td>manager</td>\n",
       "      <td>research &amp; development</td>\n",
       "      <td>16026.67</td>\n",
       "      <td>192320.00</td>\n",
       "      <td>11</td>\n",
       "      <td>3</td>\n",
       "      <td>0</td>\n",
       "      <td>...</td>\n",
       "      <td>43</td>\n",
       "      <td>M</td>\n",
       "      <td>married</td>\n",
       "      <td>2</td>\n",
       "      <td>technical degree</td>\n",
       "      <td>1</td>\n",
       "      <td>22.0</td>\n",
       "      <td>22</td>\n",
       "      <td>11</td>\n",
       "      <td>15</td>\n",
       "    </tr>\n",
       "    <tr>\n",
       "      <th>3</th>\n",
       "      <td>4</td>\n",
       "      <td>No</td>\n",
       "      <td>4</td>\n",
       "      <td>research director</td>\n",
       "      <td>research &amp; development</td>\n",
       "      <td>14307.50</td>\n",
       "      <td>171690.00</td>\n",
       "      <td>19</td>\n",
       "      <td>2</td>\n",
       "      <td>2</td>\n",
       "      <td>...</td>\n",
       "      <td>48</td>\n",
       "      <td>F</td>\n",
       "      <td>married</td>\n",
       "      <td>4</td>\n",
       "      <td>medical</td>\n",
       "      <td>3</td>\n",
       "      <td>NaN</td>\n",
       "      <td>20</td>\n",
       "      <td>5</td>\n",
       "      <td>6</td>\n",
       "    </tr>\n",
       "    <tr>\n",
       "      <th>4</th>\n",
       "      <td>5</td>\n",
       "      <td>No</td>\n",
       "      <td>4</td>\n",
       "      <td>sales executive</td>\n",
       "      <td>sales</td>\n",
       "      <td>12783.92</td>\n",
       "      <td>153407.04</td>\n",
       "      <td>12</td>\n",
       "      <td>5</td>\n",
       "      <td>1</td>\n",
       "      <td>...</td>\n",
       "      <td>47</td>\n",
       "      <td>F</td>\n",
       "      <td>divorced</td>\n",
       "      <td>3</td>\n",
       "      <td>technical degree</td>\n",
       "      <td>2</td>\n",
       "      <td>NaN</td>\n",
       "      <td>19</td>\n",
       "      <td>2</td>\n",
       "      <td>8</td>\n",
       "    </tr>\n",
       "    <tr>\n",
       "      <th>...</th>\n",
       "      <td>...</td>\n",
       "      <td>...</td>\n",
       "      <td>...</td>\n",
       "      <td>...</td>\n",
       "      <td>...</td>\n",
       "      <td>...</td>\n",
       "      <td>...</td>\n",
       "      <td>...</td>\n",
       "      <td>...</td>\n",
       "      <td>...</td>\n",
       "      <td>...</td>\n",
       "      <td>...</td>\n",
       "      <td>...</td>\n",
       "      <td>...</td>\n",
       "      <td>...</td>\n",
       "      <td>...</td>\n",
       "      <td>...</td>\n",
       "      <td>...</td>\n",
       "      <td>...</td>\n",
       "      <td>...</td>\n",
       "      <td>...</td>\n",
       "    </tr>\n",
       "    <tr>\n",
       "      <th>1597</th>\n",
       "      <td>1598</td>\n",
       "      <td>No</td>\n",
       "      <td>5</td>\n",
       "      <td>manager</td>\n",
       "      <td>general</td>\n",
       "      <td>15943.72</td>\n",
       "      <td>191324.62</td>\n",
       "      <td>13</td>\n",
       "      <td>4</td>\n",
       "      <td>1</td>\n",
       "      <td>...</td>\n",
       "      <td>43</td>\n",
       "      <td>M</td>\n",
       "      <td>NaN</td>\n",
       "      <td>3</td>\n",
       "      <td>other</td>\n",
       "      <td>1</td>\n",
       "      <td>24.0</td>\n",
       "      <td>24</td>\n",
       "      <td>14</td>\n",
       "      <td>9</td>\n",
       "    </tr>\n",
       "    <tr>\n",
       "      <th>1600</th>\n",
       "      <td>1601</td>\n",
       "      <td>Yes</td>\n",
       "      <td>2</td>\n",
       "      <td>sales executive</td>\n",
       "      <td>sales</td>\n",
       "      <td>4492.84</td>\n",
       "      <td>53914.08</td>\n",
       "      <td>16</td>\n",
       "      <td>3</td>\n",
       "      <td>0</td>\n",
       "      <td>...</td>\n",
       "      <td>56</td>\n",
       "      <td>M</td>\n",
       "      <td>single</td>\n",
       "      <td>1</td>\n",
       "      <td>medical</td>\n",
       "      <td>4</td>\n",
       "      <td>NaN</td>\n",
       "      <td>9</td>\n",
       "      <td>7</td>\n",
       "      <td>3</td>\n",
       "    </tr>\n",
       "    <tr>\n",
       "      <th>1608</th>\n",
       "      <td>1609</td>\n",
       "      <td>No</td>\n",
       "      <td>2</td>\n",
       "      <td>manufacturing director</td>\n",
       "      <td>research &amp; development</td>\n",
       "      <td>5604.17</td>\n",
       "      <td>67250.00</td>\n",
       "      <td>12</td>\n",
       "      <td>2</td>\n",
       "      <td>1</td>\n",
       "      <td>...</td>\n",
       "      <td>33</td>\n",
       "      <td>F</td>\n",
       "      <td>married</td>\n",
       "      <td>4</td>\n",
       "      <td>medical</td>\n",
       "      <td>1</td>\n",
       "      <td>8.0</td>\n",
       "      <td>8</td>\n",
       "      <td>6</td>\n",
       "      <td>3</td>\n",
       "    </tr>\n",
       "    <tr>\n",
       "      <th>1609</th>\n",
       "      <td>1610</td>\n",
       "      <td>Yes</td>\n",
       "      <td>3</td>\n",
       "      <td>sales executive</td>\n",
       "      <td>sales</td>\n",
       "      <td>8604.17</td>\n",
       "      <td>103250.00</td>\n",
       "      <td>11</td>\n",
       "      <td>6</td>\n",
       "      <td>1</td>\n",
       "      <td>...</td>\n",
       "      <td>37</td>\n",
       "      <td>M</td>\n",
       "      <td>married</td>\n",
       "      <td>1</td>\n",
       "      <td>life sciences</td>\n",
       "      <td>1</td>\n",
       "      <td>NaN</td>\n",
       "      <td>16</td>\n",
       "      <td>3</td>\n",
       "      <td>7</td>\n",
       "    </tr>\n",
       "    <tr>\n",
       "      <th>1613</th>\n",
       "      <td>1614</td>\n",
       "      <td>No</td>\n",
       "      <td>3</td>\n",
       "      <td>manufacturing director</td>\n",
       "      <td>research &amp; development</td>\n",
       "      <td>9037.50</td>\n",
       "      <td>108450.00</td>\n",
       "      <td>13</td>\n",
       "      <td>3</td>\n",
       "      <td>1</td>\n",
       "      <td>...</td>\n",
       "      <td>47</td>\n",
       "      <td>M</td>\n",
       "      <td>NaN</td>\n",
       "      <td>2</td>\n",
       "      <td>medical</td>\n",
       "      <td>6</td>\n",
       "      <td>NaN</td>\n",
       "      <td>8</td>\n",
       "      <td>0</td>\n",
       "      <td>7</td>\n",
       "    </tr>\n",
       "  </tbody>\n",
       "</table>\n",
       "<p>726 rows × 36 columns</p>\n",
       "</div>"
      ],
      "text/plain": [
       "      employee_number attrition  job_level                job_role  \\\n",
       "0                   1        No          5       research director   \n",
       "1                   2        No          5                 manager   \n",
       "2                   3        No          5                 manager   \n",
       "3                   4        No          4       research director   \n",
       "4                   5        No          4         sales executive   \n",
       "...               ...       ...        ...                     ...   \n",
       "1597             1598        No          5                 manager   \n",
       "1600             1601       Yes          2         sales executive   \n",
       "1608             1609        No          2  manufacturing director   \n",
       "1609             1610       Yes          3         sales executive   \n",
       "1613             1614        No          3  manufacturing director   \n",
       "\n",
       "                  department  monthly_income     salary  percent_salary_hike  \\\n",
       "0     research & development        16280.83  195370.00                   13   \n",
       "1                    general        16665.83  199990.00                   14   \n",
       "2     research & development        16026.67  192320.00                   11   \n",
       "3     research & development        14307.50  171690.00                   19   \n",
       "4                      sales        12783.92  153407.04                   12   \n",
       "...                      ...             ...        ...                  ...   \n",
       "1597                 general        15943.72  191324.62                   13   \n",
       "1600                   sales         4492.84   53914.08                   16   \n",
       "1608  research & development         5604.17   67250.00                   12   \n",
       "1609                   sales         8604.17  103250.00                   11   \n",
       "1613  research & development         9037.50  108450.00                   13   \n",
       "\n",
       "      training_times_last_year  stock_option_level  ...  age  gender  \\\n",
       "0                            5                   0  ...   52       M   \n",
       "1                            5                   1  ...   53       M   \n",
       "2                            3                   0  ...   43       M   \n",
       "3                            2                   2  ...   48       F   \n",
       "4                            5                   1  ...   47       F   \n",
       "...                        ...                 ...  ...  ...     ...   \n",
       "1597                         4                   1  ...   43       M   \n",
       "1600                         3                   0  ...   56       M   \n",
       "1608                         2                   1  ...   33       F   \n",
       "1609                         6                   1  ...   37       M   \n",
       "1613                         3                   1  ...   47       M   \n",
       "\n",
       "      marital_status education   education_field num_companies_worked  \\\n",
       "0                NaN         3             other                    7   \n",
       "1                NaN         4     life sciences                    0   \n",
       "2            married         2  technical degree                    1   \n",
       "3            married         4           medical                    3   \n",
       "4           divorced         3  technical degree                    2   \n",
       "...              ...       ...               ...                  ...   \n",
       "1597             NaN         3             other                    1   \n",
       "1600          single         1           medical                    4   \n",
       "1608         married         4           medical                    1   \n",
       "1609         married         1     life sciences                    1   \n",
       "1613             NaN         2           medical                    6   \n",
       "\n",
       "      total_working_years years_at_company  years_since_last_promotion  \\\n",
       "0                     NaN               20                          15   \n",
       "1                    34.0               33                          11   \n",
       "2                    22.0               22                          11   \n",
       "3                     NaN               20                           5   \n",
       "4                     NaN               19                           2   \n",
       "...                   ...              ...                         ...   \n",
       "1597                 24.0               24                          14   \n",
       "1600                  NaN                9                           7   \n",
       "1608                  8.0                8                           6   \n",
       "1609                  NaN               16                           3   \n",
       "1613                  NaN                8                           0   \n",
       "\n",
       "      years_with_curr_manager  \n",
       "0                          15  \n",
       "1                           9  \n",
       "2                          15  \n",
       "3                           6  \n",
       "4                           8  \n",
       "...                       ...  \n",
       "1597                        9  \n",
       "1600                        3  \n",
       "1608                        3  \n",
       "1609                        7  \n",
       "1613                        7  \n",
       "\n",
       "[726 rows x 36 columns]"
      ]
     },
     "execution_count": 171,
     "metadata": {},
     "output_type": "execute_result"
    }
   ],
   "source": [
    "full_time"
   ]
  },
  {
   "cell_type": "code",
   "execution_count": 172,
   "metadata": {},
   "outputs": [
    {
     "name": "stdout",
     "output_type": "stream",
     "text": [
      "Para la métrica 'salary', las medianas son diferentes (p = 0.0000).\n"
     ]
    }
   ],
   "source": [
    "# Prueba de Man Whitney para ver la relación entre el salario de los empleados part time y la rotación:\n",
    "\n",
    "test_man_whitney(part_time, ['salary'], grupo_control='No', grupo_variante='Yes')"
   ]
  },
  {
   "cell_type": "markdown",
   "metadata": {},
   "source": [
    "### ¿Existe relación entre el nivel de satisfacción del empleado con su worklifebalance y la rotación?"
   ]
  },
  {
   "cell_type": "code",
   "execution_count": 173,
   "metadata": {},
   "outputs": [
    {
     "data": {
      "text/plain": [
       "array([3., 2., 4., 1.])"
      ]
     },
     "execution_count": 173,
     "metadata": {},
     "output_type": "execute_result"
    }
   ],
   "source": [
    "df['work_life_balance'].unique()"
   ]
  },
  {
   "cell_type": "code",
   "execution_count": 174,
   "metadata": {},
   "outputs": [
    {
     "data": {
      "text/html": [
       "<div>\n",
       "<style scoped>\n",
       "    .dataframe tbody tr th:only-of-type {\n",
       "        vertical-align: middle;\n",
       "    }\n",
       "\n",
       "    .dataframe tbody tr th {\n",
       "        vertical-align: top;\n",
       "    }\n",
       "\n",
       "    .dataframe thead th {\n",
       "        text-align: right;\n",
       "    }\n",
       "</style>\n",
       "<table border=\"1\" class=\"dataframe\">\n",
       "  <thead>\n",
       "    <tr style=\"text-align: right;\">\n",
       "      <th></th>\n",
       "      <th>work_life_balance</th>\n",
       "      <th>work_life_balance_categoria</th>\n",
       "    </tr>\n",
       "  </thead>\n",
       "  <tbody>\n",
       "    <tr>\n",
       "      <th>0</th>\n",
       "      <td>3.0</td>\n",
       "      <td>Satisfecho</td>\n",
       "    </tr>\n",
       "    <tr>\n",
       "      <th>1</th>\n",
       "      <td>3.0</td>\n",
       "      <td>Satisfecho</td>\n",
       "    </tr>\n",
       "    <tr>\n",
       "      <th>2</th>\n",
       "      <td>3.0</td>\n",
       "      <td>Satisfecho</td>\n",
       "    </tr>\n",
       "    <tr>\n",
       "      <th>3</th>\n",
       "      <td>3.0</td>\n",
       "      <td>Satisfecho</td>\n",
       "    </tr>\n",
       "    <tr>\n",
       "      <th>4</th>\n",
       "      <td>3.0</td>\n",
       "      <td>Satisfecho</td>\n",
       "    </tr>\n",
       "    <tr>\n",
       "      <th>...</th>\n",
       "      <td>...</td>\n",
       "      <td>...</td>\n",
       "    </tr>\n",
       "    <tr>\n",
       "      <th>1609</th>\n",
       "      <td>3.0</td>\n",
       "      <td>Satisfecho</td>\n",
       "    </tr>\n",
       "    <tr>\n",
       "      <th>1610</th>\n",
       "      <td>2.0</td>\n",
       "      <td>Poco satisfecho</td>\n",
       "    </tr>\n",
       "    <tr>\n",
       "      <th>1611</th>\n",
       "      <td>3.0</td>\n",
       "      <td>Satisfecho</td>\n",
       "    </tr>\n",
       "    <tr>\n",
       "      <th>1612</th>\n",
       "      <td>3.0</td>\n",
       "      <td>Satisfecho</td>\n",
       "    </tr>\n",
       "    <tr>\n",
       "      <th>1613</th>\n",
       "      <td>3.0</td>\n",
       "      <td>Satisfecho</td>\n",
       "    </tr>\n",
       "  </tbody>\n",
       "</table>\n",
       "<p>1614 rows × 2 columns</p>\n",
       "</div>"
      ],
      "text/plain": [
       "      work_life_balance work_life_balance_categoria\n",
       "0                   3.0                  Satisfecho\n",
       "1                   3.0                  Satisfecho\n",
       "2                   3.0                  Satisfecho\n",
       "3                   3.0                  Satisfecho\n",
       "4                   3.0                  Satisfecho\n",
       "...                 ...                         ...\n",
       "1609                3.0                  Satisfecho\n",
       "1610                2.0             Poco satisfecho\n",
       "1611                3.0                  Satisfecho\n",
       "1612                3.0                  Satisfecho\n",
       "1613                3.0                  Satisfecho\n",
       "\n",
       "[1614 rows x 2 columns]"
      ]
     },
     "execution_count": 174,
     "metadata": {},
     "output_type": "execute_result"
    }
   ],
   "source": [
    "def categorizar_worklife_balance(valor):\n",
    "    if valor == 1:\n",
    "        return 'Nada satisfecho'\n",
    "    elif valor == 2:\n",
    "        return 'Poco satisfecho'\n",
    "    elif valor == 3:\n",
    "        return 'Satisfecho'\n",
    "    elif valor == 4:\n",
    "        return 'Muy satisfecho'\n",
    "    else:\n",
    "        return 'Desconocido'\n",
    "\n",
    "# Aplicar la función a la columna\n",
    "df['work_life_balance_categoria'] = df['work_life_balance'].apply(categorizar_worklife_balance)\n",
    "\n",
    "df[['work_life_balance', 'work_life_balance_categoria']]"
   ]
  },
  {
   "cell_type": "code",
   "execution_count": 175,
   "metadata": {},
   "outputs": [
    {
     "data": {
      "text/html": [
       "<div>\n",
       "<style scoped>\n",
       "    .dataframe tbody tr th:only-of-type {\n",
       "        vertical-align: middle;\n",
       "    }\n",
       "\n",
       "    .dataframe tbody tr th {\n",
       "        vertical-align: top;\n",
       "    }\n",
       "\n",
       "    .dataframe thead th {\n",
       "        text-align: right;\n",
       "    }\n",
       "</style>\n",
       "<table border=\"1\" class=\"dataframe\">\n",
       "  <thead>\n",
       "    <tr style=\"text-align: right;\">\n",
       "      <th>attrition</th>\n",
       "      <th>No</th>\n",
       "      <th>Yes</th>\n",
       "    </tr>\n",
       "    <tr>\n",
       "      <th>work_life_balance_categoria</th>\n",
       "      <th></th>\n",
       "      <th></th>\n",
       "    </tr>\n",
       "  </thead>\n",
       "  <tbody>\n",
       "    <tr>\n",
       "      <th>Muy satisfecho</th>\n",
       "      <td>128</td>\n",
       "      <td>27</td>\n",
       "    </tr>\n",
       "    <tr>\n",
       "      <th>Nada satisfecho</th>\n",
       "      <td>56</td>\n",
       "      <td>23</td>\n",
       "    </tr>\n",
       "    <tr>\n",
       "      <th>Poco satisfecho</th>\n",
       "      <td>296</td>\n",
       "      <td>63</td>\n",
       "    </tr>\n",
       "    <tr>\n",
       "      <th>Satisfecho</th>\n",
       "      <td>875</td>\n",
       "      <td>146</td>\n",
       "    </tr>\n",
       "  </tbody>\n",
       "</table>\n",
       "</div>"
      ],
      "text/plain": [
       "attrition                     No  Yes\n",
       "work_life_balance_categoria          \n",
       "Muy satisfecho               128   27\n",
       "Nada satisfecho               56   23\n",
       "Poco satisfecho              296   63\n",
       "Satisfecho                   875  146"
      ]
     },
     "execution_count": 175,
     "metadata": {},
     "output_type": "execute_result"
    }
   ],
   "source": [
    "tabla_contingencia1 = pd.crosstab(df[\"work_life_balance_categoria\"], df[\"attrition\"])\n",
    "tabla_contingencia1"
   ]
  },
  {
   "cell_type": "code",
   "execution_count": 176,
   "metadata": {},
   "outputs": [
    {
     "name": "stdout",
     "output_type": "stream",
     "text": [
      "Existe una relación entre el nivel de satisfacción con el work life balance y la rotación de empleados en la empresa.\n"
     ]
    }
   ],
   "source": [
    "_, p_value, _, _ = chi2_contingency(tabla_contingencia1)\n",
    "if p_value <= 0.05:\n",
    "    print('Existe una relación entre el nivel de satisfacción con el work life balance y la rotación de empleados en la empresa.')\n",
    "else:\n",
    "    print('No existe una relación entre el nivel de satisfacción con el work life balance y la rotación de empleados en la empresa.')"
   ]
  },
  {
   "cell_type": "markdown",
   "metadata": {},
   "source": [
    "El análisis sugiere que, en general, los empleados con menor satisfacción en su balance entre vida y trabajo (por ejemplo, \"Nada satisfechos\" y \"Poco satisfechos\") tienen una mayor probabilidad de irse (rotación).\n",
    "\n",
    "El grupo de empleados \"Muy satisfechos\" muestra una baja rotación, con mucho más empleados que se quedan.\n",
    "Los empleados \"Nada satisfechos\" y \"Poco satisfechos\" muestran una proporción relativamente alta de rotación, lo que sugiere que la insatisfacción con el balance vida-trabajo está asociada con una mayor probabilidad de abandonar la empresa."
   ]
  },
  {
   "cell_type": "markdown",
   "metadata": {},
   "source": [
    "### ¿Hay empleados de departamentos específicos con una rotación significativamente más alta en comparación con el resto?"
   ]
  },
  {
   "cell_type": "code",
   "execution_count": 177,
   "metadata": {},
   "outputs": [
    {
     "data": {
      "text/plain": [
       "Index(['employee_number', 'attrition', 'job_level', 'job_role', 'department',\n",
       "       'monthly_income', 'salary', 'percent_salary_hike',\n",
       "       'training_times_last_year', 'stock_option_level', 'hourly_rate',\n",
       "       'daily_rate', 'monthly_rate', 'standard_hours', 'overtime',\n",
       "       'business_travel', 'distance_from_home', 'remote_work',\n",
       "       'environment_satisfaction', 'job_involvement', 'job_satisfaction',\n",
       "       'satisfaction', 'performance_rating', 'relationship_satisfaction',\n",
       "       'work_life_balance', 'date_birth', 'age', 'gender', 'marital_status',\n",
       "       'education', 'education_field', 'num_companies_worked',\n",
       "       'total_working_years', 'years_at_company', 'years_since_last_promotion',\n",
       "       'years_with_curr_manager', 'work_life_balance_categoria'],\n",
       "      dtype='object')"
      ]
     },
     "execution_count": 177,
     "metadata": {},
     "output_type": "execute_result"
    }
   ],
   "source": [
    "df.columns"
   ]
  },
  {
   "cell_type": "code",
   "execution_count": 178,
   "metadata": {},
   "outputs": [
    {
     "data": {
      "text/html": [
       "<div>\n",
       "<style scoped>\n",
       "    .dataframe tbody tr th:only-of-type {\n",
       "        vertical-align: middle;\n",
       "    }\n",
       "\n",
       "    .dataframe tbody tr th {\n",
       "        vertical-align: top;\n",
       "    }\n",
       "\n",
       "    .dataframe thead th {\n",
       "        text-align: right;\n",
       "    }\n",
       "</style>\n",
       "<table border=\"1\" class=\"dataframe\">\n",
       "  <thead>\n",
       "    <tr style=\"text-align: right;\">\n",
       "      <th>attrition</th>\n",
       "      <th>No</th>\n",
       "      <th>Yes</th>\n",
       "    </tr>\n",
       "    <tr>\n",
       "      <th>department</th>\n",
       "      <th></th>\n",
       "      <th></th>\n",
       "    </tr>\n",
       "  </thead>\n",
       "  <tbody>\n",
       "    <tr>\n",
       "      <th>general</th>\n",
       "      <td>85</td>\n",
       "      <td>6</td>\n",
       "    </tr>\n",
       "    <tr>\n",
       "      <th>human resources</th>\n",
       "      <td>45</td>\n",
       "      <td>13</td>\n",
       "    </tr>\n",
       "    <tr>\n",
       "      <th>research &amp; development</th>\n",
       "      <td>860</td>\n",
       "      <td>141</td>\n",
       "    </tr>\n",
       "    <tr>\n",
       "      <th>sales</th>\n",
       "      <td>365</td>\n",
       "      <td>99</td>\n",
       "    </tr>\n",
       "  </tbody>\n",
       "</table>\n",
       "</div>"
      ],
      "text/plain": [
       "attrition                No  Yes\n",
       "department                      \n",
       "general                  85    6\n",
       "human resources          45   13\n",
       "research & development  860  141\n",
       "sales                   365   99"
      ]
     },
     "execution_count": 178,
     "metadata": {},
     "output_type": "execute_result"
    }
   ],
   "source": [
    "# Crear la tabla de contingencia entre departamento, rotación y satisfacción\n",
    "tabla_contingencia2 = pd.crosstab(\n",
    "    df['department'], df['attrition'])  \n",
    "\n",
    "tabla_contingencia2\n"
   ]
  },
  {
   "cell_type": "code",
   "execution_count": 179,
   "metadata": {},
   "outputs": [
    {
     "name": "stdout",
     "output_type": "stream",
     "text": [
      "Valor Chi-cuadrado: 20.274820329784614\n",
      "Valor p: 0.00014887425794656543\n",
      "Grados de libertad: 3\n",
      "Tabla esperada: \n",
      "[[ 76.39714994  14.60285006]\n",
      " [ 48.69268897   9.30731103]\n",
      " [840.36864932 160.63135068]\n",
      " [389.54151177  74.45848823]]\n"
     ]
    }
   ],
   "source": [
    "chi2, p_value, dof, expected = chi2_contingency(tabla_contingencia2)\n",
    "\n",
    "# Mostrar el resultado\n",
    "print(f\"Valor Chi-cuadrado: {chi2}\")\n",
    "print(f\"Valor p: {p_value}\")\n",
    "print(f\"Grados de libertad: {dof}\")\n",
    "print(f\"Tabla esperada: \\n{expected}\")\n"
   ]
  },
  {
   "cell_type": "markdown",
   "metadata": {},
   "source": [
    "La relación entre el departamento y la rotación de empleados es estadísticamente significativa. Esto sugiere que los empleados de diferentes departamentos tienen diferentes probabilidades de abandonar la empresa.\n",
    "\n",
    "Si desearas un análisis más detallado, podrías observar las frecuencias observadas versus las esperadas para ver qué departamentos tienen mayores o menores tasas de rotación de lo que se esperaría si no hubiera ninguna relación.\n",
    "\n",
    "Por ejemplo, en la tabla esperada, el departamento \"research & development\" tiene una cantidad significativa de empleados que permanecen (No), mientras que \"sales\" tiene una mayor cantidad de empleados que se van (Yes), en comparación con las frecuencias esperadas. Esto podría indicar que algunos departamentos tienen una rotación significativamente diferente a la media."
   ]
  },
  {
   "cell_type": "code",
   "execution_count": 181,
   "metadata": {},
   "outputs": [
    {
     "name": "stderr",
     "output_type": "stream",
     "text": [
      "/var/folders/n5/d44x7lvd7t5f1m5bfx4hvw7w0000gn/T/ipykernel_12519/1903216678.py:16: FutureWarning: \n",
      "\n",
      "Passing `palette` without assigning `hue` is deprecated and will be removed in v0.14.0. Assign the `y` variable to `hue` and set `legend=False` for the same effect.\n",
      "\n",
      "  sns.barplot(x='proporcion_rotacion', y='department', data=df, palette='viridis')\n"
     ]
    },
    {
     "data": {
      "image/png": "[encoded data removed]",
      "text/plain": [
       "<Figure size 1000x600 with 1 Axes>"
      ]
     },
     "metadata": {},
     "output_type": "display_data"
    }
   ],
   "source": [
    "data = {\n",
    "    'department': ['general', 'human resources', 'research & development', 'sales'],\n",
    "    'No': [85, 45, 860, 365],\n",
    "    'Yes': [6, 13, 141, 99]\n",
    "}\n",
    "df = pd.DataFrame(data)\n",
    "\n",
    "# Calcular la proporción de rotación\n",
    "df['proporcion_rotacion'] = df['Yes'] / (df['No'] + df['Yes'])\n",
    "\n",
    "# Ordenar por proporción de rotación\n",
    "df = df.sort_values(by='proporcion_rotacion', ascending=False)\n",
    "\n",
    "# Graficar\n",
    "plt.figure(figsize=(10, 6))\n",
    "sns.barplot(x='proporcion_rotacion', y='department', data=df, palette='viridis')\n",
    "plt.title('Proporción de rotación por departamento')\n",
    "plt.xlabel('Proporción de rotación')\n",
    "plt.ylabel('Departamento')\n",
    "plt.show()\n"
   ]
  }
 ],
 "metadata": {
  "kernelspec": {
   "display_name": "Python 3",
   "language": "python",
   "name": "python3"
  },
  "language_info": {
   "codemirror_mode": {
    "name": "ipython",
    "version": 3
   },
   "file_extension": ".py",
   "mimetype": "text/x-python",
   "name": "python",
   "nbconvert_exporter": "python",
   "pygments_lexer": "ipython3",
   "version": "3.9.6"
  }
 },
 "nbformat": 4,
 "nbformat_minor": 2
}
