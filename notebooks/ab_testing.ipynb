{
 "cells": [
  {
   "cell_type": "code",
   "execution_count": 253,
   "metadata": {},
   "outputs": [],
   "source": [
    "import pandas as pd\n",
    "import numpy as np\n",
    "from scipy.stats import shapiro, levene\n",
    "from scipy.stats import ttest_ind\n",
    "from scipy.stats import mannwhitneyu\n",
    "from scipy.stats import chi2_contingency\n",
    "import seaborn\n",
    "#import scipy.stats as stats\n",
    "import scipy.stats as stats\n",
    "from scipy.stats import shapiro, poisson, chisquare, expon, kstest\n",
    "# Visualización\n",
    "# ------------------------------------------------------------------------------\n",
    "import matplotlib.pyplot as plt\n",
    "import seaborn as sns"
   ]
  },
  {
   "cell_type": "code",
   "execution_count": 254,
   "metadata": {},
   "outputs": [
    {
     "data": {
      "text/html": [
       "<div>\n",
       "<style scoped>\n",
       "    .dataframe tbody tr th:only-of-type {\n",
       "        vertical-align: middle;\n",
       "    }\n",
       "\n",
       "    .dataframe tbody tr th {\n",
       "        vertical-align: top;\n",
       "    }\n",
       "\n",
       "    .dataframe thead th {\n",
       "        text-align: right;\n",
       "    }\n",
       "</style>\n",
       "<table border=\"1\" class=\"dataframe\">\n",
       "  <thead>\n",
       "    <tr style=\"text-align: right;\">\n",
       "      <th></th>\n",
       "      <th>employee_number</th>\n",
       "      <th>attrition</th>\n",
       "      <th>job_level</th>\n",
       "      <th>job_role</th>\n",
       "      <th>department</th>\n",
       "      <th>monthly_income</th>\n",
       "      <th>salary</th>\n",
       "      <th>percent_salary_hike</th>\n",
       "      <th>training_times_last_year</th>\n",
       "      <th>stock_option_level</th>\n",
       "      <th>...</th>\n",
       "      <th>age</th>\n",
       "      <th>gender</th>\n",
       "      <th>marital_status</th>\n",
       "      <th>education</th>\n",
       "      <th>education_field</th>\n",
       "      <th>num_companies_worked</th>\n",
       "      <th>total_working_years</th>\n",
       "      <th>years_at_company</th>\n",
       "      <th>years_since_last_promotion</th>\n",
       "      <th>years_with_curr_manager</th>\n",
       "    </tr>\n",
       "  </thead>\n",
       "  <tbody>\n",
       "    <tr>\n",
       "      <th>0</th>\n",
       "      <td>1</td>\n",
       "      <td>No</td>\n",
       "      <td>5</td>\n",
       "      <td>research director</td>\n",
       "      <td>research &amp; development</td>\n",
       "      <td>16280.83</td>\n",
       "      <td>195370.00</td>\n",
       "      <td>13</td>\n",
       "      <td>5</td>\n",
       "      <td>0</td>\n",
       "      <td>...</td>\n",
       "      <td>52</td>\n",
       "      <td>M</td>\n",
       "      <td>NaN</td>\n",
       "      <td>3</td>\n",
       "      <td>other</td>\n",
       "      <td>7</td>\n",
       "      <td>NaN</td>\n",
       "      <td>20</td>\n",
       "      <td>15</td>\n",
       "      <td>15</td>\n",
       "    </tr>\n",
       "    <tr>\n",
       "      <th>1</th>\n",
       "      <td>2</td>\n",
       "      <td>No</td>\n",
       "      <td>5</td>\n",
       "      <td>manager</td>\n",
       "      <td>general</td>\n",
       "      <td>16665.83</td>\n",
       "      <td>199990.00</td>\n",
       "      <td>14</td>\n",
       "      <td>5</td>\n",
       "      <td>1</td>\n",
       "      <td>...</td>\n",
       "      <td>53</td>\n",
       "      <td>M</td>\n",
       "      <td>NaN</td>\n",
       "      <td>4</td>\n",
       "      <td>life sciences</td>\n",
       "      <td>0</td>\n",
       "      <td>34.0</td>\n",
       "      <td>33</td>\n",
       "      <td>11</td>\n",
       "      <td>9</td>\n",
       "    </tr>\n",
       "    <tr>\n",
       "      <th>2</th>\n",
       "      <td>3</td>\n",
       "      <td>No</td>\n",
       "      <td>5</td>\n",
       "      <td>manager</td>\n",
       "      <td>research &amp; development</td>\n",
       "      <td>16026.67</td>\n",
       "      <td>192320.00</td>\n",
       "      <td>11</td>\n",
       "      <td>3</td>\n",
       "      <td>0</td>\n",
       "      <td>...</td>\n",
       "      <td>43</td>\n",
       "      <td>M</td>\n",
       "      <td>married</td>\n",
       "      <td>2</td>\n",
       "      <td>technical degree</td>\n",
       "      <td>1</td>\n",
       "      <td>22.0</td>\n",
       "      <td>22</td>\n",
       "      <td>11</td>\n",
       "      <td>15</td>\n",
       "    </tr>\n",
       "    <tr>\n",
       "      <th>3</th>\n",
       "      <td>4</td>\n",
       "      <td>No</td>\n",
       "      <td>4</td>\n",
       "      <td>research director</td>\n",
       "      <td>research &amp; development</td>\n",
       "      <td>14307.50</td>\n",
       "      <td>171690.00</td>\n",
       "      <td>19</td>\n",
       "      <td>2</td>\n",
       "      <td>2</td>\n",
       "      <td>...</td>\n",
       "      <td>48</td>\n",
       "      <td>F</td>\n",
       "      <td>married</td>\n",
       "      <td>4</td>\n",
       "      <td>medical</td>\n",
       "      <td>3</td>\n",
       "      <td>NaN</td>\n",
       "      <td>20</td>\n",
       "      <td>5</td>\n",
       "      <td>6</td>\n",
       "    </tr>\n",
       "    <tr>\n",
       "      <th>4</th>\n",
       "      <td>5</td>\n",
       "      <td>No</td>\n",
       "      <td>4</td>\n",
       "      <td>sales executive</td>\n",
       "      <td>sales</td>\n",
       "      <td>12783.92</td>\n",
       "      <td>153407.04</td>\n",
       "      <td>12</td>\n",
       "      <td>5</td>\n",
       "      <td>1</td>\n",
       "      <td>...</td>\n",
       "      <td>47</td>\n",
       "      <td>F</td>\n",
       "      <td>divorced</td>\n",
       "      <td>3</td>\n",
       "      <td>technical degree</td>\n",
       "      <td>2</td>\n",
       "      <td>NaN</td>\n",
       "      <td>19</td>\n",
       "      <td>2</td>\n",
       "      <td>8</td>\n",
       "    </tr>\n",
       "  </tbody>\n",
       "</table>\n",
       "<p>5 rows × 36 columns</p>\n",
       "</div>"
      ],
      "text/plain": [
       "   employee_number attrition  job_level           job_role  \\\n",
       "0                1        No          5  research director   \n",
       "1                2        No          5            manager   \n",
       "2                3        No          5            manager   \n",
       "3                4        No          4  research director   \n",
       "4                5        No          4    sales executive   \n",
       "\n",
       "               department  monthly_income     salary  percent_salary_hike  \\\n",
       "0  research & development        16280.83  195370.00                   13   \n",
       "1                 general        16665.83  199990.00                   14   \n",
       "2  research & development        16026.67  192320.00                   11   \n",
       "3  research & development        14307.50  171690.00                   19   \n",
       "4                   sales        12783.92  153407.04                   12   \n",
       "\n",
       "   training_times_last_year  stock_option_level  ...  age  gender  \\\n",
       "0                         5                   0  ...   52       M   \n",
       "1                         5                   1  ...   53       M   \n",
       "2                         3                   0  ...   43       M   \n",
       "3                         2                   2  ...   48       F   \n",
       "4                         5                   1  ...   47       F   \n",
       "\n",
       "   marital_status education   education_field num_companies_worked  \\\n",
       "0             NaN         3             other                    7   \n",
       "1             NaN         4     life sciences                    0   \n",
       "2         married         2  technical degree                    1   \n",
       "3         married         4           medical                    3   \n",
       "4        divorced         3  technical degree                    2   \n",
       "\n",
       "   total_working_years years_at_company  years_since_last_promotion  \\\n",
       "0                  NaN               20                          15   \n",
       "1                 34.0               33                          11   \n",
       "2                 22.0               22                          11   \n",
       "3                  NaN               20                           5   \n",
       "4                  NaN               19                           2   \n",
       "\n",
       "   years_with_curr_manager  \n",
       "0                       15  \n",
       "1                        9  \n",
       "2                       15  \n",
       "3                        6  \n",
       "4                        8  \n",
       "\n",
       "[5 rows x 36 columns]"
      ]
     },
     "execution_count": 254,
     "metadata": {},
     "output_type": "execute_result"
    }
   ],
   "source": [
    "df = pd.read_csv('../data/hr_raw_data_definitivo.csv', index_col=0)\n",
    "df.head()"
   ]
  },
  {
   "cell_type": "code",
   "execution_count": 255,
   "metadata": {},
   "outputs": [],
   "source": [
    "grupo_control = df[df['satisfaction'] == 'satisfied']"
   ]
  },
  {
   "cell_type": "code",
   "execution_count": 256,
   "metadata": {},
   "outputs": [],
   "source": [
    "grupo_variante = df[df['satisfaction'] == 'not satisfied']"
   ]
  },
  {
   "cell_type": "code",
   "execution_count": 257,
   "metadata": {},
   "outputs": [
    {
     "name": "stdout",
     "output_type": "stream",
     "text": [
      "13.668341708542714\n"
     ]
    }
   ],
   "source": [
    "grupo_control_porcentaje_rotacion = grupo_control[grupo_control['attrition'] == 'Yes'][\"employee_number\"].count()/grupo_control.shape[0]*100\n",
    "print(grupo_control_porcentaje_rotacion)"
   ]
  },
  {
   "cell_type": "code",
   "execution_count": 258,
   "metadata": {},
   "outputs": [
    {
     "name": "stdout",
     "output_type": "stream",
     "text": [
      "19.87075928917609\n"
     ]
    }
   ],
   "source": [
    "grupo_variante_porcentaje_rotacion = grupo_variante[grupo_variante['attrition'] == 'Yes'][\"employee_number\"].count()/grupo_variante.shape[0]*100\n",
    "print(grupo_variante_porcentaje_rotacion)"
   ]
  },
  {
   "cell_type": "markdown",
   "metadata": {},
   "source": [
    "### Marina y Fiona - 25.11.2024"
   ]
  },
  {
   "cell_type": "markdown",
   "metadata": {},
   "source": [
    "    H0 = No existe una relación entre el nivel de satisfacción en el trabajo y la rotación de empleados en la empresa.\n",
    "    H1 = Existe una relación entre el nivel de satisfacción en el trabajo y la rotación de empleados en la empresa."
   ]
  },
  {
   "cell_type": "code",
   "execution_count": 259,
   "metadata": {},
   "outputs": [],
   "source": [
    "'''Hacemos una tabla de contingencia, ya que son dos variables categóricas, para ver las proporciones.'''\n",
    "tabla_contingencia = pd.crosstab(df[\"satisfaction\"], df[\"attrition\"])"
   ]
  },
  {
   "cell_type": "code",
   "execution_count": 260,
   "metadata": {},
   "outputs": [
    {
     "data": {
      "text/html": [
       "<div>\n",
       "<style scoped>\n",
       "    .dataframe tbody tr th:only-of-type {\n",
       "        vertical-align: middle;\n",
       "    }\n",
       "\n",
       "    .dataframe tbody tr th {\n",
       "        vertical-align: top;\n",
       "    }\n",
       "\n",
       "    .dataframe thead th {\n",
       "        text-align: right;\n",
       "    }\n",
       "</style>\n",
       "<table border=\"1\" class=\"dataframe\">\n",
       "  <thead>\n",
       "    <tr style=\"text-align: right;\">\n",
       "      <th>attrition</th>\n",
       "      <th>No</th>\n",
       "      <th>Yes</th>\n",
       "    </tr>\n",
       "    <tr>\n",
       "      <th>satisfaction</th>\n",
       "      <th></th>\n",
       "      <th></th>\n",
       "    </tr>\n",
       "  </thead>\n",
       "  <tbody>\n",
       "    <tr>\n",
       "      <th>not satisfied</th>\n",
       "      <td>496</td>\n",
       "      <td>123</td>\n",
       "    </tr>\n",
       "    <tr>\n",
       "      <th>satisfied</th>\n",
       "      <td>859</td>\n",
       "      <td>136</td>\n",
       "    </tr>\n",
       "  </tbody>\n",
       "</table>\n",
       "</div>"
      ],
      "text/plain": [
       "attrition       No  Yes\n",
       "satisfaction           \n",
       "not satisfied  496  123\n",
       "satisfied      859  136"
      ]
     },
     "execution_count": 260,
     "metadata": {},
     "output_type": "execute_result"
    }
   ],
   "source": [
    "tabla_contingencia"
   ]
  },
  {
   "cell_type": "code",
   "execution_count": 262,
   "metadata": {},
   "outputs": [
    {
     "data": {
      "image/png": "[encoded data removed]",
      "text/plain": [
       "<Figure size 640x480 with 1 Axes>"
      ]
     },
     "metadata": {},
     "output_type": "display_data"
    }
   ],
   "source": [
    "# Crear el gráfico de barras\n",
    "plot = sns.countplot(x=\"satisfaction\", data=df, hue='attrition', palette=['#FFB6C1', '#FF6347'])\n",
    "\n",
    "# Títulos y etiquetas\n",
    "plot.set_title(\"Relación entre nivel de satisfacción y rotación\", fontsize=16)\n",
    "plot.set_xlabel(\"Nivel de satisfacción / Rotación\", fontsize=12)\n",
    "\n",
    "# Mostrar el gráfico\n",
    "plt.show()\n"
   ]
  },
  {
   "cell_type": "code",
   "execution_count": null,
   "metadata": {},
   "outputs": [
    {
     "name": "stdout",
     "output_type": "stream",
     "text": [
      "Existe una relación entre el nivel de satisfacción en el trabajo y la rotación de empleados en la empresa.\n"
     ]
    }
   ],
   "source": [
    "'''Confirmar si nos quedamos con la H0 o la H1. En este caso calculamos el chi2 al tratarse de variables categóricas (proporciones).'''\n",
    "\n",
    "_, p_value, _, _ = chi2_contingency(tabla_contingencia)\n",
    "if p_value <= 0.05:\n",
    "    print('Existe una relación entre el nivel de satisfacción en el trabajo y la rotación de empleados en la empresa.')\n",
    "else:\n",
    "    print('No existe una relación entre el nivel de satisfacción en el trabajo y la rotación de empleados en la empresa.')"
   ]
  },
  {
   "cell_type": "markdown",
   "metadata": {},
   "source": [
    "Rechazamos H0 y nos quedamos con la H1 - Existe una relación significativa entre el nivel de satisfacción y la rotación. "
   ]
  },
  {
   "cell_type": "markdown",
   "metadata": {},
   "source": [
    "### ¿Existe relación entre el salario y el nivel de rotación de los empleados?\n",
    "    H0 = No existe relación entre el salario y el nivel de rotación de os empleados.\n",
    "    H1 = Existe relación entre el salario y el nivel de rotación de os empleados."
   ]
  },
  {
   "cell_type": "code",
   "execution_count": null,
   "metadata": {},
   "outputs": [],
   "source": [
    "grupo_control_rotacion = df[df['attrition'] == 'No']"
   ]
  },
  {
   "cell_type": "code",
   "execution_count": null,
   "metadata": {},
   "outputs": [],
   "source": [
    "grupo_variante_rotacion = df[df['attrition'] == 'Yes']"
   ]
  },
  {
   "cell_type": "code",
   "execution_count": null,
   "metadata": {},
   "outputs": [
    {
     "data": {
      "image/png": "[encoded data removed]",
      "text/plain": [
       "<Figure size 640x480 with 1 Axes>"
      ]
     },
     "metadata": {},
     "output_type": "display_data"
    }
   ],
   "source": [
    "'''Visualización distribución salarios de empleados satisfechos.'''\n",
    "sns.histplot(x= 'salary', data= grupo_control_rotacion, kde=True)\n",
    "plt.xlim(0, 200000); "
   ]
  },
  {
   "cell_type": "code",
   "execution_count": null,
   "metadata": {},
   "outputs": [
    {
     "data": {
      "image/png": "[encoded data removed]",
      "text/plain": [
       "<Figure size 640x480 with 1 Axes>"
      ]
     },
     "metadata": {},
     "output_type": "display_data"
    }
   ],
   "source": [
    "sns.boxplot(x= 'salary', data= grupo_control_rotacion)\n",
    "plt.xlim(0, 200000); "
   ]
  },
  {
   "cell_type": "code",
   "execution_count": null,
   "metadata": {},
   "outputs": [
    {
     "data": {
      "image/png": "[encoded data removed]",
      "text/plain": [
       "<Figure size 640x480 with 1 Axes>"
      ]
     },
     "metadata": {},
     "output_type": "display_data"
    }
   ],
   "source": [
    "'''Visualización distribución salarios de empleados que se han ido de la empresa.'''\n",
    "sns.histplot(x= 'salary', data= grupo_variante_rotacion, kde=True)\n",
    "plt.xlim(0, 200000); "
   ]
  },
  {
   "cell_type": "code",
   "execution_count": null,
   "metadata": {},
   "outputs": [
    {
     "data": {
      "image/png": "[encoded data removed]",
      "text/plain": [
       "<Figure size 640x480 with 1 Axes>"
      ]
     },
     "metadata": {},
     "output_type": "display_data"
    }
   ],
   "source": [
    "sns.boxplot(x= 'salary', data= grupo_variante_rotacion)\n",
    "plt.xlim(0, 200000); "
   ]
  },
  {
   "cell_type": "code",
   "execution_count": null,
   "metadata": {},
   "outputs": [],
   "source": [
    "def normalidad(dataframe, columna):\n",
    "\n",
    "    statistic, p_value = stats.shapiro(dataframe[columna])\n",
    "    if p_value > 0.05:\n",
    "        print(f\"Para la columna {columna} los datos siguen una distribución normal.\")\n",
    "    else:\n",
    "        print(f\"Para la columna {columna} los datos no siguen una distribución normal.\")"
   ]
  },
  {
   "cell_type": "code",
   "execution_count": null,
   "metadata": {},
   "outputs": [
    {
     "name": "stdout",
     "output_type": "stream",
     "text": [
      "Para la columna ['salary'] los datos no siguen una distribución normal.\n"
     ]
    }
   ],
   "source": [
    "'''¿Siguen los datos salariales de los empleados que siguen en la empresa una distribución normal?'''\n",
    "normalidad(grupo_control_rotacion, ['salary'])"
   ]
  },
  {
   "cell_type": "code",
   "execution_count": null,
   "metadata": {},
   "outputs": [
    {
     "name": "stdout",
     "output_type": "stream",
     "text": [
      "Para la columna ['salary'] los datos no siguen una distribución normal.\n"
     ]
    }
   ],
   "source": [
    "'''¿Siguen los datos salariales de los empleados que se han ido de la empresa una distribución normal?'''\n",
    "normalidad(grupo_variante_rotacion, ['salary'])"
   ]
  },
  {
   "cell_type": "code",
   "execution_count": null,
   "metadata": {},
   "outputs": [
    {
     "name": "stdout",
     "output_type": "stream",
     "text": [
      "Para la métrica 'salary', las medianas son diferentes (p = 0.0000).\n"
     ]
    }
   ],
   "source": [
    "def test_man_whitney(dataframe, metricas, columna_grupos=\"attrition\", grupo_control=\"No\", grupo_variante=\"Yes\"):\n",
    "    # Verificar si la columna tiene los valores esperados\n",
    "    grupos = dataframe[columna_grupos].unique()\n",
    "    if not {grupo_control, grupo_variante}.issubset(grupos):\n",
    "        raise ValueError(f\"La columna '{columna_grupos}' debe contener los valores '{grupo_control}' y '{grupo_variante}'.\")\n",
    "\n",
    "    # Filtrar los datos para los dos grupos\n",
    "    control = dataframe[dataframe[columna_grupos] == grupo_control]\n",
    "    variante = dataframe[dataframe[columna_grupos] == grupo_variante]\n",
    "\n",
    "    # Comprobar que ambos grupos tengan datos suficientes\n",
    "    if control.empty or variante.empty:\n",
    "        raise ValueError(\"Uno de los grupos no tiene datos suficientes para realizar el test.\")\n",
    "\n",
    "    # Realizar el test de Mann-Whitney para cada métrica\n",
    "    for metrica in metricas:\n",
    "        if metrica not in dataframe.columns:\n",
    "            print(f\"La métrica '{metrica}' no existe en el DataFrame.\")\n",
    "            continue\n",
    "\n",
    "        metrica_control = control[metrica]\n",
    "        metrica_variante = variante[metrica]\n",
    "\n",
    "        # Aplicar el test de Mann-Whitney\n",
    "        u_statistic, p_value = stats.mannwhitneyu(metrica_control, metrica_variante)\n",
    "\n",
    "        # Mostrar los resultados\n",
    "        if p_value < 0.05:\n",
    "            print(f\"Para la métrica '{metrica}', las medianas son diferentes (p = {p_value:.4f}).\")\n",
    "        else:\n",
    "            print(f\"Para la métrica '{metrica}', las medianas son iguales (p = {p_value:.4f}).\")\n",
    "\n",
    "\n",
    "test_man_whitney(df, ['salary']) "
   ]
  },
  {
   "cell_type": "code",
   "execution_count": 263,
   "metadata": {},
   "outputs": [],
   "source": [
    "df_salary = df[['salary', 'attrition']]"
   ]
  },
  {
   "cell_type": "code",
   "execution_count": 264,
   "metadata": {},
   "outputs": [
    {
     "data": {
      "text/html": [
       "<div>\n",
       "<style scoped>\n",
       "    .dataframe tbody tr th:only-of-type {\n",
       "        vertical-align: middle;\n",
       "    }\n",
       "\n",
       "    .dataframe tbody tr th {\n",
       "        vertical-align: top;\n",
       "    }\n",
       "\n",
       "    .dataframe thead th {\n",
       "        text-align: right;\n",
       "    }\n",
       "</style>\n",
       "<table border=\"1\" class=\"dataframe\">\n",
       "  <thead>\n",
       "    <tr style=\"text-align: right;\">\n",
       "      <th></th>\n",
       "      <th>salary</th>\n",
       "      <th>attrition</th>\n",
       "    </tr>\n",
       "  </thead>\n",
       "  <tbody>\n",
       "    <tr>\n",
       "      <th>0</th>\n",
       "      <td>195370.00</td>\n",
       "      <td>No</td>\n",
       "    </tr>\n",
       "    <tr>\n",
       "      <th>1</th>\n",
       "      <td>199990.00</td>\n",
       "      <td>No</td>\n",
       "    </tr>\n",
       "    <tr>\n",
       "      <th>2</th>\n",
       "      <td>192320.00</td>\n",
       "      <td>No</td>\n",
       "    </tr>\n",
       "    <tr>\n",
       "      <th>3</th>\n",
       "      <td>171690.00</td>\n",
       "      <td>No</td>\n",
       "    </tr>\n",
       "    <tr>\n",
       "      <th>4</th>\n",
       "      <td>153407.04</td>\n",
       "      <td>No</td>\n",
       "    </tr>\n",
       "    <tr>\n",
       "      <th>...</th>\n",
       "      <td>...</td>\n",
       "      <td>...</td>\n",
       "    </tr>\n",
       "    <tr>\n",
       "      <th>1609</th>\n",
       "      <td>103250.00</td>\n",
       "      <td>Yes</td>\n",
       "    </tr>\n",
       "    <tr>\n",
       "      <th>1610</th>\n",
       "      <td>44470.00</td>\n",
       "      <td>No</td>\n",
       "    </tr>\n",
       "    <tr>\n",
       "      <th>1611</th>\n",
       "      <td>100071.84</td>\n",
       "      <td>No</td>\n",
       "    </tr>\n",
       "    <tr>\n",
       "      <th>1612</th>\n",
       "      <td>53914.11</td>\n",
       "      <td>No</td>\n",
       "    </tr>\n",
       "    <tr>\n",
       "      <th>1613</th>\n",
       "      <td>108450.00</td>\n",
       "      <td>No</td>\n",
       "    </tr>\n",
       "  </tbody>\n",
       "</table>\n",
       "<p>1614 rows × 2 columns</p>\n",
       "</div>"
      ],
      "text/plain": [
       "         salary attrition\n",
       "0     195370.00        No\n",
       "1     199990.00        No\n",
       "2     192320.00        No\n",
       "3     171690.00        No\n",
       "4     153407.04        No\n",
       "...         ...       ...\n",
       "1609  103250.00       Yes\n",
       "1610   44470.00        No\n",
       "1611  100071.84        No\n",
       "1612   53914.11        No\n",
       "1613  108450.00        No\n",
       "\n",
       "[1614 rows x 2 columns]"
      ]
     },
     "execution_count": 264,
     "metadata": {},
     "output_type": "execute_result"
    }
   ],
   "source": [
    "df_salary"
   ]
  },
  {
   "cell_type": "code",
   "execution_count": 267,
   "metadata": {},
   "outputs": [
    {
     "data": {
      "image/png": "[encoded data removed]",
      "text/plain": [
       "<Figure size 640x480 with 1 Axes>"
      ]
     },
     "metadata": {},
     "output_type": "display_data"
    }
   ],
   "source": [
    "# Suponiendo que df es tu DataFrame\n",
    "# df = pd.DataFrame(...)\n",
    "\n",
    "# Asignar colores diferentes según la columna 'attrition'\n",
    "sns.scatterplot(data=df, x='salary', y='department', hue='attrition', palette=[\"#FF6347\", \"#1f77b4\"])\n",
    "\n",
    "# Añadir títulos y etiquetas\n",
    "plt.title('Distribución del salario según la rotación de empleados', fontsize=16)\n",
    "plt.xlabel('Salario', fontsize=12)\n",
    "plt.ylabel('Índice', fontsize=12)\n",
    "plt.xlim(0, 200000); \n",
    "\n",
    "# Mostrar el gráfico\n",
    "plt.show()\n"
   ]
  },
  {
   "cell_type": "code",
   "execution_count": 285,
   "metadata": {},
   "outputs": [],
   "source": [
    "colores = [\"#FF007F\", \"#FF4D6A\", \"#FF1C45\", \"#FF0000\", \"#E50000\"]"
   ]
  },
  {
   "cell_type": "code",
   "execution_count": 273,
   "metadata": {},
   "outputs": [],
   "source": [
    "df_salario_dep = df.groupby(['department', 'attrition'])['salary'].mean().reset_index()"
   ]
  },
  {
   "cell_type": "code",
   "execution_count": 292,
   "metadata": {},
   "outputs": [
    {
     "name": "stderr",
     "output_type": "stream",
     "text": [
      "/var/folders/n5/d44x7lvd7t5f1m5bfx4hvw7w0000gn/T/ipykernel_12519/174269663.py:1: UserWarning: The palette list has more values (5) than needed (2), which may not be intended.\n",
      "  sns.barplot(x='department', y='salary', hue='attrition', data=df_salario_dep, palette=colores)\n"
     ]
    },
    {
     "data": {
      "image/png": "[encoded data removed]",
      "text/plain": [
       "<Figure size 640x480 with 1 Axes>"
      ]
     },
     "metadata": {},
     "output_type": "display_data"
    }
   ],
   "source": [
    "sns.barplot(x='department', y='salary', hue='attrition', data=df_salario_dep, palette=colores)\n",
    "plt.title('Distribución del salario por departamento según la rotación de empleados', fontsize=16)\n",
    "plt.xlabel('department', fontsize=12)\n",
    "plt.ylabel('salary', fontsize=12)\n",
    "plt.xticks(rotation=90);"
   ]
  },
  {
   "cell_type": "code",
   "execution_count": 286,
   "metadata": {},
   "outputs": [],
   "source": [
    "df_salario = df.groupby('attrition')['salary'].mean().reset_index()"
   ]
  },
  {
   "cell_type": "code",
   "execution_count": 291,
   "metadata": {},
   "outputs": [
    {
     "name": "stderr",
     "output_type": "stream",
     "text": [
      "/var/folders/n5/d44x7lvd7t5f1m5bfx4hvw7w0000gn/T/ipykernel_12519/250333469.py:1: FutureWarning: \n",
      "\n",
      "Passing `palette` without assigning `hue` is deprecated and will be removed in v0.14.0. Assign the `x` variable to `hue` and set `legend=False` for the same effect.\n",
      "\n",
      "  sns.barplot(x='attrition', y='salary', data=df_salario, palette=colores)\n",
      "/var/folders/n5/d44x7lvd7t5f1m5bfx4hvw7w0000gn/T/ipykernel_12519/250333469.py:1: UserWarning: The palette list has more values (5) than needed (2), which may not be intended.\n",
      "  sns.barplot(x='attrition', y='salary', data=df_salario, palette=colores)\n"
     ]
    },
    {
     "data": {
      "image/png": "[encoded data removed]",
      "text/plain": [
       "<Figure size 640x480 with 1 Axes>"
      ]
     },
     "metadata": {},
     "output_type": "display_data"
    }
   ],
   "source": [
    "sns.barplot(x='attrition', y='salary', data=df_salario, palette=colores)\n",
    "plt.title('Distribución de la media salarial según la rotación de empleados', fontsize=16)\n",
    "plt.xlabel('attrition', fontsize=12)\n",
    "plt.ylabel('salary', fontsize=12)\n",
    "plt.xticks(rotation=90);"
   ]
  },
  {
   "cell_type": "markdown",
   "metadata": {},
   "source": [
    "### Rechazamos la hipótesis nula y afirmarmos que existe una relación entre el salario y la rotación de empleados."
   ]
  },
  {
   "cell_type": "code",
   "execution_count": null,
   "metadata": {},
   "outputs": [],
   "source": [
    "full_time = df[df['standard_hours'] == 'Full Time']"
   ]
  },
  {
   "cell_type": "code",
   "execution_count": null,
   "metadata": {},
   "outputs": [],
   "source": [
    "part_time = df[df['standard_hours'] == 'Part Time']"
   ]
  },
  {
   "cell_type": "code",
   "execution_count": null,
   "metadata": {},
   "outputs": [
    {
     "data": {
      "image/png": "[encoded data removed]",
      "text/plain": [
       "<Figure size 640x480 with 1 Axes>"
      ]
     },
     "metadata": {},
     "output_type": "display_data"
    }
   ],
   "source": [
    "sns.histplot(x= 'salary', data= full_time, kde=True)\n",
    "plt.xlim(0, 210000); "
   ]
  },
  {
   "cell_type": "code",
   "execution_count": null,
   "metadata": {},
   "outputs": [
    {
     "data": {
      "image/png": "[encoded data removed]",
      "text/plain": [
       "<Figure size 640x480 with 1 Axes>"
      ]
     },
     "metadata": {},
     "output_type": "display_data"
    }
   ],
   "source": [
    "sns.histplot(x= 'salary', data= part_time, kde= True)\n",
    "plt.xlim(5000, 110000); "
   ]
  },
  {
   "cell_type": "markdown",
   "metadata": {},
   "source": [
    "### Hacemos la prueba de M Whitney por separado, ya que no sabemos el equivalente del salario full time para los que trabajan a media jornada y podría afectar sobre cómo están distribuidos los salarios."
   ]
  },
  {
   "cell_type": "code",
   "execution_count": null,
   "metadata": {},
   "outputs": [
    {
     "name": "stdout",
     "output_type": "stream",
     "text": [
      "Para la métrica 'salary', las medianas son diferentes (p = 0.0000).\n"
     ]
    }
   ],
   "source": [
    "# Prueba de Man Whitney para ver la relación entre el salario de los empleados part time y la rotación:\n",
    "\n",
    "test_man_whitney(part_time, ['salary'], grupo_control='No', grupo_variante='Yes')"
   ]
  },
  {
   "cell_type": "markdown",
   "metadata": {},
   "source": [
    "### ¿Existe relación entre el nivel de satisfacción del empleado con su worklifebalance y la rotación?"
   ]
  },
  {
   "cell_type": "code",
   "execution_count": null,
   "metadata": {},
   "outputs": [
    {
     "data": {
      "text/plain": [
       "array([3., 2., 4., 1.])"
      ]
     },
     "execution_count": 216,
     "metadata": {},
     "output_type": "execute_result"
    }
   ],
   "source": [
    "df['work_life_balance'].unique()"
   ]
  },
  {
   "cell_type": "code",
   "execution_count": null,
   "metadata": {},
   "outputs": [
    {
     "data": {
      "text/html": [
       "<div>\n",
       "<style scoped>\n",
       "    .dataframe tbody tr th:only-of-type {\n",
       "        vertical-align: middle;\n",
       "    }\n",
       "\n",
       "    .dataframe tbody tr th {\n",
       "        vertical-align: top;\n",
       "    }\n",
       "\n",
       "    .dataframe thead th {\n",
       "        text-align: right;\n",
       "    }\n",
       "</style>\n",
       "<table border=\"1\" class=\"dataframe\">\n",
       "  <thead>\n",
       "    <tr style=\"text-align: right;\">\n",
       "      <th></th>\n",
       "      <th>work_life_balance</th>\n",
       "      <th>work_life_balance_categoria</th>\n",
       "    </tr>\n",
       "  </thead>\n",
       "  <tbody>\n",
       "    <tr>\n",
       "      <th>0</th>\n",
       "      <td>3.0</td>\n",
       "      <td>Satisfecho</td>\n",
       "    </tr>\n",
       "    <tr>\n",
       "      <th>1</th>\n",
       "      <td>3.0</td>\n",
       "      <td>Satisfecho</td>\n",
       "    </tr>\n",
       "    <tr>\n",
       "      <th>2</th>\n",
       "      <td>3.0</td>\n",
       "      <td>Satisfecho</td>\n",
       "    </tr>\n",
       "    <tr>\n",
       "      <th>3</th>\n",
       "      <td>3.0</td>\n",
       "      <td>Satisfecho</td>\n",
       "    </tr>\n",
       "    <tr>\n",
       "      <th>4</th>\n",
       "      <td>3.0</td>\n",
       "      <td>Satisfecho</td>\n",
       "    </tr>\n",
       "    <tr>\n",
       "      <th>...</th>\n",
       "      <td>...</td>\n",
       "      <td>...</td>\n",
       "    </tr>\n",
       "    <tr>\n",
       "      <th>1609</th>\n",
       "      <td>3.0</td>\n",
       "      <td>Satisfecho</td>\n",
       "    </tr>\n",
       "    <tr>\n",
       "      <th>1610</th>\n",
       "      <td>2.0</td>\n",
       "      <td>Poco satisfecho</td>\n",
       "    </tr>\n",
       "    <tr>\n",
       "      <th>1611</th>\n",
       "      <td>3.0</td>\n",
       "      <td>Satisfecho</td>\n",
       "    </tr>\n",
       "    <tr>\n",
       "      <th>1612</th>\n",
       "      <td>3.0</td>\n",
       "      <td>Satisfecho</td>\n",
       "    </tr>\n",
       "    <tr>\n",
       "      <th>1613</th>\n",
       "      <td>3.0</td>\n",
       "      <td>Satisfecho</td>\n",
       "    </tr>\n",
       "  </tbody>\n",
       "</table>\n",
       "<p>1614 rows × 2 columns</p>\n",
       "</div>"
      ],
      "text/plain": [
       "      work_life_balance work_life_balance_categoria\n",
       "0                   3.0                  Satisfecho\n",
       "1                   3.0                  Satisfecho\n",
       "2                   3.0                  Satisfecho\n",
       "3                   3.0                  Satisfecho\n",
       "4                   3.0                  Satisfecho\n",
       "...                 ...                         ...\n",
       "1609                3.0                  Satisfecho\n",
       "1610                2.0             Poco satisfecho\n",
       "1611                3.0                  Satisfecho\n",
       "1612                3.0                  Satisfecho\n",
       "1613                3.0                  Satisfecho\n",
       "\n",
       "[1614 rows x 2 columns]"
      ]
     },
     "execution_count": 217,
     "metadata": {},
     "output_type": "execute_result"
    }
   ],
   "source": [
    "def categorizar_worklife_balance(valor):\n",
    "    if valor == 1:\n",
    "        return 'Nada satisfecho'\n",
    "    elif valor == 2:\n",
    "        return 'Poco satisfecho'\n",
    "    elif valor == 3:\n",
    "        return 'Satisfecho'\n",
    "    elif valor == 4:\n",
    "        return 'Muy satisfecho'\n",
    "    else:\n",
    "        return 'Desconocido'\n",
    "\n",
    "# Aplicar la función a la columna\n",
    "df['work_life_balance_categoria'] = df['work_life_balance'].apply(categorizar_worklife_balance)\n",
    "\n",
    "df[['work_life_balance', 'work_life_balance_categoria']]"
   ]
  },
  {
   "cell_type": "code",
   "execution_count": null,
   "metadata": {},
   "outputs": [
    {
     "data": {
      "text/html": [
       "<div>\n",
       "<style scoped>\n",
       "    .dataframe tbody tr th:only-of-type {\n",
       "        vertical-align: middle;\n",
       "    }\n",
       "\n",
       "    .dataframe tbody tr th {\n",
       "        vertical-align: top;\n",
       "    }\n",
       "\n",
       "    .dataframe thead th {\n",
       "        text-align: right;\n",
       "    }\n",
       "</style>\n",
       "<table border=\"1\" class=\"dataframe\">\n",
       "  <thead>\n",
       "    <tr style=\"text-align: right;\">\n",
       "      <th>attrition</th>\n",
       "      <th>No</th>\n",
       "      <th>Yes</th>\n",
       "    </tr>\n",
       "    <tr>\n",
       "      <th>work_life_balance_categoria</th>\n",
       "      <th></th>\n",
       "      <th></th>\n",
       "    </tr>\n",
       "  </thead>\n",
       "  <tbody>\n",
       "    <tr>\n",
       "      <th>Muy satisfecho</th>\n",
       "      <td>128</td>\n",
       "      <td>27</td>\n",
       "    </tr>\n",
       "    <tr>\n",
       "      <th>Nada satisfecho</th>\n",
       "      <td>56</td>\n",
       "      <td>23</td>\n",
       "    </tr>\n",
       "    <tr>\n",
       "      <th>Poco satisfecho</th>\n",
       "      <td>296</td>\n",
       "      <td>63</td>\n",
       "    </tr>\n",
       "    <tr>\n",
       "      <th>Satisfecho</th>\n",
       "      <td>875</td>\n",
       "      <td>146</td>\n",
       "    </tr>\n",
       "  </tbody>\n",
       "</table>\n",
       "</div>"
      ],
      "text/plain": [
       "attrition                     No  Yes\n",
       "work_life_balance_categoria          \n",
       "Muy satisfecho               128   27\n",
       "Nada satisfecho               56   23\n",
       "Poco satisfecho              296   63\n",
       "Satisfecho                   875  146"
      ]
     },
     "execution_count": 218,
     "metadata": {},
     "output_type": "execute_result"
    }
   ],
   "source": [
    "tabla_contingencia1 = pd.crosstab(df[\"work_life_balance_categoria\"], df[\"attrition\"])\n",
    "tabla_contingencia1"
   ]
  },
  {
   "cell_type": "code",
   "execution_count": null,
   "metadata": {},
   "outputs": [
    {
     "name": "stdout",
     "output_type": "stream",
     "text": [
      "Existe una relación entre el nivel de satisfacción con el work life balance y la rotación de empleados en la empresa.\n"
     ]
    }
   ],
   "source": [
    "_, p_value, _, _ = chi2_contingency(tabla_contingencia1)\n",
    "if p_value <= 0.05:\n",
    "    print('Existe una relación entre el nivel de satisfacción con el work life balance y la rotación de empleados en la empresa.')\n",
    "else:\n",
    "    print('No existe una relación entre el nivel de satisfacción con el work life balance y la rotación de empleados en la empresa.')"
   ]
  },
  {
   "cell_type": "markdown",
   "metadata": {},
   "source": [
    "El análisis sugiere que, en general, los empleados con menor satisfacción en su balance entre vida y trabajo (por ejemplo, \"Nada satisfechos\" y \"Poco satisfechos\") tienen una mayor probabilidad de irse (rotación).\n",
    "\n",
    "El grupo de empleados \"Muy satisfechos\" muestra una baja rotación, con mucho más empleados que se quedan.\n",
    "Los empleados \"Nada satisfechos\" y \"Poco satisfechos\" muestran una proporción relativamente alta de rotación, lo que sugiere que la insatisfacción con el balance vida-trabajo está asociada con una mayor probabilidad de abandonar la empresa."
   ]
  },
  {
   "cell_type": "markdown",
   "metadata": {},
   "source": [
    "### ¿Hay empleados de departamentos específicos con una rotación significativamente más alta en comparación con el resto?"
   ]
  },
  {
   "cell_type": "code",
   "execution_count": null,
   "metadata": {},
   "outputs": [
    {
     "data": {
      "text/plain": [
       "Index(['employee_number', 'attrition', 'job_level', 'job_role', 'department',\n",
       "       'monthly_income', 'salary', 'percent_salary_hike',\n",
       "       'training_times_last_year', 'stock_option_level', 'hourly_rate',\n",
       "       'daily_rate', 'monthly_rate', 'standard_hours', 'overtime',\n",
       "       'business_travel', 'distance_from_home', 'remote_work',\n",
       "       'environment_satisfaction', 'job_involvement', 'job_satisfaction',\n",
       "       'satisfaction', 'performance_rating', 'relationship_satisfaction',\n",
       "       'work_life_balance', 'date_birth', 'age', 'gender', 'marital_status',\n",
       "       'education', 'education_field', 'num_companies_worked',\n",
       "       'total_working_years', 'years_at_company', 'years_since_last_promotion',\n",
       "       'years_with_curr_manager', 'work_life_balance_categoria'],\n",
       "      dtype='object')"
      ]
     },
     "execution_count": 220,
     "metadata": {},
     "output_type": "execute_result"
    }
   ],
   "source": [
    "df.columns"
   ]
  },
  {
   "cell_type": "code",
   "execution_count": null,
   "metadata": {},
   "outputs": [
    {
     "data": {
      "text/html": [
       "<div>\n",
       "<style scoped>\n",
       "    .dataframe tbody tr th:only-of-type {\n",
       "        vertical-align: middle;\n",
       "    }\n",
       "\n",
       "    .dataframe tbody tr th {\n",
       "        vertical-align: top;\n",
       "    }\n",
       "\n",
       "    .dataframe thead th {\n",
       "        text-align: right;\n",
       "    }\n",
       "</style>\n",
       "<table border=\"1\" class=\"dataframe\">\n",
       "  <thead>\n",
       "    <tr style=\"text-align: right;\">\n",
       "      <th>attrition</th>\n",
       "      <th>No</th>\n",
       "      <th>Yes</th>\n",
       "    </tr>\n",
       "    <tr>\n",
       "      <th>department</th>\n",
       "      <th></th>\n",
       "      <th></th>\n",
       "    </tr>\n",
       "  </thead>\n",
       "  <tbody>\n",
       "    <tr>\n",
       "      <th>general</th>\n",
       "      <td>85</td>\n",
       "      <td>6</td>\n",
       "    </tr>\n",
       "    <tr>\n",
       "      <th>human resources</th>\n",
       "      <td>45</td>\n",
       "      <td>13</td>\n",
       "    </tr>\n",
       "    <tr>\n",
       "      <th>research &amp; development</th>\n",
       "      <td>860</td>\n",
       "      <td>141</td>\n",
       "    </tr>\n",
       "    <tr>\n",
       "      <th>sales</th>\n",
       "      <td>365</td>\n",
       "      <td>99</td>\n",
       "    </tr>\n",
       "  </tbody>\n",
       "</table>\n",
       "</div>"
      ],
      "text/plain": [
       "attrition                No  Yes\n",
       "department                      \n",
       "general                  85    6\n",
       "human resources          45   13\n",
       "research & development  860  141\n",
       "sales                   365   99"
      ]
     },
     "execution_count": 221,
     "metadata": {},
     "output_type": "execute_result"
    }
   ],
   "source": [
    "# Crear la tabla de contingencia entre departamento, rotación y satisfacción\n",
    "tabla_contingencia2 = pd.crosstab(\n",
    "    df['department'], df['attrition'])  \n",
    "\n",
    "tabla_contingencia2\n"
   ]
  },
  {
   "cell_type": "code",
   "execution_count": null,
   "metadata": {},
   "outputs": [],
   "source": [
    "df_menos_3_años = df[(df['years_at_company']<= 1)][['department', 'attrition']]"
   ]
  },
  {
   "cell_type": "code",
   "execution_count": null,
   "metadata": {},
   "outputs": [],
   "source": [
    "tabla_porcentajes_filas = pd.crosstab( df_menos_3_años['department'], df_menos_3_años['attrition'], normalize='index') * 100"
   ]
  },
  {
   "cell_type": "code",
   "execution_count": null,
   "metadata": {},
   "outputs": [
    {
     "data": {
      "text/html": [
       "<div>\n",
       "<style scoped>\n",
       "    .dataframe tbody tr th:only-of-type {\n",
       "        vertical-align: middle;\n",
       "    }\n",
       "\n",
       "    .dataframe tbody tr th {\n",
       "        vertical-align: top;\n",
       "    }\n",
       "\n",
       "    .dataframe thead th {\n",
       "        text-align: right;\n",
       "    }\n",
       "</style>\n",
       "<table border=\"1\" class=\"dataframe\">\n",
       "  <thead>\n",
       "    <tr style=\"text-align: right;\">\n",
       "      <th>attrition</th>\n",
       "      <th>No</th>\n",
       "      <th>Yes</th>\n",
       "    </tr>\n",
       "    <tr>\n",
       "      <th>department</th>\n",
       "      <th></th>\n",
       "      <th></th>\n",
       "    </tr>\n",
       "  </thead>\n",
       "  <tbody>\n",
       "    <tr>\n",
       "      <th>general</th>\n",
       "      <td>100.000000</td>\n",
       "      <td>0.000000</td>\n",
       "    </tr>\n",
       "    <tr>\n",
       "      <th>human resources</th>\n",
       "      <td>20.000000</td>\n",
       "      <td>80.000000</td>\n",
       "    </tr>\n",
       "    <tr>\n",
       "      <th>research &amp; development</th>\n",
       "      <td>68.027211</td>\n",
       "      <td>31.972789</td>\n",
       "    </tr>\n",
       "    <tr>\n",
       "      <th>sales</th>\n",
       "      <td>57.142857</td>\n",
       "      <td>42.857143</td>\n",
       "    </tr>\n",
       "  </tbody>\n",
       "</table>\n",
       "</div>"
      ],
      "text/plain": [
       "attrition                       No        Yes\n",
       "department                                   \n",
       "general                 100.000000   0.000000\n",
       "human resources          20.000000  80.000000\n",
       "research & development   68.027211  31.972789\n",
       "sales                    57.142857  42.857143"
      ]
     },
     "execution_count": 246,
     "metadata": {},
     "output_type": "execute_result"
    }
   ],
   "source": [
    "tabla_porcentajes_filas"
   ]
  },
  {
   "cell_type": "code",
   "execution_count": null,
   "metadata": {},
   "outputs": [
    {
     "data": {
      "image/png": "[encoded data removed]",
      "text/plain": [
       "<Figure size 800x600 with 1 Axes>"
      ]
     },
     "metadata": {},
     "output_type": "display_data"
    }
   ],
   "source": [
    "\n",
    "# Crear el DataFrame con los datos proporcionados\n",
    "data = {\n",
    "    'department': ['general', 'human resources', 'research & development', 'sales'],\n",
    "    'No': [100.0, 20.0, 68.03, 57.14],\n",
    "    'Yes': [0.0, 80.0, 31.97, 42.86]\n",
    "}\n",
    "\n",
    "df = pd.DataFrame(data)\n",
    "\n",
    "# Configuración de la visualización\n",
    "df.set_index('department', inplace=True)\n",
    "\n",
    "# Crear la gráfica de barras apiladas con colores en gama de rosas y rojos\n",
    "ax = df.plot(kind='bar', stacked=True, figsize=(8, 6), color=['#FFB6C1', '#FF6347'])  # Rosa y Rojo\n",
    "\n",
    "# Etiquetas y título\n",
    "ax.set_title('Tasa de rotación de empleados por departamento', fontsize=14)\n",
    "ax.set_ylabel('Porcentaje (%)', fontsize=12)\n",
    "ax.set_xlabel('Departamento', fontsize=12)\n",
    "\n",
    "# Mostrar la gráfica\n",
    "plt.xticks(rotation=45)\n",
    "plt.show()\n",
    "\n"
   ]
  },
  {
   "cell_type": "code",
   "execution_count": null,
   "metadata": {},
   "outputs": [],
   "source": [
    "cross_departamentos = pd.crosstab(df_menos_3_años['department'], df_menos_3_años['attrition'])"
   ]
  },
  {
   "cell_type": "code",
   "execution_count": null,
   "metadata": {},
   "outputs": [
    {
     "name": "stdout",
     "output_type": "stream",
     "text": [
      "Valor Chi-cuadrado: 10.346187236799482\n",
      "Valor p: 0.01584143563019264\n",
      "Grados de libertad: 3\n",
      "Tabla esperada: \n",
      "[[ 4.55813953  2.44186047]\n",
      " [ 3.25581395  1.74418605]\n",
      " [95.72093023 51.27906977]\n",
      " [36.46511628 19.53488372]]\n"
     ]
    }
   ],
   "source": [
    "chi2, p_value, dof, expected = chi2_contingency(cross_departamentos)\n",
    "\n",
    "# Mostrar el resultado\n",
    "print(f\"Valor Chi-cuadrado: {chi2}\")\n",
    "print(f\"Valor p: {p_value}\")\n",
    "print(f\"Grados de libertad: {dof}\")\n",
    "print(f\"Tabla esperada: \\n{expected}\")"
   ]
  },
  {
   "cell_type": "markdown",
   "metadata": {},
   "source": [
    "Interpretación:\n",
    "El valor Chi-cuadrado de 10.35 junto con un valor p de 0.0158 sugiere que existe una relación significativa entre el departamento y la tasa de rotación (attrition). En otras palabras, los departamentos tienen diferentes patrones de rotación de personal.\n",
    "Específicamente, en la tabla observada, podemos ver que:\n",
    "General tiene una tasa de rotación de 0%.\n",
    "Human Resources tiene una tasa de rotación de 80%, lo que es mucho más alto que en otros departamentos.\n",
    "Research & Development y Sales tienen tasas de rotación intermedias, pero considerablemente más bajas en comparación con Human Resources.\n",
    "Dado que el valor p es menor que 0.05, la relación entre el departamento y la tasa de rotación es estadísticamente significativa, lo que sugiere que el departamento al que pertenece un empleado podría influir en su probabilidad de abandonar la empresa.\n",
    "\n",
    "Para un análisis más detallado, podrías examinar los departamentos con tasas de rotación más altas, como Human Resources, para investigar más a fondo las razones detrás de estos valores."
   ]
  },
  {
   "cell_type": "code",
   "execution_count": null,
   "metadata": {},
   "outputs": [
    {
     "name": "stdout",
     "output_type": "stream",
     "text": [
      "Valor Chi-cuadrado: 20.274820329784614\n",
      "Valor p: 0.00014887425794656543\n",
      "Grados de libertad: 3\n",
      "Tabla esperada: \n",
      "[[ 76.39714994  14.60285006]\n",
      " [ 48.69268897   9.30731103]\n",
      " [840.36864932 160.63135068]\n",
      " [389.54151177  74.45848823]]\n"
     ]
    }
   ],
   "source": [
    "chi2, p_value, dof, expected = chi2_contingency(tabla_contingencia2)\n",
    "\n",
    "# Mostrar el resultado\n",
    "print(f\"Valor Chi-cuadrado: {chi2}\")\n",
    "print(f\"Valor p: {p_value}\")\n",
    "print(f\"Grados de libertad: {dof}\")\n",
    "print(f\"Tabla esperada: \\n{expected}\")\n"
   ]
  },
  {
   "cell_type": "markdown",
   "metadata": {},
   "source": [
    "La relación entre el departamento y la rotación de empleados es estadísticamente significativa. Esto sugiere que los empleados de diferentes departamentos tienen diferentes probabilidades de abandonar la empresa.\n",
    "\n",
    "Si desearas un análisis más detallado, podrías observar las frecuencias observadas versus las esperadas para ver qué departamentos tienen mayores o menores tasas de rotación de lo que se esperaría si no hubiera ninguna relación.\n",
    "\n",
    "Por ejemplo, en la tabla esperada, el departamento \"research & development\" tiene una cantidad significativa de empleados que permanecen (No), mientras que \"sales\" tiene una mayor cantidad de empleados que se van (Yes), en comparación con las frecuencias esperadas. Esto podría indicar que algunos departamentos tienen una rotación significativamente diferente a la media."
   ]
  },
  {
   "cell_type": "code",
   "execution_count": 293,
   "metadata": {},
   "outputs": [
    {
     "name": "stderr",
     "output_type": "stream",
     "text": [
      "/var/folders/n5/d44x7lvd7t5f1m5bfx4hvw7w0000gn/T/ipykernel_12519/2168170966.py:16: FutureWarning: \n",
      "\n",
      "Passing `palette` without assigning `hue` is deprecated and will be removed in v0.14.0. Assign the `y` variable to `hue` and set `legend=False` for the same effect.\n",
      "\n",
      "  sns.barplot(x='proporcion_rotacion', y='department', data=df_department, palette=colores)\n",
      "/var/folders/n5/d44x7lvd7t5f1m5bfx4hvw7w0000gn/T/ipykernel_12519/2168170966.py:16: UserWarning: The palette list has more values (5) than needed (4), which may not be intended.\n",
      "  sns.barplot(x='proporcion_rotacion', y='department', data=df_department, palette=colores)\n"
     ]
    },
    {
     "data": {
      "image/png": "[encoded data removed]",
      "text/plain": [
       "<Figure size 1000x600 with 1 Axes>"
      ]
     },
     "metadata": {},
     "output_type": "display_data"
    }
   ],
   "source": [
    "data = {\n",
    "    'department': ['general', 'human resources', 'research & development', 'sales'],\n",
    "    'No': [85, 45, 860, 365],\n",
    "    'Yes': [6, 13, 141, 99]\n",
    "}\n",
    "df_department = pd.DataFrame(data)\n",
    "\n",
    "# Calcular la proporción de rotación\n",
    "df_department['proporcion_rotacion'] = df_department['Yes'] / (df_department['No'] + df_department['Yes'])\n",
    "\n",
    "# Ordenar por proporción de rotación\n",
    "df_department = df_department.sort_values(by='proporcion_rotacion', ascending=False)\n",
    "\n",
    "# Graficar\n",
    "plt.figure(figsize=(10, 6))\n",
    "sns.barplot(x='proporcion_rotacion', y='department', data=df_department, palette=colores)\n",
    "plt.title('Proporción de rotación por departamento')\n",
    "plt.xlabel('Proporción de rotación')\n",
    "plt.ylabel('Departamento')\n",
    "plt.show()\n"
   ]
  },
  {
   "cell_type": "code",
   "execution_count": null,
   "metadata": {},
   "outputs": [
    {
     "data": {
      "text/html": [
       "<div>\n",
       "<style scoped>\n",
       "    .dataframe tbody tr th:only-of-type {\n",
       "        vertical-align: middle;\n",
       "    }\n",
       "\n",
       "    .dataframe tbody tr th {\n",
       "        vertical-align: top;\n",
       "    }\n",
       "\n",
       "    .dataframe thead th {\n",
       "        text-align: right;\n",
       "    }\n",
       "</style>\n",
       "<table border=\"1\" class=\"dataframe\">\n",
       "  <thead>\n",
       "    <tr style=\"text-align: right;\">\n",
       "      <th></th>\n",
       "      <th>job_role</th>\n",
       "      <th>years_at_company</th>\n",
       "      <th>attrition</th>\n",
       "    </tr>\n",
       "  </thead>\n",
       "  <tbody>\n",
       "    <tr>\n",
       "      <th>433</th>\n",
       "      <td>manager</td>\n",
       "      <td>21</td>\n",
       "      <td>No</td>\n",
       "    </tr>\n",
       "    <tr>\n",
       "      <th>505</th>\n",
       "      <td>human resources</td>\n",
       "      <td>20</td>\n",
       "      <td>Yes</td>\n",
       "    </tr>\n",
       "    <tr>\n",
       "      <th>103</th>\n",
       "      <td>human resources</td>\n",
       "      <td>11</td>\n",
       "      <td>No</td>\n",
       "    </tr>\n",
       "    <tr>\n",
       "      <th>109</th>\n",
       "      <td>human resources</td>\n",
       "      <td>11</td>\n",
       "      <td>No</td>\n",
       "    </tr>\n",
       "    <tr>\n",
       "      <th>148</th>\n",
       "      <td>human resources</td>\n",
       "      <td>10</td>\n",
       "      <td>No</td>\n",
       "    </tr>\n",
       "    <tr>\n",
       "      <th>154</th>\n",
       "      <td>human resources</td>\n",
       "      <td>10</td>\n",
       "      <td>No</td>\n",
       "    </tr>\n",
       "    <tr>\n",
       "      <th>1440</th>\n",
       "      <td>human resources</td>\n",
       "      <td>10</td>\n",
       "      <td>No</td>\n",
       "    </tr>\n",
       "    <tr>\n",
       "      <th>443</th>\n",
       "      <td>human resources</td>\n",
       "      <td>10</td>\n",
       "      <td>No</td>\n",
       "    </tr>\n",
       "    <tr>\n",
       "      <th>1221</th>\n",
       "      <td>human resources</td>\n",
       "      <td>10</td>\n",
       "      <td>No</td>\n",
       "    </tr>\n",
       "    <tr>\n",
       "      <th>1498</th>\n",
       "      <td>human resources</td>\n",
       "      <td>9</td>\n",
       "      <td>No</td>\n",
       "    </tr>\n",
       "    <tr>\n",
       "      <th>1469</th>\n",
       "      <td>human resources</td>\n",
       "      <td>9</td>\n",
       "      <td>No</td>\n",
       "    </tr>\n",
       "    <tr>\n",
       "      <th>1576</th>\n",
       "      <td>human resources</td>\n",
       "      <td>9</td>\n",
       "      <td>No</td>\n",
       "    </tr>\n",
       "    <tr>\n",
       "      <th>456</th>\n",
       "      <td>human resources</td>\n",
       "      <td>9</td>\n",
       "      <td>No</td>\n",
       "    </tr>\n",
       "    <tr>\n",
       "      <th>333</th>\n",
       "      <td>human resources</td>\n",
       "      <td>9</td>\n",
       "      <td>No</td>\n",
       "    </tr>\n",
       "    <tr>\n",
       "      <th>709</th>\n",
       "      <td>human resources</td>\n",
       "      <td>8</td>\n",
       "      <td>No</td>\n",
       "    </tr>\n",
       "    <tr>\n",
       "      <th>278</th>\n",
       "      <td>human resources</td>\n",
       "      <td>8</td>\n",
       "      <td>No</td>\n",
       "    </tr>\n",
       "    <tr>\n",
       "      <th>509</th>\n",
       "      <td>human resources</td>\n",
       "      <td>7</td>\n",
       "      <td>No</td>\n",
       "    </tr>\n",
       "    <tr>\n",
       "      <th>508</th>\n",
       "      <td>human resources</td>\n",
       "      <td>7</td>\n",
       "      <td>No</td>\n",
       "    </tr>\n",
       "    <tr>\n",
       "      <th>326</th>\n",
       "      <td>human resources</td>\n",
       "      <td>7</td>\n",
       "      <td>Yes</td>\n",
       "    </tr>\n",
       "    <tr>\n",
       "      <th>1569</th>\n",
       "      <td>human resources</td>\n",
       "      <td>7</td>\n",
       "      <td>Yes</td>\n",
       "    </tr>\n",
       "    <tr>\n",
       "      <th>756</th>\n",
       "      <td>human resources</td>\n",
       "      <td>6</td>\n",
       "      <td>No</td>\n",
       "    </tr>\n",
       "    <tr>\n",
       "      <th>729</th>\n",
       "      <td>human resources</td>\n",
       "      <td>6</td>\n",
       "      <td>No</td>\n",
       "    </tr>\n",
       "    <tr>\n",
       "      <th>1150</th>\n",
       "      <td>human resources</td>\n",
       "      <td>6</td>\n",
       "      <td>No</td>\n",
       "    </tr>\n",
       "    <tr>\n",
       "      <th>752</th>\n",
       "      <td>human resources</td>\n",
       "      <td>5</td>\n",
       "      <td>No</td>\n",
       "    </tr>\n",
       "    <tr>\n",
       "      <th>602</th>\n",
       "      <td>human resources</td>\n",
       "      <td>5</td>\n",
       "      <td>No</td>\n",
       "    </tr>\n",
       "    <tr>\n",
       "      <th>1188</th>\n",
       "      <td>human resources</td>\n",
       "      <td>5</td>\n",
       "      <td>No</td>\n",
       "    </tr>\n",
       "    <tr>\n",
       "      <th>1219</th>\n",
       "      <td>human resources</td>\n",
       "      <td>5</td>\n",
       "      <td>Yes</td>\n",
       "    </tr>\n",
       "    <tr>\n",
       "      <th>618</th>\n",
       "      <td>human resources</td>\n",
       "      <td>5</td>\n",
       "      <td>No</td>\n",
       "    </tr>\n",
       "    <tr>\n",
       "      <th>614</th>\n",
       "      <td>human resources</td>\n",
       "      <td>5</td>\n",
       "      <td>No</td>\n",
       "    </tr>\n",
       "    <tr>\n",
       "      <th>605</th>\n",
       "      <td>human resources</td>\n",
       "      <td>5</td>\n",
       "      <td>No</td>\n",
       "    </tr>\n",
       "    <tr>\n",
       "      <th>951</th>\n",
       "      <td>human resources</td>\n",
       "      <td>5</td>\n",
       "      <td>No</td>\n",
       "    </tr>\n",
       "    <tr>\n",
       "      <th>1429</th>\n",
       "      <td>human resources</td>\n",
       "      <td>5</td>\n",
       "      <td>No</td>\n",
       "    </tr>\n",
       "    <tr>\n",
       "      <th>1115</th>\n",
       "      <td>human resources</td>\n",
       "      <td>4</td>\n",
       "      <td>Yes</td>\n",
       "    </tr>\n",
       "    <tr>\n",
       "      <th>815</th>\n",
       "      <td>human resources</td>\n",
       "      <td>4</td>\n",
       "      <td>No</td>\n",
       "    </tr>\n",
       "    <tr>\n",
       "      <th>739</th>\n",
       "      <td>human resources</td>\n",
       "      <td>4</td>\n",
       "      <td>No</td>\n",
       "    </tr>\n",
       "    <tr>\n",
       "      <th>721</th>\n",
       "      <td>human resources</td>\n",
       "      <td>4</td>\n",
       "      <td>No</td>\n",
       "    </tr>\n",
       "    <tr>\n",
       "      <th>1133</th>\n",
       "      <td>human resources</td>\n",
       "      <td>3</td>\n",
       "      <td>No</td>\n",
       "    </tr>\n",
       "    <tr>\n",
       "      <th>1521</th>\n",
       "      <td>human resources</td>\n",
       "      <td>3</td>\n",
       "      <td>No</td>\n",
       "    </tr>\n",
       "    <tr>\n",
       "      <th>1110</th>\n",
       "      <td>human resources</td>\n",
       "      <td>3</td>\n",
       "      <td>No</td>\n",
       "    </tr>\n",
       "    <tr>\n",
       "      <th>820</th>\n",
       "      <td>human resources</td>\n",
       "      <td>3</td>\n",
       "      <td>Yes</td>\n",
       "    </tr>\n",
       "    <tr>\n",
       "      <th>1054</th>\n",
       "      <td>human resources</td>\n",
       "      <td>3</td>\n",
       "      <td>No</td>\n",
       "    </tr>\n",
       "    <tr>\n",
       "      <th>953</th>\n",
       "      <td>human resources</td>\n",
       "      <td>3</td>\n",
       "      <td>No</td>\n",
       "    </tr>\n",
       "    <tr>\n",
       "      <th>908</th>\n",
       "      <td>human resources</td>\n",
       "      <td>3</td>\n",
       "      <td>Yes</td>\n",
       "    </tr>\n",
       "    <tr>\n",
       "      <th>880</th>\n",
       "      <td>human resources</td>\n",
       "      <td>3</td>\n",
       "      <td>No</td>\n",
       "    </tr>\n",
       "    <tr>\n",
       "      <th>1131</th>\n",
       "      <td>human resources</td>\n",
       "      <td>2</td>\n",
       "      <td>Yes</td>\n",
       "    </tr>\n",
       "    <tr>\n",
       "      <th>1465</th>\n",
       "      <td>human resources</td>\n",
       "      <td>2</td>\n",
       "      <td>No</td>\n",
       "    </tr>\n",
       "    <tr>\n",
       "      <th>852</th>\n",
       "      <td>human resources</td>\n",
       "      <td>2</td>\n",
       "      <td>No</td>\n",
       "    </tr>\n",
       "    <tr>\n",
       "      <th>1513</th>\n",
       "      <td>human resources</td>\n",
       "      <td>2</td>\n",
       "      <td>No</td>\n",
       "    </tr>\n",
       "    <tr>\n",
       "      <th>872</th>\n",
       "      <td>human resources</td>\n",
       "      <td>2</td>\n",
       "      <td>No</td>\n",
       "    </tr>\n",
       "    <tr>\n",
       "      <th>918</th>\n",
       "      <td>human resources</td>\n",
       "      <td>2</td>\n",
       "      <td>No</td>\n",
       "    </tr>\n",
       "    <tr>\n",
       "      <th>1114</th>\n",
       "      <td>human resources</td>\n",
       "      <td>2</td>\n",
       "      <td>No</td>\n",
       "    </tr>\n",
       "    <tr>\n",
       "      <th>1057</th>\n",
       "      <td>human resources</td>\n",
       "      <td>2</td>\n",
       "      <td>Yes</td>\n",
       "    </tr>\n",
       "    <tr>\n",
       "      <th>1104</th>\n",
       "      <td>human resources</td>\n",
       "      <td>2</td>\n",
       "      <td>No</td>\n",
       "    </tr>\n",
       "    <tr>\n",
       "      <th>1461</th>\n",
       "      <td>human resources</td>\n",
       "      <td>1</td>\n",
       "      <td>Yes</td>\n",
       "    </tr>\n",
       "    <tr>\n",
       "      <th>1448</th>\n",
       "      <td>human resources</td>\n",
       "      <td>1</td>\n",
       "      <td>No</td>\n",
       "    </tr>\n",
       "    <tr>\n",
       "      <th>1424</th>\n",
       "      <td>human resources</td>\n",
       "      <td>1</td>\n",
       "      <td>Yes</td>\n",
       "    </tr>\n",
       "    <tr>\n",
       "      <th>1297</th>\n",
       "      <td>human resources</td>\n",
       "      <td>1</td>\n",
       "      <td>Yes</td>\n",
       "    </tr>\n",
       "    <tr>\n",
       "      <th>1443</th>\n",
       "      <td>human resources</td>\n",
       "      <td>1</td>\n",
       "      <td>Yes</td>\n",
       "    </tr>\n",
       "  </tbody>\n",
       "</table>\n",
       "</div>"
      ],
      "text/plain": [
       "             job_role  years_at_company attrition\n",
       "433           manager                21        No\n",
       "505   human resources                20       Yes\n",
       "103   human resources                11        No\n",
       "109   human resources                11        No\n",
       "148   human resources                10        No\n",
       "154   human resources                10        No\n",
       "1440  human resources                10        No\n",
       "443   human resources                10        No\n",
       "1221  human resources                10        No\n",
       "1498  human resources                 9        No\n",
       "1469  human resources                 9        No\n",
       "1576  human resources                 9        No\n",
       "456   human resources                 9        No\n",
       "333   human resources                 9        No\n",
       "709   human resources                 8        No\n",
       "278   human resources                 8        No\n",
       "509   human resources                 7        No\n",
       "508   human resources                 7        No\n",
       "326   human resources                 7       Yes\n",
       "1569  human resources                 7       Yes\n",
       "756   human resources                 6        No\n",
       "729   human resources                 6        No\n",
       "1150  human resources                 6        No\n",
       "752   human resources                 5        No\n",
       "602   human resources                 5        No\n",
       "1188  human resources                 5        No\n",
       "1219  human resources                 5       Yes\n",
       "618   human resources                 5        No\n",
       "614   human resources                 5        No\n",
       "605   human resources                 5        No\n",
       "951   human resources                 5        No\n",
       "1429  human resources                 5        No\n",
       "1115  human resources                 4       Yes\n",
       "815   human resources                 4        No\n",
       "739   human resources                 4        No\n",
       "721   human resources                 4        No\n",
       "1133  human resources                 3        No\n",
       "1521  human resources                 3        No\n",
       "1110  human resources                 3        No\n",
       "820   human resources                 3       Yes\n",
       "1054  human resources                 3        No\n",
       "953   human resources                 3        No\n",
       "908   human resources                 3       Yes\n",
       "880   human resources                 3        No\n",
       "1131  human resources                 2       Yes\n",
       "1465  human resources                 2        No\n",
       "852   human resources                 2        No\n",
       "1513  human resources                 2        No\n",
       "872   human resources                 2        No\n",
       "918   human resources                 2        No\n",
       "1114  human resources                 2        No\n",
       "1057  human resources                 2       Yes\n",
       "1104  human resources                 2        No\n",
       "1461  human resources                 1       Yes\n",
       "1448  human resources                 1        No\n",
       "1424  human resources                 1       Yes\n",
       "1297  human resources                 1       Yes\n",
       "1443  human resources                 1       Yes"
      ]
     },
     "execution_count": 227,
     "metadata": {},
     "output_type": "execute_result"
    }
   ],
   "source": [
    "df[df['department'] == 'human resources'][['job_role', 'years_at_company', 'attrition']].sort_values('years_at_company', ascending=False)"
   ]
  },
  {
   "cell_type": "code",
   "execution_count": null,
   "metadata": {},
   "outputs": [],
   "source": [
    "df_rrhh = df[df['department'] == 'human resources']"
   ]
  },
  {
   "cell_type": "code",
   "execution_count": null,
   "metadata": {},
   "outputs": [
    {
     "data": {
      "text/html": [
       "<div>\n",
       "<style scoped>\n",
       "    .dataframe tbody tr th:only-of-type {\n",
       "        vertical-align: middle;\n",
       "    }\n",
       "\n",
       "    .dataframe tbody tr th {\n",
       "        vertical-align: top;\n",
       "    }\n",
       "\n",
       "    .dataframe thead th {\n",
       "        text-align: right;\n",
       "    }\n",
       "</style>\n",
       "<table border=\"1\" class=\"dataframe\">\n",
       "  <thead>\n",
       "    <tr style=\"text-align: right;\">\n",
       "      <th>years_at_company</th>\n",
       "      <th>attrition</th>\n",
       "      <th>1</th>\n",
       "      <th>2</th>\n",
       "      <th>3</th>\n",
       "      <th>4</th>\n",
       "      <th>5</th>\n",
       "      <th>6</th>\n",
       "      <th>7</th>\n",
       "      <th>8</th>\n",
       "      <th>9</th>\n",
       "      <th>10</th>\n",
       "      <th>11</th>\n",
       "      <th>20</th>\n",
       "      <th>21</th>\n",
       "    </tr>\n",
       "  </thead>\n",
       "  <tbody>\n",
       "    <tr>\n",
       "      <th>0</th>\n",
       "      <td>No</td>\n",
       "      <td>1.0</td>\n",
       "      <td>7.0</td>\n",
       "      <td>6.0</td>\n",
       "      <td>3.0</td>\n",
       "      <td>8.0</td>\n",
       "      <td>3.0</td>\n",
       "      <td>2.0</td>\n",
       "      <td>2.0</td>\n",
       "      <td>5.0</td>\n",
       "      <td>5.0</td>\n",
       "      <td>2.0</td>\n",
       "      <td>NaN</td>\n",
       "      <td>1.0</td>\n",
       "    </tr>\n",
       "    <tr>\n",
       "      <th>1</th>\n",
       "      <td>Yes</td>\n",
       "      <td>4.0</td>\n",
       "      <td>2.0</td>\n",
       "      <td>2.0</td>\n",
       "      <td>1.0</td>\n",
       "      <td>1.0</td>\n",
       "      <td>NaN</td>\n",
       "      <td>2.0</td>\n",
       "      <td>NaN</td>\n",
       "      <td>NaN</td>\n",
       "      <td>NaN</td>\n",
       "      <td>NaN</td>\n",
       "      <td>1.0</td>\n",
       "      <td>NaN</td>\n",
       "    </tr>\n",
       "  </tbody>\n",
       "</table>\n",
       "</div>"
      ],
      "text/plain": [
       "years_at_company attrition    1    2    3    4    5    6    7    8    9   10  \\\n",
       "0                       No  1.0  7.0  6.0  3.0  8.0  3.0  2.0  2.0  5.0  5.0   \n",
       "1                      Yes  4.0  2.0  2.0  1.0  1.0  NaN  2.0  NaN  NaN  NaN   \n",
       "\n",
       "years_at_company   11   20   21  \n",
       "0                 2.0  NaN  1.0  \n",
       "1                 NaN  1.0  NaN  "
      ]
     },
     "execution_count": 234,
     "metadata": {},
     "output_type": "execute_result"
    }
   ],
   "source": [
    "tabla_contingencia3 = pd.crosstab(\n",
    "    index=df[df['department'] == 'human resources']['attrition'],  # Filtrar por departamento\n",
    "    columns=df[df['department'] == 'human resources']['years_at_company'],  # Filtrar por años en la empresa\n",
    "    values=df[df['department'] == 'human resources']['attrition'],  # Puedes usar cualquier columna aquí\n",
    "    aggfunc='count',  # Usar 'count' para contar la cantidad de empleados en cada combinación\n",
    ")\n",
    "\n",
    "tabla_contingencia3.reset_index()\n"
   ]
  },
  {
   "cell_type": "code",
   "execution_count": null,
   "metadata": {},
   "outputs": [
    {
     "data": {
      "text/html": [
       "<div>\n",
       "<style scoped>\n",
       "    .dataframe tbody tr th:only-of-type {\n",
       "        vertical-align: middle;\n",
       "    }\n",
       "\n",
       "    .dataframe tbody tr th {\n",
       "        vertical-align: top;\n",
       "    }\n",
       "\n",
       "    .dataframe thead th {\n",
       "        text-align: right;\n",
       "    }\n",
       "</style>\n",
       "<table border=\"1\" class=\"dataframe\">\n",
       "  <thead>\n",
       "    <tr style=\"text-align: right;\">\n",
       "      <th></th>\n",
       "      <th>job_role</th>\n",
       "      <th>years_at_company</th>\n",
       "      <th>attrition</th>\n",
       "    </tr>\n",
       "  </thead>\n",
       "  <tbody>\n",
       "    <tr>\n",
       "      <th>79</th>\n",
       "      <td>sales executive</td>\n",
       "      <td>37</td>\n",
       "      <td>No</td>\n",
       "    </tr>\n",
       "    <tr>\n",
       "      <th>35</th>\n",
       "      <td>sales executive</td>\n",
       "      <td>24</td>\n",
       "      <td>No</td>\n",
       "    </tr>\n",
       "    <tr>\n",
       "      <th>557</th>\n",
       "      <td>sales executive</td>\n",
       "      <td>23</td>\n",
       "      <td>Yes</td>\n",
       "    </tr>\n",
       "    <tr>\n",
       "      <th>30</th>\n",
       "      <td>sales executive</td>\n",
       "      <td>22</td>\n",
       "      <td>No</td>\n",
       "    </tr>\n",
       "    <tr>\n",
       "      <th>933</th>\n",
       "      <td>sales executive</td>\n",
       "      <td>22</td>\n",
       "      <td>No</td>\n",
       "    </tr>\n",
       "    <tr>\n",
       "      <th>...</th>\n",
       "      <td>...</td>\n",
       "      <td>...</td>\n",
       "      <td>...</td>\n",
       "    </tr>\n",
       "    <tr>\n",
       "      <th>1304</th>\n",
       "      <td>sales executive</td>\n",
       "      <td>0</td>\n",
       "      <td>No</td>\n",
       "    </tr>\n",
       "    <tr>\n",
       "      <th>1376</th>\n",
       "      <td>sales executive</td>\n",
       "      <td>0</td>\n",
       "      <td>No</td>\n",
       "    </tr>\n",
       "    <tr>\n",
       "      <th>1417</th>\n",
       "      <td>sales representative</td>\n",
       "      <td>0</td>\n",
       "      <td>Yes</td>\n",
       "    </tr>\n",
       "    <tr>\n",
       "      <th>1365</th>\n",
       "      <td>sales executive</td>\n",
       "      <td>0</td>\n",
       "      <td>Yes</td>\n",
       "    </tr>\n",
       "    <tr>\n",
       "      <th>1431</th>\n",
       "      <td>sales executive</td>\n",
       "      <td>0</td>\n",
       "      <td>Yes</td>\n",
       "    </tr>\n",
       "  </tbody>\n",
       "</table>\n",
       "<p>464 rows × 3 columns</p>\n",
       "</div>"
      ],
      "text/plain": [
       "                  job_role  years_at_company attrition\n",
       "79         sales executive                37        No\n",
       "35         sales executive                24        No\n",
       "557        sales executive                23       Yes\n",
       "30         sales executive                22        No\n",
       "933        sales executive                22        No\n",
       "...                    ...               ...       ...\n",
       "1304       sales executive                 0        No\n",
       "1376       sales executive                 0        No\n",
       "1417  sales representative                 0       Yes\n",
       "1365       sales executive                 0       Yes\n",
       "1431       sales executive                 0       Yes\n",
       "\n",
       "[464 rows x 3 columns]"
      ]
     },
     "execution_count": 228,
     "metadata": {},
     "output_type": "execute_result"
    }
   ],
   "source": [
    "df[df['department'] == 'sales'][['job_role', 'years_at_company', 'attrition']].sort_values('years_at_company', ascending=False)"
   ]
  }
 ],
 "metadata": {
  "kernelspec": {
   "display_name": "Python 3",
   "language": "python",
   "name": "python3"
  },
  "language_info": {
   "codemirror_mode": {
    "name": "ipython",
    "version": 3
   },
   "file_extension": ".py",
   "mimetype": "text/x-python",
   "name": "python",
   "nbconvert_exporter": "python",
   "pygments_lexer": "ipython3",
   "version": "3.9.6"
  }
 },
 "nbformat": 4,
 "nbformat_minor": 2
}
