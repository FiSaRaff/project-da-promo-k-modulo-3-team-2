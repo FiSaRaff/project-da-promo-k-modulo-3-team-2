{
 "cells": [
  {
   "cell_type": "code",
   "execution_count": 3,
   "metadata": {},
   "outputs": [],
   "source": [
    "import pandas as pd\n",
    "import numpy as np\n",
    "from scipy.stats import shapiro, levene\n",
    "from scipy.stats import ttest_ind\n",
    "from scipy.stats import mannwhitneyu\n",
    "from scipy.stats import chi2_contingency\n",
    "import seaborn\n",
    "#import scipy.stats as stats\n",
    "import scipy.stats as stats\n",
    "from scipy.stats import shapiro, poisson, chisquare, expon, kstest\n",
    "# Visualización\n",
    "# ------------------------------------------------------------------------------\n",
    "import matplotlib.pyplot as plt\n",
    "import seaborn as sns"
   ]
  },
  {
   "cell_type": "code",
   "execution_count": 4,
   "metadata": {},
   "outputs": [
    {
     "data": {
      "text/html": [
       "<div>\n",
       "<style scoped>\n",
       "    .dataframe tbody tr th:only-of-type {\n",
       "        vertical-align: middle;\n",
       "    }\n",
       "\n",
       "    .dataframe tbody tr th {\n",
       "        vertical-align: top;\n",
       "    }\n",
       "\n",
       "    .dataframe thead th {\n",
       "        text-align: right;\n",
       "    }\n",
       "</style>\n",
       "<table border=\"1\" class=\"dataframe\">\n",
       "  <thead>\n",
       "    <tr style=\"text-align: right;\">\n",
       "      <th></th>\n",
       "      <th>employee_number</th>\n",
       "      <th>attrition</th>\n",
       "      <th>job_level</th>\n",
       "      <th>job_role</th>\n",
       "      <th>department</th>\n",
       "      <th>monthly_income</th>\n",
       "      <th>salary</th>\n",
       "      <th>percent_salary_hike</th>\n",
       "      <th>training_times_last_year</th>\n",
       "      <th>stock_option_level</th>\n",
       "      <th>...</th>\n",
       "      <th>age</th>\n",
       "      <th>gender</th>\n",
       "      <th>marital_status</th>\n",
       "      <th>education</th>\n",
       "      <th>education_field</th>\n",
       "      <th>num_companies_worked</th>\n",
       "      <th>total_working_years</th>\n",
       "      <th>years_at_company</th>\n",
       "      <th>years_since_last_promotion</th>\n",
       "      <th>years_with_curr_manager</th>\n",
       "    </tr>\n",
       "  </thead>\n",
       "  <tbody>\n",
       "    <tr>\n",
       "      <th>0</th>\n",
       "      <td>1</td>\n",
       "      <td>No</td>\n",
       "      <td>5</td>\n",
       "      <td>research director</td>\n",
       "      <td>research &amp; development</td>\n",
       "      <td>16280.83</td>\n",
       "      <td>195370.00</td>\n",
       "      <td>13</td>\n",
       "      <td>5</td>\n",
       "      <td>0</td>\n",
       "      <td>...</td>\n",
       "      <td>52</td>\n",
       "      <td>M</td>\n",
       "      <td>NaN</td>\n",
       "      <td>3</td>\n",
       "      <td>other</td>\n",
       "      <td>7</td>\n",
       "      <td>NaN</td>\n",
       "      <td>20</td>\n",
       "      <td>15</td>\n",
       "      <td>15</td>\n",
       "    </tr>\n",
       "    <tr>\n",
       "      <th>1</th>\n",
       "      <td>2</td>\n",
       "      <td>No</td>\n",
       "      <td>5</td>\n",
       "      <td>manager</td>\n",
       "      <td>general</td>\n",
       "      <td>16665.83</td>\n",
       "      <td>199990.00</td>\n",
       "      <td>14</td>\n",
       "      <td>5</td>\n",
       "      <td>1</td>\n",
       "      <td>...</td>\n",
       "      <td>53</td>\n",
       "      <td>M</td>\n",
       "      <td>NaN</td>\n",
       "      <td>4</td>\n",
       "      <td>life sciences</td>\n",
       "      <td>0</td>\n",
       "      <td>34.0</td>\n",
       "      <td>33</td>\n",
       "      <td>11</td>\n",
       "      <td>9</td>\n",
       "    </tr>\n",
       "    <tr>\n",
       "      <th>2</th>\n",
       "      <td>3</td>\n",
       "      <td>No</td>\n",
       "      <td>5</td>\n",
       "      <td>manager</td>\n",
       "      <td>research &amp; development</td>\n",
       "      <td>16026.67</td>\n",
       "      <td>192320.00</td>\n",
       "      <td>11</td>\n",
       "      <td>3</td>\n",
       "      <td>0</td>\n",
       "      <td>...</td>\n",
       "      <td>43</td>\n",
       "      <td>M</td>\n",
       "      <td>married</td>\n",
       "      <td>2</td>\n",
       "      <td>technical degree</td>\n",
       "      <td>1</td>\n",
       "      <td>22.0</td>\n",
       "      <td>22</td>\n",
       "      <td>11</td>\n",
       "      <td>15</td>\n",
       "    </tr>\n",
       "    <tr>\n",
       "      <th>3</th>\n",
       "      <td>4</td>\n",
       "      <td>No</td>\n",
       "      <td>4</td>\n",
       "      <td>research director</td>\n",
       "      <td>research &amp; development</td>\n",
       "      <td>14307.50</td>\n",
       "      <td>171690.00</td>\n",
       "      <td>19</td>\n",
       "      <td>2</td>\n",
       "      <td>2</td>\n",
       "      <td>...</td>\n",
       "      <td>48</td>\n",
       "      <td>F</td>\n",
       "      <td>married</td>\n",
       "      <td>4</td>\n",
       "      <td>medical</td>\n",
       "      <td>3</td>\n",
       "      <td>NaN</td>\n",
       "      <td>20</td>\n",
       "      <td>5</td>\n",
       "      <td>6</td>\n",
       "    </tr>\n",
       "    <tr>\n",
       "      <th>4</th>\n",
       "      <td>5</td>\n",
       "      <td>No</td>\n",
       "      <td>4</td>\n",
       "      <td>sales executive</td>\n",
       "      <td>sales</td>\n",
       "      <td>12783.92</td>\n",
       "      <td>153407.04</td>\n",
       "      <td>12</td>\n",
       "      <td>5</td>\n",
       "      <td>1</td>\n",
       "      <td>...</td>\n",
       "      <td>47</td>\n",
       "      <td>F</td>\n",
       "      <td>divorced</td>\n",
       "      <td>3</td>\n",
       "      <td>technical degree</td>\n",
       "      <td>2</td>\n",
       "      <td>NaN</td>\n",
       "      <td>19</td>\n",
       "      <td>2</td>\n",
       "      <td>8</td>\n",
       "    </tr>\n",
       "  </tbody>\n",
       "</table>\n",
       "<p>5 rows × 36 columns</p>\n",
       "</div>"
      ],
      "text/plain": [
       "   employee_number attrition  job_level           job_role  \\\n",
       "0                1        No          5  research director   \n",
       "1                2        No          5            manager   \n",
       "2                3        No          5            manager   \n",
       "3                4        No          4  research director   \n",
       "4                5        No          4    sales executive   \n",
       "\n",
       "               department  monthly_income     salary  percent_salary_hike  \\\n",
       "0  research & development        16280.83  195370.00                   13   \n",
       "1                 general        16665.83  199990.00                   14   \n",
       "2  research & development        16026.67  192320.00                   11   \n",
       "3  research & development        14307.50  171690.00                   19   \n",
       "4                   sales        12783.92  153407.04                   12   \n",
       "\n",
       "   training_times_last_year  stock_option_level  ...  age  gender  \\\n",
       "0                         5                   0  ...   52       M   \n",
       "1                         5                   1  ...   53       M   \n",
       "2                         3                   0  ...   43       M   \n",
       "3                         2                   2  ...   48       F   \n",
       "4                         5                   1  ...   47       F   \n",
       "\n",
       "   marital_status education   education_field num_companies_worked  \\\n",
       "0             NaN         3             other                    7   \n",
       "1             NaN         4     life sciences                    0   \n",
       "2         married         2  technical degree                    1   \n",
       "3         married         4           medical                    3   \n",
       "4        divorced         3  technical degree                    2   \n",
       "\n",
       "   total_working_years years_at_company  years_since_last_promotion  \\\n",
       "0                  NaN               20                          15   \n",
       "1                 34.0               33                          11   \n",
       "2                 22.0               22                          11   \n",
       "3                  NaN               20                           5   \n",
       "4                  NaN               19                           2   \n",
       "\n",
       "   years_with_curr_manager  \n",
       "0                       15  \n",
       "1                        9  \n",
       "2                       15  \n",
       "3                        6  \n",
       "4                        8  \n",
       "\n",
       "[5 rows x 36 columns]"
      ]
     },
     "execution_count": 4,
     "metadata": {},
     "output_type": "execute_result"
    }
   ],
   "source": [
    "df = pd.read_csv('../data/hr_raw_data_definitivo.csv', index_col=0)\n",
    "df.head()"
   ]
  },
  {
   "cell_type": "code",
   "execution_count": 5,
   "metadata": {},
   "outputs": [],
   "source": [
    "grupo_control = df[df['satisfaction'] == 'satisfied']"
   ]
  },
  {
   "cell_type": "code",
   "execution_count": 6,
   "metadata": {},
   "outputs": [],
   "source": [
    "grupo_variante = df[df['satisfaction'] == 'not satisfied']"
   ]
  },
  {
   "cell_type": "code",
   "execution_count": 7,
   "metadata": {},
   "outputs": [
    {
     "name": "stdout",
     "output_type": "stream",
     "text": [
      "13.668341708542714\n"
     ]
    }
   ],
   "source": [
    "grupo_control_porcentaje_rotacion = grupo_control[grupo_control['attrition'] == 'Yes'][\"employee_number\"].count()/grupo_control.shape[0]*100\n",
    "print(grupo_control_porcentaje_rotacion)"
   ]
  },
  {
   "cell_type": "code",
   "execution_count": 8,
   "metadata": {},
   "outputs": [
    {
     "name": "stdout",
     "output_type": "stream",
     "text": [
      "19.87075928917609\n"
     ]
    }
   ],
   "source": [
    "grupo_variante_porcentaje_rotacion = grupo_variante[grupo_variante['attrition'] == 'Yes'][\"employee_number\"].count()/grupo_variante.shape[0]*100\n",
    "print(grupo_variante_porcentaje_rotacion)"
   ]
  },
  {
   "cell_type": "markdown",
   "metadata": {},
   "source": [
    "### Marina y Fiona - 25.11.2024"
   ]
  },
  {
   "cell_type": "markdown",
   "metadata": {},
   "source": [
    "    H0 = Existe una relación entre el nivel de satisfacción en el trabajo y la rotación de empleados en la empresa.\n",
    "    H1 = No existe una relación entre el nivel de satisfacción en el trabajo y la rotación de empleados en la empresa."
   ]
  },
  {
   "cell_type": "code",
   "execution_count": 9,
   "metadata": {},
   "outputs": [],
   "source": [
    "'''Hacemos una tabla de contingencia, ya que son dos variables categóricas, para ver las proporciones.'''\n",
    "tabla_contingencia = pd.crosstab(df[\"satisfaction\"], df[\"attrition\"])"
   ]
  },
  {
   "cell_type": "code",
   "execution_count": 12,
   "metadata": {},
   "outputs": [
    {
     "data": {
      "text/html": [
       "<div>\n",
       "<style scoped>\n",
       "    .dataframe tbody tr th:only-of-type {\n",
       "        vertical-align: middle;\n",
       "    }\n",
       "\n",
       "    .dataframe tbody tr th {\n",
       "        vertical-align: top;\n",
       "    }\n",
       "\n",
       "    .dataframe thead th {\n",
       "        text-align: right;\n",
       "    }\n",
       "</style>\n",
       "<table border=\"1\" class=\"dataframe\">\n",
       "  <thead>\n",
       "    <tr style=\"text-align: right;\">\n",
       "      <th>attrition</th>\n",
       "      <th>No</th>\n",
       "      <th>Yes</th>\n",
       "    </tr>\n",
       "    <tr>\n",
       "      <th>satisfaction</th>\n",
       "      <th></th>\n",
       "      <th></th>\n",
       "    </tr>\n",
       "  </thead>\n",
       "  <tbody>\n",
       "    <tr>\n",
       "      <th>not satisfied</th>\n",
       "      <td>496</td>\n",
       "      <td>123</td>\n",
       "    </tr>\n",
       "    <tr>\n",
       "      <th>satisfied</th>\n",
       "      <td>859</td>\n",
       "      <td>136</td>\n",
       "    </tr>\n",
       "  </tbody>\n",
       "</table>\n",
       "</div>"
      ],
      "text/plain": [
       "attrition       No  Yes\n",
       "satisfaction           \n",
       "not satisfied  496  123\n",
       "satisfied      859  136"
      ]
     },
     "execution_count": 12,
     "metadata": {},
     "output_type": "execute_result"
    }
   ],
   "source": [
    "tabla_contingencia"
   ]
  },
  {
   "cell_type": "code",
   "execution_count": 10,
   "metadata": {},
   "outputs": [
    {
     "name": "stderr",
     "output_type": "stream",
     "text": [
      "/var/folders/n5/d44x7lvd7t5f1m5bfx4hvw7w0000gn/T/ipykernel_19453/964356731.py:1: FutureWarning: \n",
      "\n",
      "Passing `palette` without assigning `hue` is deprecated and will be removed in v0.14.0. Assign the `x` variable to `hue` and set `legend=False` for the same effect.\n",
      "\n",
      "  plot = sns.countplot( x=\"satisfaction\", data=df, palette=\"mako\")\n"
     ]
    },
    {
     "data": {
      "image/png": "[encoded data removed]",
      "text/plain": [
       "<Figure size 640x480 with 1 Axes>"
      ]
     },
     "metadata": {},
     "output_type": "display_data"
    }
   ],
   "source": [
    "plot = sns.countplot( x=\"satisfaction\", data=df, palette=\"mako\") \n",
    "plot.set_title(\"¿Están nuestros empleadxs satisfechxs?\", fontsize=16) \n",
    "plot.set_xlabel(\"Nivel de satisfacción\", fontsize=12) \n",
    "plot.set_ylabel(\"Nº de empleados\", fontsize=12);"
   ]
  },
  {
   "cell_type": "code",
   "execution_count": 11,
   "metadata": {},
   "outputs": [
    {
     "name": "stdout",
     "output_type": "stream",
     "text": [
      "Existe una relación entre el nivel de satisfacción en el trabajo y la rotación de empleados en la empresa.\n"
     ]
    }
   ],
   "source": [
    "'''Confirmar si nos quedamos con la H0 o la H1. En este caso calculamos el chi2 al tratarse de variables categóricas (proporciones).'''\n",
    "\n",
    "_, p_value, _, _ = chi2_contingency(tabla_contingencia)\n",
    "if p_value <= 0.05:\n",
    "    print('Existe una relación entre el nivel de satisfacción en el trabajo y la rotación de empleados en la empresa.')\n",
    "else:\n",
    "    print('No existe una relación entre el nivel de satisfacción en el trabajo y la rotación de empleados en la empresa.')"
   ]
  },
  {
   "cell_type": "markdown",
   "metadata": {},
   "source": [
    "### ¿Existe relación entre el salario y el nivel de rotación de los empleados?\n",
    "    H0 = No existe relación entre el salario y el nivel de rotación de os empleados.\n",
    "    H1 = Existe relación entre el salario y el nivel de rotación de os empleados."
   ]
  },
  {
   "cell_type": "code",
   "execution_count": 14,
   "metadata": {},
   "outputs": [],
   "source": [
    "grupo_control_rotacion = df[df['attrition'] == 'No']"
   ]
  },
  {
   "cell_type": "code",
   "execution_count": 15,
   "metadata": {},
   "outputs": [],
   "source": [
    "grupo_variante_rotacion = df[df['attrition'] == 'Yes']"
   ]
  },
  {
   "cell_type": "code",
   "execution_count": 16,
   "metadata": {},
   "outputs": [
    {
     "data": {
      "image/png": "[encoded data removed]",
      "text/plain": [
       "<Figure size 640x480 with 1 Axes>"
      ]
     },
     "metadata": {},
     "output_type": "display_data"
    }
   ],
   "source": [
    "'''Visualización distribución salarios de empleados satisfechos.'''\n",
    "sns.histplot(x= 'salary', data= grupo_control_rotacion)\n",
    "plt.xlim(0, 200000); "
   ]
  },
  {
   "cell_type": "code",
   "execution_count": 17,
   "metadata": {},
   "outputs": [
    {
     "data": {
      "image/png": "[encoded data removed]",
      "text/plain": [
       "<Figure size 640x480 with 1 Axes>"
      ]
     },
     "metadata": {},
     "output_type": "display_data"
    }
   ],
   "source": [
    "'''Visualización distribución salarios de empleados que se han ido de la empresa.'''\n",
    "sns.histplot(x= 'salary', data= grupo_variante_rotacion)\n",
    "plt.xlim(0, 200000); "
   ]
  },
  {
   "cell_type": "code",
   "execution_count": 18,
   "metadata": {},
   "outputs": [],
   "source": [
    "def normalidad(dataframe, columna):\n",
    "\n",
    "    statistic, p_value = stats.shapiro(dataframe[columna])\n",
    "    if p_value > 0.05:\n",
    "        print(f\"Para la columna {columna} los datos siguen una distribución normal.\")\n",
    "    else:\n",
    "        print(f\"Para la columna {columna} los datos no siguen una distribución normal.\")"
   ]
  },
  {
   "cell_type": "code",
   "execution_count": 19,
   "metadata": {},
   "outputs": [
    {
     "name": "stdout",
     "output_type": "stream",
     "text": [
      "Para la columna ['salary'] los datos no siguen una distribución normal.\n"
     ]
    }
   ],
   "source": [
    "'''¿Siguen los datos salariales de los empleados que siguen en la empresa una distribución normal?'''\n",
    "normalidad(grupo_control_rotacion, ['salary'])"
   ]
  },
  {
   "cell_type": "code",
   "execution_count": 20,
   "metadata": {},
   "outputs": [
    {
     "name": "stdout",
     "output_type": "stream",
     "text": [
      "Para la columna ['salary'] los datos no siguen una distribución normal.\n"
     ]
    }
   ],
   "source": [
    "'''¿Siguen los datos salariales de los empleados que se han ido de la empresa una distribución normal?'''\n",
    "normalidad(grupo_variante_rotacion, ['salary'])"
   ]
  },
  {
   "cell_type": "code",
   "execution_count": 21,
   "metadata": {},
   "outputs": [
    {
     "name": "stdout",
     "output_type": "stream",
     "text": [
      "Para salary, las medianas son diferentes.\n"
     ]
    }
   ],
   "source": [
    "def test_man_whitney(dataframe, metricas, grupo_control, grupo_variante, columna_grupos=\"attrition\"):\n",
    "    # Filtramos los datos por los dos grupos (por ejemplo, \"Yes\" y \"No\" para la rotación)\n",
    "    control = dataframe[dataframe[columna_grupos] == grupo_control]\n",
    "    variante = dataframe[dataframe[columna_grupos] == grupo_variante]\n",
    "\n",
    "    # Realizamos la prueba para cada métrica (en este caso, solo salario)\n",
    "    for metrica in metricas:\n",
    "        # Extraemos las columnas correspondientes para cada grupo\n",
    "        metrica_control = control[metrica]\n",
    "        metrica_variante = variante[metrica]\n",
    "\n",
    "        # Aplicamos el test de Mann-Whitney\n",
    "        u_statistic, p_value = stats.mannwhitneyu(metrica_control, metrica_variante)\n",
    "\n",
    "        if p_value < 0.05:\n",
    "            print(f\"Para {metrica}, las medianas son diferentes.\")\n",
    "        else:\n",
    "            print(f\"Para {metrica}, las medianas son iguales.\")\n",
    "\n",
    "# Llamamos a la función\n",
    "test_man_whitney(df, ['salary'], 'No', 'Yes')  "
   ]
  },
  {
   "cell_type": "markdown",
   "metadata": {},
   "source": [
    "### Rechazamos la hipótesis nula y afirmarmos que existe una relación entre el salario y la rotación de empleados."
   ]
  },
  {
   "cell_type": "code",
   "execution_count": 22,
   "metadata": {},
   "outputs": [],
   "source": [
    "full_time = df[df['standard_hours'] == 'Full Time']"
   ]
  },
  {
   "cell_type": "code",
   "execution_count": 23,
   "metadata": {},
   "outputs": [],
   "source": [
    "part_time = df[df['standard_hours'] == 'Part Time']"
   ]
  },
  {
   "cell_type": "code",
   "execution_count": 24,
   "metadata": {},
   "outputs": [
    {
     "data": {
      "image/png": "[encoded data removed]",
      "text/plain": [
       "<Figure size 640x480 with 1 Axes>"
      ]
     },
     "metadata": {},
     "output_type": "display_data"
    }
   ],
   "source": [
    "sns.histplot(x= 'salary', data= full_time)\n",
    "plt.xlim(0, 200000); "
   ]
  },
  {
   "cell_type": "code",
   "execution_count": 25,
   "metadata": {},
   "outputs": [
    {
     "data": {
      "image/png": "[encoded data removed]",
      "text/plain": [
       "<Figure size 640x480 with 1 Axes>"
      ]
     },
     "metadata": {},
     "output_type": "display_data"
    }
   ],
   "source": [
    "sns.histplot(x= 'salary', data= part_time)\n",
    "plt.xlim(0, 200000); "
   ]
  },
  {
   "cell_type": "markdown",
   "metadata": {},
   "source": [
    "### Hacemos la prueba de M Whitney por separado, ya que no sabemos el equivalente del salario full time para los que trabajan a media jornada y podría afectar sobre cómo están distribuidos los salarios."
   ]
  },
  {
   "cell_type": "code",
   "execution_count": 26,
   "metadata": {},
   "outputs": [
    {
     "name": "stdout",
     "output_type": "stream",
     "text": [
      "Para salary, las medianas son diferentes.\n"
     ]
    }
   ],
   "source": [
    "# Prueba de Man Whitney para ver la relación entre el salario de los empleados full time y la rotación:\n",
    "\n",
    "test_man_whitney(full_time, ['salary'], 'No', 'Yes') "
   ]
  },
  {
   "cell_type": "code",
   "execution_count": 27,
   "metadata": {},
   "outputs": [
    {
     "name": "stdout",
     "output_type": "stream",
     "text": [
      "Para salary, las medianas son diferentes.\n"
     ]
    }
   ],
   "source": [
    "# Prueba de Man Whitney para ver la relación entre el salario de los empleados part time y la rotación:\n",
    "\n",
    "test_man_whitney(part_time, ['salary'], 'No', 'Yes') "
   ]
  }
 ],
 "metadata": {
  "kernelspec": {
   "display_name": "Python 3",
   "language": "python",
   "name": "python3"
  },
  "language_info": {
   "codemirror_mode": {
    "name": "ipython",
    "version": 3
   },
   "file_extension": ".py",
   "mimetype": "text/x-python",
   "name": "python",
   "nbconvert_exporter": "python",
   "pygments_lexer": "ipython3",
   "version": "3.9.6"
  }
 },
 "nbformat": 4,
 "nbformat_minor": 2
}
