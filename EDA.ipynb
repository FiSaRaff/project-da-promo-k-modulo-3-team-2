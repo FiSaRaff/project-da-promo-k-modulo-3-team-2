{
 "cells": [
  {
   "cell_type": "code",
   "execution_count": 1,
   "metadata": {},
   "outputs": [],
   "source": [
    "import pandas as pd\n",
    "import numpy as np"
   ]
  },
  {
   "cell_type": "code",
   "execution_count": 2,
   "metadata": {},
   "outputs": [],
   "source": [
    "df_EDA = pd.read_csv('hr_raw_data_final.csv', index_col=0)"
   ]
  },
  {
   "cell_type": "code",
   "execution_count": 3,
   "metadata": {},
   "outputs": [
    {
     "name": "stdout",
     "output_type": "stream",
     "text": [
      "<class 'pandas.core.frame.DataFrame'>\n",
      "Index: 1678 entries, 0 to 1677\n",
      "Data columns (total 41 columns):\n",
      " #   Column                    Non-Null Count  Dtype  \n",
      "---  ------                    --------------  -----  \n",
      " 0   age                       1678 non-null   object \n",
      " 1   attrition                 1678 non-null   object \n",
      " 2   businesstravel            877 non-null    object \n",
      " 3   dailyrate                 1678 non-null   float64\n",
      " 4   department                312 non-null    object \n",
      " 5   distancefromhome          1678 non-null   int64  \n",
      " 6   education                 1678 non-null   int64  \n",
      " 7   educationfield            904 non-null    object \n",
      " 8   employeecount             1678 non-null   int64  \n",
      " 9   employeenumber            1678 non-null   int64  \n",
      " 10  environmentsatisfaction   1678 non-null   int64  \n",
      " 11  gender                    1678 non-null   int64  \n",
      " 12  hourlyrate                411 non-null    float64\n",
      " 13  jobinvolvement            1678 non-null   int64  \n",
      " 14  joblevel                  1678 non-null   int64  \n",
      " 15  jobrole                   1678 non-null   object \n",
      " 16  jobsatisfaction           1678 non-null   int64  \n",
      " 17  maritalstatus             1003 non-null   object \n",
      " 18  monthlyincome             1189 non-null   object \n",
      " 19  monthlyrate               1678 non-null   object \n",
      " 20  numcompaniesworked        1678 non-null   int64  \n",
      " 21  over18                    740 non-null    object \n",
      " 22  overtime                  982 non-null    object \n",
      " 23  percentsalaryhike         1678 non-null   int64  \n",
      " 24  performancerating         1478 non-null   object \n",
      " 25  relationshipsatisfaction  1678 non-null   int64  \n",
      " 26  standardhours             1327 non-null   object \n",
      " 27  stockoptionlevel          1678 non-null   int64  \n",
      " 28  totalworkingyears         1129 non-null   object \n",
      " 29  trainingtimeslastyear     1678 non-null   int64  \n",
      " 30  worklifebalance           1564 non-null   object \n",
      " 31  yearsatcompany            1678 non-null   int64  \n",
      " 32  yearsincurrentrole        35 non-null     object \n",
      " 33  yearssincelastpromotion   1678 non-null   int64  \n",
      " 34  yearswithcurrmanager      1678 non-null   int64  \n",
      " 35  sameasmonthlyincome       1189 non-null   object \n",
      " 36  datebirth                 1678 non-null   int64  \n",
      " 37  salary                    1393 non-null   object \n",
      " 38  roledepartament           312 non-null    object \n",
      " 39  numberchildren            0 non-null      float64\n",
      " 40  remotework                1678 non-null   object \n",
      "dtypes: float64(3), int64(18), object(20)\n",
      "memory usage: 550.6+ KB\n"
     ]
    }
   ],
   "source": [
    "df_EDA.info()"
   ]
  },
  {
   "cell_type": "code",
   "execution_count": null,
   "metadata": {},
   "outputs": [],
   "source": [
    "# no ejecutamos para añadir cambios.\n",
    "\n",
    "def exploracion(df):\n",
    "\n",
    "    df_info = pd.DataFrame()\n",
    "\n",
    "    df_info[\"% nulos\"] = round(df.isna().sum()/df.shape[0]*100, 2).astype(str)+\"%\"\n",
    "    df_info[\"% no_nulos\"] = round(df.notna().sum()/df.shape[0]*100, 2).astype(str)+\"%\"\n",
    "    df_info[\"tipo_dato\"] = df.dtypes\n",
    "    df_info[\"num_valores_unicos\"] = df.nunique()\n",
    "\n",
    "    print(f\"\"\"El DataFrame tiene {df.shape[0]} filas y {df.shape[1]} columnas.\n",
    "Tiene {df.duplicated().sum()} datos duplicados, lo que supone un porcentaje de {round(df.duplicated().sum()/df.shape[0], 2)}% de los datos.\n",
    "\n",
    "Hay {len(list(df_info[(df_info[\"% nulos\"] != \"0.0%\")].index))} columnas con datos nulos, y son: \n",
    "{list(df_info[(df_info[\"% nulos\"] != \"0.0%\")].index)}\n",
    "\n",
    "y sin nulos hay {len(list(df_info[(df_info[\"% nulos\"] == \"0.0%\")].index))} columnas y son: \n",
    "{list(df_info[(df_info[\"% nulos\"] == \"0.0%\")].index)}\n",
    "\n",
    "\n",
    "A continuación tienes un detalle sobre los datos nulos y los tipos y número de datos:\"\"\")\n",
    "    \n",
    "    display(df_info.head())\n",
    "\n",
    "    print(\"Principales estadísticos de las columnas categóricas:\")\n",
    "\n",
    "    display(df.describe(include=\"O\").T)\n",
    "\n",
    "    print(\"Principales estadísticos de las columnas numéricas:\")\n",
    "\n",
    "    display(df.describe(exclude=\"O\").T)\n",
    "\n",
    "    return df_info"
   ]
  },
  {
   "cell_type": "code",
   "execution_count": null,
   "metadata": {},
   "outputs": [],
   "source": []
  }
 ],
 "metadata": {
  "kernelspec": {
   "display_name": "Python 3",
   "language": "python",
   "name": "python3"
  },
  "language_info": {
   "codemirror_mode": {
    "name": "ipython",
    "version": 3
   },
   "file_extension": ".py",
   "mimetype": "text/x-python",
   "name": "python",
   "nbconvert_exporter": "python",
   "pygments_lexer": "ipython3",
   "version": "3.9.6"
  }
 },
 "nbformat": 4,
 "nbformat_minor": 2
}
