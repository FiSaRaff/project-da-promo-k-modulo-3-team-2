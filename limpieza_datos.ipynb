{
 "cells": [
  {
   "cell_type": "code",
   "execution_count": 28,
   "metadata": {},
   "outputs": [],
   "source": [
    "import pandas as pd\n",
    "import numpy as np\n",
    "from datetime import datetime\n",
    "# Configuración\n",
    "# -----------------------------------------------------------------------\n",
    "pd.set_option('display.max_columns', None) # para poder visualizar todas las columnas de los DataFrames"
   ]
  },
  {
   "cell_type": "code",
   "execution_count": 29,
   "metadata": {},
   "outputs": [],
   "source": [
    "df_clean = pd.read_csv('hr_raw_data_clean.csv', index_col=0)"
   ]
  },
  {
   "cell_type": "markdown",
   "metadata": {},
   "source": [
    "### FUNCIÓN PARA HOMOGENEIZAR DATOS DE \"AGE\""
   ]
  },
  {
   "cell_type": "code",
   "execution_count": 3,
   "metadata": {},
   "outputs": [
    {
     "data": {
      "text/html": [
       "<div>\n",
       "<style scoped>\n",
       "    .dataframe tbody tr th:only-of-type {\n",
       "        vertical-align: middle;\n",
       "    }\n",
       "\n",
       "    .dataframe tbody tr th {\n",
       "        vertical-align: top;\n",
       "    }\n",
       "\n",
       "    .dataframe thead th {\n",
       "        text-align: right;\n",
       "    }\n",
       "</style>\n",
       "<table border=\"1\" class=\"dataframe\">\n",
       "  <thead>\n",
       "    <tr style=\"text-align: right;\">\n",
       "      <th></th>\n",
       "      <th>age</th>\n",
       "      <th>attrition</th>\n",
       "      <th>businesstravel</th>\n",
       "      <th>dailyrate</th>\n",
       "      <th>department</th>\n",
       "      <th>distancefromhome</th>\n",
       "      <th>education</th>\n",
       "      <th>educationfield</th>\n",
       "      <th>employeecount</th>\n",
       "      <th>employeenumber</th>\n",
       "      <th>environmentsatisfaction</th>\n",
       "      <th>gender</th>\n",
       "      <th>hourlyrate</th>\n",
       "      <th>jobinvolvement</th>\n",
       "      <th>joblevel</th>\n",
       "      <th>jobrole</th>\n",
       "      <th>jobsatisfaction</th>\n",
       "      <th>maritalstatus</th>\n",
       "      <th>monthlyincome</th>\n",
       "      <th>monthlyrate</th>\n",
       "      <th>numcompaniesworked</th>\n",
       "      <th>over18</th>\n",
       "      <th>overtime</th>\n",
       "      <th>percentsalaryhike</th>\n",
       "      <th>performancerating</th>\n",
       "      <th>relationshipsatisfaction</th>\n",
       "      <th>standardhours</th>\n",
       "      <th>stockoptionlevel</th>\n",
       "      <th>totalworkingyears</th>\n",
       "      <th>trainingtimeslastyear</th>\n",
       "      <th>worklifebalance</th>\n",
       "      <th>yearsatcompany</th>\n",
       "      <th>yearsincurrentrole</th>\n",
       "      <th>yearssincelastpromotion</th>\n",
       "      <th>yearswithcurrmanager</th>\n",
       "      <th>sameasmonthlyincome</th>\n",
       "      <th>datebirth</th>\n",
       "      <th>salary</th>\n",
       "      <th>roledepartament</th>\n",
       "      <th>numberchildren</th>\n",
       "      <th>remotework</th>\n",
       "    </tr>\n",
       "  </thead>\n",
       "  <tbody>\n",
       "    <tr>\n",
       "      <th>1216</th>\n",
       "      <td>47</td>\n",
       "      <td>No</td>\n",
       "      <td>travel_rarely</td>\n",
       "      <td>1973.984127</td>\n",
       "      <td>NaN</td>\n",
       "      <td>2</td>\n",
       "      <td>4</td>\n",
       "      <td>NaN</td>\n",
       "      <td>1</td>\n",
       "      <td>1217</td>\n",
       "      <td>3</td>\n",
       "      <td>0</td>\n",
       "      <td>246.748016</td>\n",
       "      <td>3</td>\n",
       "      <td>5</td>\n",
       "      <td>REseARcH DiRectOr</td>\n",
       "      <td>4</td>\n",
       "      <td>NaN</td>\n",
       "      <td>15943,72$</td>\n",
       "      <td>41453,67$</td>\n",
       "      <td>7</td>\n",
       "      <td>Y</td>\n",
       "      <td>NaN</td>\n",
       "      <td>17</td>\n",
       "      <td>3,0</td>\n",
       "      <td>3</td>\n",
       "      <td>Full Time</td>\n",
       "      <td>1</td>\n",
       "      <td>24,0</td>\n",
       "      <td>3</td>\n",
       "      <td>3,0</td>\n",
       "      <td>2</td>\n",
       "      <td>NaN</td>\n",
       "      <td>2</td>\n",
       "      <td>2</td>\n",
       "      <td>15943,72$</td>\n",
       "      <td>1977</td>\n",
       "      <td>191324,62$</td>\n",
       "      <td>NaN</td>\n",
       "      <td>NaN</td>\n",
       "      <td>1</td>\n",
       "    </tr>\n",
       "    <tr>\n",
       "      <th>1487</th>\n",
       "      <td>22</td>\n",
       "      <td>No</td>\n",
       "      <td>NaN</td>\n",
       "      <td>213.571429</td>\n",
       "      <td>NaN</td>\n",
       "      <td>-25</td>\n",
       "      <td>1</td>\n",
       "      <td>NaN</td>\n",
       "      <td>1</td>\n",
       "      <td>1488</td>\n",
       "      <td>4</td>\n",
       "      <td>1</td>\n",
       "      <td>26.696429</td>\n",
       "      <td>2</td>\n",
       "      <td>1</td>\n",
       "      <td>REsEaRch scIenTIsT</td>\n",
       "      <td>2</td>\n",
       "      <td>Single</td>\n",
       "      <td>NaN</td>\n",
       "      <td>4485,00$</td>\n",
       "      <td>1</td>\n",
       "      <td>Y</td>\n",
       "      <td>Yes</td>\n",
       "      <td>11</td>\n",
       "      <td>3,0</td>\n",
       "      <td>3</td>\n",
       "      <td>Part Time</td>\n",
       "      <td>0</td>\n",
       "      <td>2,0</td>\n",
       "      <td>6</td>\n",
       "      <td>4,0</td>\n",
       "      <td>2</td>\n",
       "      <td>NaN</td>\n",
       "      <td>2</td>\n",
       "      <td>2</td>\n",
       "      <td>NaN</td>\n",
       "      <td>2002</td>\n",
       "      <td>20700,00$</td>\n",
       "      <td>NaN</td>\n",
       "      <td>NaN</td>\n",
       "      <td>1</td>\n",
       "    </tr>\n",
       "    <tr>\n",
       "      <th>1060</th>\n",
       "      <td>45</td>\n",
       "      <td>No</td>\n",
       "      <td>NaN</td>\n",
       "      <td>352.857143</td>\n",
       "      <td>NaN</td>\n",
       "      <td>20</td>\n",
       "      <td>3</td>\n",
       "      <td>Life Sciences</td>\n",
       "      <td>1</td>\n",
       "      <td>1061</td>\n",
       "      <td>4</td>\n",
       "      <td>0</td>\n",
       "      <td>44.107143</td>\n",
       "      <td>3</td>\n",
       "      <td>1</td>\n",
       "      <td>rEsEarCH SCIeNtist</td>\n",
       "      <td>2</td>\n",
       "      <td>NaN</td>\n",
       "      <td>2850,00$</td>\n",
       "      <td>7410,00$</td>\n",
       "      <td>1</td>\n",
       "      <td>Y</td>\n",
       "      <td>NaN</td>\n",
       "      <td>13</td>\n",
       "      <td>3,0</td>\n",
       "      <td>3</td>\n",
       "      <td>Full Time</td>\n",
       "      <td>0</td>\n",
       "      <td>6,0</td>\n",
       "      <td>3</td>\n",
       "      <td>2,0</td>\n",
       "      <td>5</td>\n",
       "      <td>NaN</td>\n",
       "      <td>1</td>\n",
       "      <td>3</td>\n",
       "      <td>2850,00$</td>\n",
       "      <td>1979</td>\n",
       "      <td>34200,00$</td>\n",
       "      <td>NaN</td>\n",
       "      <td>NaN</td>\n",
       "      <td>0</td>\n",
       "    </tr>\n",
       "    <tr>\n",
       "      <th>1389</th>\n",
       "      <td>46</td>\n",
       "      <td>No</td>\n",
       "      <td>travel_frequently</td>\n",
       "      <td>1863.436508</td>\n",
       "      <td>NaN</td>\n",
       "      <td>25</td>\n",
       "      <td>3</td>\n",
       "      <td>Medical</td>\n",
       "      <td>1</td>\n",
       "      <td>1390</td>\n",
       "      <td>2</td>\n",
       "      <td>1</td>\n",
       "      <td>NaN</td>\n",
       "      <td>3</td>\n",
       "      <td>5</td>\n",
       "      <td>manAGEr</td>\n",
       "      <td>2</td>\n",
       "      <td>NaN</td>\n",
       "      <td>15050,83$</td>\n",
       "      <td>39132,17$</td>\n",
       "      <td>3</td>\n",
       "      <td>NaN</td>\n",
       "      <td>NaN</td>\n",
       "      <td>22</td>\n",
       "      <td>4,0</td>\n",
       "      <td>3</td>\n",
       "      <td>Full Time</td>\n",
       "      <td>0</td>\n",
       "      <td>22,0</td>\n",
       "      <td>4</td>\n",
       "      <td>3,0</td>\n",
       "      <td>0</td>\n",
       "      <td>NaN</td>\n",
       "      <td>0</td>\n",
       "      <td>0</td>\n",
       "      <td>15050,83$</td>\n",
       "      <td>1978</td>\n",
       "      <td>180610,00$</td>\n",
       "      <td>NaN</td>\n",
       "      <td>NaN</td>\n",
       "      <td>0</td>\n",
       "    </tr>\n",
       "    <tr>\n",
       "      <th>1499</th>\n",
       "      <td>32</td>\n",
       "      <td>No</td>\n",
       "      <td>travel_rarely</td>\n",
       "      <td>564.158730</td>\n",
       "      <td>NaN</td>\n",
       "      <td>29</td>\n",
       "      <td>4</td>\n",
       "      <td>Marketing</td>\n",
       "      <td>1</td>\n",
       "      <td>1500</td>\n",
       "      <td>1</td>\n",
       "      <td>1</td>\n",
       "      <td>NaN</td>\n",
       "      <td>2</td>\n",
       "      <td>2</td>\n",
       "      <td>saLeS eXEcUTivE</td>\n",
       "      <td>4</td>\n",
       "      <td>NaN</td>\n",
       "      <td>NaN</td>\n",
       "      <td>11847,33$</td>\n",
       "      <td>1</td>\n",
       "      <td>NaN</td>\n",
       "      <td>NaN</td>\n",
       "      <td>14</td>\n",
       "      <td>3,0</td>\n",
       "      <td>1</td>\n",
       "      <td>Full Time</td>\n",
       "      <td>2</td>\n",
       "      <td>NaN</td>\n",
       "      <td>3</td>\n",
       "      <td>3,0</td>\n",
       "      <td>12</td>\n",
       "      <td>NaN</td>\n",
       "      <td>5</td>\n",
       "      <td>7</td>\n",
       "      <td>NaN</td>\n",
       "      <td>1992</td>\n",
       "      <td>54680,00$</td>\n",
       "      <td>NaN</td>\n",
       "      <td>NaN</td>\n",
       "      <td>1</td>\n",
       "    </tr>\n",
       "  </tbody>\n",
       "</table>\n",
       "</div>"
      ],
      "text/plain": [
       "      age attrition     businesstravel    dailyrate department  \\\n",
       "1216   47        No      travel_rarely  1973.984127        NaN   \n",
       "1487   22        No                NaN   213.571429        NaN   \n",
       "1060   45        No                NaN   352.857143        NaN   \n",
       "1389   46        No  travel_frequently  1863.436508        NaN   \n",
       "1499   32        No      travel_rarely   564.158730        NaN   \n",
       "\n",
       "      distancefromhome  education educationfield  employeecount  \\\n",
       "1216                 2          4            NaN              1   \n",
       "1487               -25          1            NaN              1   \n",
       "1060                20          3  Life Sciences              1   \n",
       "1389                25          3        Medical              1   \n",
       "1499                29          4      Marketing              1   \n",
       "\n",
       "      employeenumber  environmentsatisfaction  gender  hourlyrate  \\\n",
       "1216            1217                        3       0  246.748016   \n",
       "1487            1488                        4       1   26.696429   \n",
       "1060            1061                        4       0   44.107143   \n",
       "1389            1390                        2       1         NaN   \n",
       "1499            1500                        1       1         NaN   \n",
       "\n",
       "      jobinvolvement  joblevel               jobrole  jobsatisfaction  \\\n",
       "1216               3         5    REseARcH DiRectOr                 4   \n",
       "1487               2         1   REsEaRch scIenTIsT                 2   \n",
       "1060               3         1   rEsEarCH SCIeNtist                 2   \n",
       "1389               3         5              manAGEr                 2   \n",
       "1499               2         2      saLeS eXEcUTivE                 4   \n",
       "\n",
       "     maritalstatus monthlyincome monthlyrate  numcompaniesworked over18  \\\n",
       "1216           NaN     15943,72$   41453,67$                   7      Y   \n",
       "1487        Single           NaN    4485,00$                   1      Y   \n",
       "1060           NaN      2850,00$    7410,00$                   1      Y   \n",
       "1389           NaN     15050,83$   39132,17$                   3    NaN   \n",
       "1499           NaN           NaN   11847,33$                   1    NaN   \n",
       "\n",
       "     overtime  percentsalaryhike performancerating  relationshipsatisfaction  \\\n",
       "1216      NaN                 17               3,0                         3   \n",
       "1487      Yes                 11               3,0                         3   \n",
       "1060      NaN                 13               3,0                         3   \n",
       "1389      NaN                 22               4,0                         3   \n",
       "1499      NaN                 14               3,0                         1   \n",
       "\n",
       "     standardhours  stockoptionlevel totalworkingyears  trainingtimeslastyear  \\\n",
       "1216     Full Time                 1              24,0                      3   \n",
       "1487     Part Time                 0               2,0                      6   \n",
       "1060     Full Time                 0               6,0                      3   \n",
       "1389     Full Time                 0              22,0                      4   \n",
       "1499     Full Time                 2               NaN                      3   \n",
       "\n",
       "     worklifebalance  yearsatcompany yearsincurrentrole  \\\n",
       "1216             3,0               2                NaN   \n",
       "1487             4,0               2                NaN   \n",
       "1060             2,0               5                NaN   \n",
       "1389             3,0               0                NaN   \n",
       "1499             3,0              12                NaN   \n",
       "\n",
       "      yearssincelastpromotion  yearswithcurrmanager sameasmonthlyincome  \\\n",
       "1216                        2                     2           15943,72$   \n",
       "1487                        2                     2                 NaN   \n",
       "1060                        1                     3            2850,00$   \n",
       "1389                        0                     0           15050,83$   \n",
       "1499                        5                     7                 NaN   \n",
       "\n",
       "      datebirth      salary roledepartament  numberchildren remotework  \n",
       "1216       1977  191324,62$             NaN             NaN          1  \n",
       "1487       2002   20700,00$             NaN             NaN          1  \n",
       "1060       1979   34200,00$             NaN             NaN          0  \n",
       "1389       1978  180610,00$             NaN             NaN          0  \n",
       "1499       1992   54680,00$             NaN             NaN          1  "
      ]
     },
     "execution_count": 3,
     "metadata": {},
     "output_type": "execute_result"
    }
   ],
   "source": [
    "def age(year):\n",
    "    '''Mantenemos la columna edad actualizada restando el año actual \n",
    "    con el año de nacimiento registrado en la columna \"datebrith\".\n",
    "    usamos la libreria datetime\n",
    "    '''\n",
    "    age_def = (datetime.now().year) - year\n",
    "    return age_def\n",
    "\n",
    "df_clean[\"age\"] = df_clean[\"datebirth\"].apply(age)\n",
    "\n",
    "df_clean.sample(5)"
   ]
  },
  {
   "cell_type": "code",
   "execution_count": 5,
   "metadata": {},
   "outputs": [
    {
     "data": {
      "text/plain": [
       "np.int64(0)"
      ]
     },
     "execution_count": 5,
     "metadata": {},
     "output_type": "execute_result"
    }
   ],
   "source": [
    "df_clean[\"age\"].isnull().sum()"
   ]
  },
  {
   "cell_type": "markdown",
   "metadata": {},
   "source": [
    "### FUNCIÓN PARA REEMPLAZAR , por . Y ELIMINAR $"
   ]
  },
  {
   "cell_type": "code",
   "execution_count": null,
   "metadata": {},
   "outputs": [],
   "source": [
    "def replace_dot(cadena):\n",
    "    ''' Para las columnas cuyos valores son object con separación con comas y símbolo \n",
    "    de $ al final. \n",
    "    Sustituir , por . y eliminar &\n",
    "    Pasar el valor a float'''\n",
    "    try:\n",
    "        # Reemplazar las comas por puntos en la cadena\n",
    "        return float(cadena.replace(\",\", \".\").replace(\"$\",\"\"))\n",
    "    \n",
    "    except:\n",
    "        # Si ocurre algún error (por ejemplo, si el argumento no es una cadena),\n",
    "        # devolver np.nan (valor Not a Number) para indicar un valor inválido o no disponible.\n",
    "        return np.nan\n",
    "\n",
    "lista_columnas=[\"monthlyincome\", \"monthlyrate\", \"performancerating\", \"totalworkingyears\", \"worklifebalance\", \"sameasmonthlyincome\", \"salary\"]\n",
    "\n",
    "for columna in lista_columnas:\n",
    "     df_clean[columna] = df_clean[columna].apply(replace_dot)\n",
    "\n",
    "df_clean.head(5)"
   ]
  },
  {
   "cell_type": "markdown",
   "metadata": {},
   "source": [
    "### redondear valores de tipo float con muchos decimales, a 2 decimales"
   ]
  },
  {
   "cell_type": "code",
   "execution_count": null,
   "metadata": {},
   "outputs": [
    {
     "data": {
      "text/html": [
       "<div>\n",
       "<style scoped>\n",
       "    .dataframe tbody tr th:only-of-type {\n",
       "        vertical-align: middle;\n",
       "    }\n",
       "\n",
       "    .dataframe tbody tr th {\n",
       "        vertical-align: top;\n",
       "    }\n",
       "\n",
       "    .dataframe thead th {\n",
       "        text-align: right;\n",
       "    }\n",
       "</style>\n",
       "<table border=\"1\" class=\"dataframe\">\n",
       "  <thead>\n",
       "    <tr style=\"text-align: right;\">\n",
       "      <th></th>\n",
       "      <th>age</th>\n",
       "      <th>attrition</th>\n",
       "      <th>businesstravel</th>\n",
       "      <th>dailyrate</th>\n",
       "      <th>department</th>\n",
       "      <th>distancefromhome</th>\n",
       "      <th>education</th>\n",
       "      <th>educationfield</th>\n",
       "      <th>employeecount</th>\n",
       "      <th>employeenumber</th>\n",
       "      <th>environmentsatisfaction</th>\n",
       "      <th>gender</th>\n",
       "      <th>hourlyrate</th>\n",
       "      <th>jobinvolvement</th>\n",
       "      <th>joblevel</th>\n",
       "      <th>jobrole</th>\n",
       "      <th>jobsatisfaction</th>\n",
       "      <th>maritalstatus</th>\n",
       "      <th>monthlyincome</th>\n",
       "      <th>monthlyrate</th>\n",
       "      <th>numcompaniesworked</th>\n",
       "      <th>over18</th>\n",
       "      <th>overtime</th>\n",
       "      <th>percentsalaryhike</th>\n",
       "      <th>performancerating</th>\n",
       "      <th>relationshipsatisfaction</th>\n",
       "      <th>standardhours</th>\n",
       "      <th>stockoptionlevel</th>\n",
       "      <th>totalworkingyears</th>\n",
       "      <th>trainingtimeslastyear</th>\n",
       "      <th>worklifebalance</th>\n",
       "      <th>yearsatcompany</th>\n",
       "      <th>yearsincurrentrole</th>\n",
       "      <th>yearssincelastpromotion</th>\n",
       "      <th>yearswithcurrmanager</th>\n",
       "      <th>sameasmonthlyincome</th>\n",
       "      <th>datebirth</th>\n",
       "      <th>salary</th>\n",
       "      <th>roledepartament</th>\n",
       "      <th>numberchildren</th>\n",
       "      <th>remotework</th>\n",
       "    </tr>\n",
       "  </thead>\n",
       "  <tbody>\n",
       "    <tr>\n",
       "      <th>0</th>\n",
       "      <td>52</td>\n",
       "      <td>No</td>\n",
       "      <td>NaN</td>\n",
       "      <td>2015.72</td>\n",
       "      <td>NaN</td>\n",
       "      <td>6</td>\n",
       "      <td>3</td>\n",
       "      <td>NaN</td>\n",
       "      <td>1</td>\n",
       "      <td>1</td>\n",
       "      <td>1</td>\n",
       "      <td>0</td>\n",
       "      <td>NaN</td>\n",
       "      <td>3</td>\n",
       "      <td>5</td>\n",
       "      <td>resEArch DIREcToR</td>\n",
       "      <td>3</td>\n",
       "      <td>NaN</td>\n",
       "      <td>16280.83</td>\n",
       "      <td>42330.17</td>\n",
       "      <td>7</td>\n",
       "      <td>Y</td>\n",
       "      <td>No</td>\n",
       "      <td>13</td>\n",
       "      <td>3.0</td>\n",
       "      <td>3</td>\n",
       "      <td>Full Time</td>\n",
       "      <td>0</td>\n",
       "      <td>NaN</td>\n",
       "      <td>5</td>\n",
       "      <td>3.0</td>\n",
       "      <td>20</td>\n",
       "      <td>NaN</td>\n",
       "      <td>15</td>\n",
       "      <td>15</td>\n",
       "      <td>16280.83</td>\n",
       "      <td>1972</td>\n",
       "      <td>195370.0</td>\n",
       "      <td>NaN</td>\n",
       "      <td>NaN</td>\n",
       "      <td>Yes</td>\n",
       "    </tr>\n",
       "    <tr>\n",
       "      <th>1</th>\n",
       "      <td>53</td>\n",
       "      <td>No</td>\n",
       "      <td>NaN</td>\n",
       "      <td>2063.39</td>\n",
       "      <td>NaN</td>\n",
       "      <td>1</td>\n",
       "      <td>4</td>\n",
       "      <td>Life Sciences</td>\n",
       "      <td>1</td>\n",
       "      <td>2</td>\n",
       "      <td>3</td>\n",
       "      <td>0</td>\n",
       "      <td>NaN</td>\n",
       "      <td>2</td>\n",
       "      <td>5</td>\n",
       "      <td>ManAGeR</td>\n",
       "      <td>3</td>\n",
       "      <td>NaN</td>\n",
       "      <td>NaN</td>\n",
       "      <td>43331.17</td>\n",
       "      <td>0</td>\n",
       "      <td>NaN</td>\n",
       "      <td>NaN</td>\n",
       "      <td>14</td>\n",
       "      <td>3.0</td>\n",
       "      <td>1</td>\n",
       "      <td>NaN</td>\n",
       "      <td>1</td>\n",
       "      <td>34.0</td>\n",
       "      <td>5</td>\n",
       "      <td>3.0</td>\n",
       "      <td>33</td>\n",
       "      <td>NaN</td>\n",
       "      <td>11</td>\n",
       "      <td>9</td>\n",
       "      <td>NaN</td>\n",
       "      <td>1971</td>\n",
       "      <td>199990.0</td>\n",
       "      <td>NaN</td>\n",
       "      <td>NaN</td>\n",
       "      <td>1</td>\n",
       "    </tr>\n",
       "  </tbody>\n",
       "</table>\n",
       "</div>"
      ],
      "text/plain": [
       "   age attrition businesstravel  dailyrate department  distancefromhome  \\\n",
       "0   52        No            NaN    2015.72        NaN                 6   \n",
       "1   53        No            NaN    2063.39        NaN                 1   \n",
       "\n",
       "   education educationfield  employeecount  employeenumber  \\\n",
       "0          3            NaN              1               1   \n",
       "1          4  Life Sciences              1               2   \n",
       "\n",
       "   environmentsatisfaction  gender  hourlyrate  jobinvolvement  joblevel  \\\n",
       "0                        1       0         NaN               3         5   \n",
       "1                        3       0         NaN               2         5   \n",
       "\n",
       "               jobrole  jobsatisfaction maritalstatus  monthlyincome  \\\n",
       "0   resEArch DIREcToR                 3           NaN       16280.83   \n",
       "1             ManAGeR                 3           NaN            NaN   \n",
       "\n",
       "   monthlyrate  numcompaniesworked over18 overtime  percentsalaryhike  \\\n",
       "0     42330.17                   7      Y       No                 13   \n",
       "1     43331.17                   0    NaN      NaN                 14   \n",
       "\n",
       "   performancerating  relationshipsatisfaction standardhours  \\\n",
       "0                3.0                         3     Full Time   \n",
       "1                3.0                         1           NaN   \n",
       "\n",
       "   stockoptionlevel  totalworkingyears  trainingtimeslastyear  \\\n",
       "0                 0                NaN                      5   \n",
       "1                 1               34.0                      5   \n",
       "\n",
       "   worklifebalance  yearsatcompany yearsincurrentrole  \\\n",
       "0              3.0              20                NaN   \n",
       "1              3.0              33                NaN   \n",
       "\n",
       "   yearssincelastpromotion  yearswithcurrmanager  sameasmonthlyincome  \\\n",
       "0                       15                    15             16280.83   \n",
       "1                       11                     9                  NaN   \n",
       "\n",
       "   datebirth    salary roledepartament  numberchildren remotework  \n",
       "0       1972  195370.0             NaN             NaN        Yes  \n",
       "1       1971  199990.0             NaN             NaN          1  "
      ]
     },
     "execution_count": 7,
     "metadata": {},
     "output_type": "execute_result"
    }
   ],
   "source": [
    "df_clean[\"dailyrate\"] = round(df_clean[\"dailyrate\"], 2)\n",
    "df_clean[\"hourlyrate\"] = round(df_clean[\"hourlyrate\"], 2)\n",
    "df_clean.head(2)"
   ]
  },
  {
   "cell_type": "code",
   "execution_count": 6,
   "metadata": {},
   "outputs": [],
   "source": [
    "df_clean['salary'] = df_clean.apply(lambda row: np.round(row['salary'], 2), axis = 1)"
   ]
  },
  {
   "cell_type": "code",
   "execution_count": 17,
   "metadata": {},
   "outputs": [],
   "source": [
    "def eliminar_columnas(df, nombre_columna):\n",
    "    df_drop = df.drop(nombre_columna, axis=1, inplace=True) # hay que asignarle una variable para que lo guarde. Comprobado que funciona, cambiamos el inplace por True.\n",
    "    print(f'La columna {nombre_columna} se ha eliminado correctamente.')\n",
    "    return df_drop.head(1)"
   ]
  },
  {
   "cell_type": "markdown",
   "metadata": {},
   "source": [
    "### FUNCIÓN MAP PARA HOMOGENEIZAR REMOTEWORK"
   ]
  },
  {
   "cell_type": "code",
   "execution_count": 8,
   "metadata": {},
   "outputs": [
    {
     "data": {
      "text/html": [
       "<div>\n",
       "<style scoped>\n",
       "    .dataframe tbody tr th:only-of-type {\n",
       "        vertical-align: middle;\n",
       "    }\n",
       "\n",
       "    .dataframe tbody tr th {\n",
       "        vertical-align: top;\n",
       "    }\n",
       "\n",
       "    .dataframe thead th {\n",
       "        text-align: right;\n",
       "    }\n",
       "</style>\n",
       "<table border=\"1\" class=\"dataframe\">\n",
       "  <thead>\n",
       "    <tr style=\"text-align: right;\">\n",
       "      <th></th>\n",
       "      <th>age</th>\n",
       "      <th>attrition</th>\n",
       "      <th>businesstravel</th>\n",
       "      <th>dailyrate</th>\n",
       "      <th>department</th>\n",
       "      <th>distancefromhome</th>\n",
       "      <th>education</th>\n",
       "      <th>educationfield</th>\n",
       "      <th>employeecount</th>\n",
       "      <th>employeenumber</th>\n",
       "      <th>environmentsatisfaction</th>\n",
       "      <th>gender</th>\n",
       "      <th>hourlyrate</th>\n",
       "      <th>jobinvolvement</th>\n",
       "      <th>joblevel</th>\n",
       "      <th>jobrole</th>\n",
       "      <th>jobsatisfaction</th>\n",
       "      <th>maritalstatus</th>\n",
       "      <th>monthlyincome</th>\n",
       "      <th>monthlyrate</th>\n",
       "      <th>numcompaniesworked</th>\n",
       "      <th>over18</th>\n",
       "      <th>overtime</th>\n",
       "      <th>percentsalaryhike</th>\n",
       "      <th>performancerating</th>\n",
       "      <th>relationshipsatisfaction</th>\n",
       "      <th>standardhours</th>\n",
       "      <th>stockoptionlevel</th>\n",
       "      <th>totalworkingyears</th>\n",
       "      <th>trainingtimeslastyear</th>\n",
       "      <th>worklifebalance</th>\n",
       "      <th>yearsatcompany</th>\n",
       "      <th>yearsincurrentrole</th>\n",
       "      <th>yearssincelastpromotion</th>\n",
       "      <th>yearswithcurrmanager</th>\n",
       "      <th>sameasmonthlyincome</th>\n",
       "      <th>datebirth</th>\n",
       "      <th>salary</th>\n",
       "      <th>roledepartament</th>\n",
       "      <th>numberchildren</th>\n",
       "      <th>remotework</th>\n",
       "    </tr>\n",
       "  </thead>\n",
       "  <tbody>\n",
       "    <tr>\n",
       "      <th>0</th>\n",
       "      <td>52</td>\n",
       "      <td>No</td>\n",
       "      <td>NaN</td>\n",
       "      <td>2015.72</td>\n",
       "      <td>NaN</td>\n",
       "      <td>6</td>\n",
       "      <td>3</td>\n",
       "      <td>NaN</td>\n",
       "      <td>1</td>\n",
       "      <td>1</td>\n",
       "      <td>1</td>\n",
       "      <td>0</td>\n",
       "      <td>NaN</td>\n",
       "      <td>3</td>\n",
       "      <td>5</td>\n",
       "      <td>resEArch DIREcToR</td>\n",
       "      <td>3</td>\n",
       "      <td>NaN</td>\n",
       "      <td>16280.83</td>\n",
       "      <td>42330.17</td>\n",
       "      <td>7</td>\n",
       "      <td>Y</td>\n",
       "      <td>No</td>\n",
       "      <td>13</td>\n",
       "      <td>3.0</td>\n",
       "      <td>3</td>\n",
       "      <td>Full Time</td>\n",
       "      <td>0</td>\n",
       "      <td>NaN</td>\n",
       "      <td>5</td>\n",
       "      <td>3.0</td>\n",
       "      <td>20</td>\n",
       "      <td>NaN</td>\n",
       "      <td>15</td>\n",
       "      <td>15</td>\n",
       "      <td>16280.83</td>\n",
       "      <td>1972</td>\n",
       "      <td>195370.0</td>\n",
       "      <td>NaN</td>\n",
       "      <td>NaN</td>\n",
       "      <td>Yes</td>\n",
       "    </tr>\n",
       "    <tr>\n",
       "      <th>1</th>\n",
       "      <td>53</td>\n",
       "      <td>No</td>\n",
       "      <td>NaN</td>\n",
       "      <td>2063.39</td>\n",
       "      <td>NaN</td>\n",
       "      <td>1</td>\n",
       "      <td>4</td>\n",
       "      <td>Life Sciences</td>\n",
       "      <td>1</td>\n",
       "      <td>2</td>\n",
       "      <td>3</td>\n",
       "      <td>0</td>\n",
       "      <td>NaN</td>\n",
       "      <td>2</td>\n",
       "      <td>5</td>\n",
       "      <td>ManAGeR</td>\n",
       "      <td>3</td>\n",
       "      <td>NaN</td>\n",
       "      <td>NaN</td>\n",
       "      <td>43331.17</td>\n",
       "      <td>0</td>\n",
       "      <td>NaN</td>\n",
       "      <td>NaN</td>\n",
       "      <td>14</td>\n",
       "      <td>3.0</td>\n",
       "      <td>1</td>\n",
       "      <td>NaN</td>\n",
       "      <td>1</td>\n",
       "      <td>34.0</td>\n",
       "      <td>5</td>\n",
       "      <td>3.0</td>\n",
       "      <td>33</td>\n",
       "      <td>NaN</td>\n",
       "      <td>11</td>\n",
       "      <td>9</td>\n",
       "      <td>NaN</td>\n",
       "      <td>1971</td>\n",
       "      <td>199990.0</td>\n",
       "      <td>NaN</td>\n",
       "      <td>NaN</td>\n",
       "      <td>Yes</td>\n",
       "    </tr>\n",
       "  </tbody>\n",
       "</table>\n",
       "</div>"
      ],
      "text/plain": [
       "   age attrition businesstravel  dailyrate department  distancefromhome  \\\n",
       "0   52        No            NaN    2015.72        NaN                 6   \n",
       "1   53        No            NaN    2063.39        NaN                 1   \n",
       "\n",
       "   education educationfield  employeecount  employeenumber  \\\n",
       "0          3            NaN              1               1   \n",
       "1          4  Life Sciences              1               2   \n",
       "\n",
       "   environmentsatisfaction  gender  hourlyrate  jobinvolvement  joblevel  \\\n",
       "0                        1       0         NaN               3         5   \n",
       "1                        3       0         NaN               2         5   \n",
       "\n",
       "               jobrole  jobsatisfaction maritalstatus  monthlyincome  \\\n",
       "0   resEArch DIREcToR                 3           NaN       16280.83   \n",
       "1             ManAGeR                 3           NaN            NaN   \n",
       "\n",
       "   monthlyrate  numcompaniesworked over18 overtime  percentsalaryhike  \\\n",
       "0     42330.17                   7      Y       No                 13   \n",
       "1     43331.17                   0    NaN      NaN                 14   \n",
       "\n",
       "   performancerating  relationshipsatisfaction standardhours  \\\n",
       "0                3.0                         3     Full Time   \n",
       "1                3.0                         1           NaN   \n",
       "\n",
       "   stockoptionlevel  totalworkingyears  trainingtimeslastyear  \\\n",
       "0                 0                NaN                      5   \n",
       "1                 1               34.0                      5   \n",
       "\n",
       "   worklifebalance  yearsatcompany yearsincurrentrole  \\\n",
       "0              3.0              20                NaN   \n",
       "1              3.0              33                NaN   \n",
       "\n",
       "   yearssincelastpromotion  yearswithcurrmanager  sameasmonthlyincome  \\\n",
       "0                       15                    15             16280.83   \n",
       "1                       11                     9                  NaN   \n",
       "\n",
       "   datebirth    salary roledepartament  numberchildren remotework  \n",
       "0       1972  195370.0             NaN             NaN        Yes  \n",
       "1       1971  199990.0             NaN             NaN        Yes  "
      ]
     },
     "execution_count": 8,
     "metadata": {},
     "output_type": "execute_result"
    }
   ],
   "source": [
    "diccionario_remote = {\"1\": \"Yes\", \"0\": \"No\", \"Yes\": \"Yes\", \"True\": \"Yes\", \"False\": \"No\"}\n",
    "df_clean[\"remotework\"] = df_clean[\"remotework\"].map(diccionario_remote)\n",
    "\n",
    "df_clean.head(2)"
   ]
  },
  {
   "cell_type": "markdown",
   "metadata": {},
   "source": [
    "### FUNCIÓN PARA PONER EN MINÚSCULAS"
   ]
  },
  {
   "cell_type": "code",
   "execution_count": 9,
   "metadata": {},
   "outputs": [],
   "source": [
    "def minusculas(cadena): \n",
    "    try:\n",
    "        return cadena.lower()\n",
    "    except:\n",
    "        return \"no data\"\n",
    "\n",
    "lista_columnas=[\"department\", \"educationfield\", \"jobrole\", \"roledepartament\"]\n",
    "for col in lista_columnas:\n",
    "    df_clean[col] = df_clean[col].apply(minusculas)"
   ]
  },
  {
   "cell_type": "markdown",
   "metadata": {},
   "source": [
    "## FUNCION PARA RATIOS DE \"ENVIRONMENTSATISFACTION\""
   ]
  },
  {
   "cell_type": "code",
   "execution_count": 10,
   "metadata": {},
   "outputs": [],
   "source": [
    "def clean_satisfaction(valoracion):\n",
    "    try: \n",
    "        if valoracion >= 10:\n",
    "            return int(str(valoracion/10).split('.')[0])\n",
    "        else: \n",
    "            return valoracion\n",
    "    except:\n",
    "            return np.nan\n",
    "\n",
    "\n",
    "df_clean[\"environmentsatisfaction\"] = df_clean[\"environmentsatisfaction\"].apply(clean_satisfaction)"
   ]
  },
  {
   "cell_type": "markdown",
   "metadata": {},
   "source": [
    "### GENDER"
   ]
  },
  {
   "cell_type": "code",
   "execution_count": 11,
   "metadata": {},
   "outputs": [],
   "source": [
    "dict_gender = {0: \"M\", 1: \"F\"}\n",
    "\n",
    "df_clean[\"gender\"] = df_clean[\"gender\"].map(dict_gender)"
   ]
  },
  {
   "cell_type": "markdown",
   "metadata": {},
   "source": [
    "# 14 de noviembre de 2024"
   ]
  },
  {
   "cell_type": "markdown",
   "metadata": {},
   "source": [
    "### FUNCIÓN PARA BORRAR COLUMNAS"
   ]
  },
  {
   "cell_type": "code",
   "execution_count": 19,
   "metadata": {},
   "outputs": [],
   "source": [
    "def clean (dataframe,col_data):\n",
    "    \n",
    "    return dataframe.drop([col_data],axis=1, inplace= True)\n"
   ]
  },
  {
   "cell_type": "code",
   "execution_count": 29,
   "metadata": {},
   "outputs": [],
   "source": [
    "lista_drop= [\"sameasmonthlyincome\", \"over18\", \"numberchildren\", \"employeecount\"]\n",
    "\n",
    "for col in lista_drop:\n",
    "    clean(df_clean, col)\n"
   ]
  },
  {
   "cell_type": "code",
   "execution_count": null,
   "metadata": {},
   "outputs": [],
   "source": [
    "df_clean[[\"yearsincurrentrole\", \"yearssincelastpromotion\", \"yearsatcompany\"]].sample(10)"
   ]
  },
  {
   "cell_type": "code",
   "execution_count": null,
   "metadata": {},
   "outputs": [],
   "source": [
    "df_clean[[\"joblevel\",\"jobrole\", \"roledepartament\",\"department\"]].sample(10)"
   ]
  },
  {
   "cell_type": "markdown",
   "metadata": {},
   "source": [
    "### GUARDAR CSV"
   ]
  },
  {
   "cell_type": "code",
   "execution_count": 7,
   "metadata": {},
   "outputs": [],
   "source": [
    "df_clean.to_csv(\"hr_raw_data_clean.csv\")"
   ]
  },
  {
   "cell_type": "markdown",
   "metadata": {},
   "source": [
    "ELIMINAR '-' EN COLUMNA DISTANCEFROMHOME"
   ]
  },
  {
   "cell_type": "code",
   "execution_count": 9,
   "metadata": {},
   "outputs": [],
   "source": [
    "'''Sacando columnas numéricas para ver si hay alguna columna más con negativos aparte del distancefromhome'''\n",
    "df_numericas = df_clean.select_dtypes(include=['number'])"
   ]
  },
  {
   "cell_type": "code",
   "execution_count": null,
   "metadata": {},
   "outputs": [],
   "source": [
    "''' ¿Cuántas veces está el - en cada columna numérica? Vemos que solo está presente en distancefromhome'''\n",
    "for col in df_numericas.columns:\n",
    "    num_menos_col = df_numericas[col].astype(str).str.contains('-', regex=False).sum()\n",
    "    print(f' - está presente en {col} {num_menos_col} veces.')"
   ]
  },
  {
   "cell_type": "code",
   "execution_count": null,
   "metadata": {},
   "outputs": [],
   "source": [
    "def convert_negatives_in_absolute(df, columns): \n",
    "    df[columns] = df[columns].abs()  # Aplica abs() solo a las columnas seleccionadas \n",
    "    return df # Llamar a la función, por ejemplo, para convertir las columnas 'A' y 'B'\n",
    "df_clean = convert_negatives_in_absolute(df_clean, 'distancefromhome') # Mostrar el resultado print(df)\n",
    "df_clean.sample(2)"
   ]
  },
  {
   "cell_type": "code",
   "execution_count": 14,
   "metadata": {},
   "outputs": [
    {
     "data": {
      "text/plain": [
       "np.int64(0)"
      ]
     },
     "execution_count": 14,
     "metadata": {},
     "output_type": "execute_result"
    }
   ],
   "source": [
    "df_clean['distancefromhome'].astype(str).str.contains('-', regex=False).sum()"
   ]
  },
  {
   "cell_type": "code",
   "execution_count": null,
   "metadata": {},
   "outputs": [],
   "source": [
    "df_clean['distancefromhome'].value_counts()"
   ]
  },
  {
   "cell_type": "markdown",
   "metadata": {},
   "source": [
    "## CREAR COLUMNA NUEVA DE DEPARTAMENTO \n",
    "### A PARTIR DE LA INFO QUE TENEMOS EN EL DF[['jobrole', 'roledepartament', 'department']]"
   ]
  },
  {
   "cell_type": "code",
   "execution_count": 16,
   "metadata": {},
   "outputs": [],
   "source": [
    "'''Creamos un diccionario con los puestos como claves y los departamentos como valores.\n",
    "Función que asigna el departamento según el puesto. Si no encuentra la clave en el diccionario, devuelve el valor de la columna\n",
    "roledepartament para que no se cambien los manager que sí están asignados a algunos departamentos concretos - sales, human resources, etc.'''\n",
    "\n",
    "dic = {'healthcare representative': 'research & development',\n",
    "       'sales executive': 'sales',\n",
    "       'laboratory technician': 'research & development',\n",
    "       'manufacturing director': 'research & development',\n",
    "       'research scientist': 'research & development',\n",
    "       'research director': 'research & development',\n",
    "       'human resources': 'human resources',\n",
    "       'sales representative': 'sales'}\n",
    "\n",
    "def assign_departament(puesto, departamento, otra_columna):\n",
    "    return departamento.get(puesto, otra_columna)\n",
    "\n",
    "# Limpiamos la columna 'jobrole' de espacios y le hacemos un lower, ya que no estaba reconociendo las claves y es posible que hubiera algún \n",
    "# espacio en alguna celda.\n",
    "df_clean['jobrole'] = df_clean['jobrole'].str.strip().str.lower()\n",
    "\n",
    "# Asignamos el departamento correspondiente para cada puesto en la columna 'correct_department'\n",
    "df_clean['correct_department'] = df_clean.apply(lambda fila: assign_departament(fila['jobrole'], dic, fila['roledepartament']), axis=1)"
   ]
  },
  {
   "cell_type": "markdown",
   "metadata": {},
   "source": [
    "### ELIMINAR COLUMNA 'ROLEDEPARTAMENT' Y 'DEPARTMENT'"
   ]
  },
  {
   "cell_type": "code",
   "execution_count": 21,
   "metadata": {},
   "outputs": [],
   "source": [
    "# Utilizamos función creada previamente.\n",
    "\n",
    "lista_drop1= [\"roledepartament\", \"department\"]\n",
    "\n",
    "for col in lista_drop1:\n",
    "    clean(df_clean, col)"
   ]
  },
  {
   "cell_type": "markdown",
   "metadata": {},
   "source": [
    "### CAMBIAMOS NOMBRE DE COLUMNA 'CORRECT_DEPARTMENT' A 'DEPARTMENT'"
   ]
  },
  {
   "cell_type": "code",
   "execution_count": 24,
   "metadata": {},
   "outputs": [],
   "source": [
    "df_clean.rename(columns={'correct_department': 'department'}, inplace=True)"
   ]
  },
  {
   "cell_type": "markdown",
   "metadata": {},
   "source": [
    "## Introducir los valores que faltan en la columna 'salary' multiplicando el 'monthlyincome' * 12."
   ]
  },
  {
   "cell_type": "code",
   "execution_count": 29,
   "metadata": {},
   "outputs": [],
   "source": [
    "'''Si la celda es mayor a 0, es decir tiene dato, se queda tal cual, si no, multiplicamos 'monthlyincome' * 12 para calcular salario anual.'''\n",
    "df_clean['salary'] = df_clean.apply(lambda row: row['salary'] if row['salary'] > 0 else row['monthlyincome'] * 12, axis = 1)"
   ]
  },
  {
   "cell_type": "markdown",
   "metadata": {},
   "source": [
    "## Introducir los valores que faltan en la columna 'monthlyincome' dividiendo el 'salary' / 12."
   ]
  },
  {
   "cell_type": "code",
   "execution_count": 30,
   "metadata": {},
   "outputs": [],
   "source": [
    "df_clean['monthlyincome'] = df_clean.apply(lambda row: row['monthlyincome'] if row['monthlyincome'] > 0 else row['salary'] / 12, axis = 1)"
   ]
  },
  {
   "cell_type": "code",
   "execution_count": 31,
   "metadata": {},
   "outputs": [
    {
     "data": {
      "text/plain": [
       "array([     0.  , -83242.17, -86790.33, -93142.17])"
      ]
     },
     "execution_count": 31,
     "metadata": {},
     "output_type": "execute_result"
    }
   ],
   "source": [
    "comp = round(df_clean['salary']/12 - df_clean['monthlyincome'], 2)\n",
    "comp.unique()"
   ]
  },
  {
   "cell_type": "code",
   "execution_count": 32,
   "metadata": {},
   "outputs": [
    {
     "data": {
      "text/html": [
       "<div>\n",
       "<style scoped>\n",
       "    .dataframe tbody tr th:only-of-type {\n",
       "        vertical-align: middle;\n",
       "    }\n",
       "\n",
       "    .dataframe tbody tr th {\n",
       "        vertical-align: top;\n",
       "    }\n",
       "\n",
       "    .dataframe thead th {\n",
       "        text-align: right;\n",
       "    }\n",
       "</style>\n",
       "<table border=\"1\" class=\"dataframe\">\n",
       "  <thead>\n",
       "    <tr style=\"text-align: right;\">\n",
       "      <th></th>\n",
       "      <th>monthlyincome</th>\n",
       "      <th>salary</th>\n",
       "      <th>employeenumber</th>\n",
       "    </tr>\n",
       "  </thead>\n",
       "  <tbody>\n",
       "    <tr>\n",
       "      <th>1316</th>\n",
       "      <td>84083.0</td>\n",
       "      <td>10090.0</td>\n",
       "      <td>1317</td>\n",
       "    </tr>\n",
       "    <tr>\n",
       "      <th>1359</th>\n",
       "      <td>87667.0</td>\n",
       "      <td>10520.0</td>\n",
       "      <td>1360</td>\n",
       "    </tr>\n",
       "    <tr>\n",
       "      <th>1464</th>\n",
       "      <td>94083.0</td>\n",
       "      <td>11290.0</td>\n",
       "      <td>1465</td>\n",
       "    </tr>\n",
       "  </tbody>\n",
       "</table>\n",
       "</div>"
      ],
      "text/plain": [
       "      monthlyincome   salary  employeenumber\n",
       "1316        84083.0  10090.0            1317\n",
       "1359        87667.0  10520.0            1360\n",
       "1464        94083.0  11290.0            1465"
      ]
     },
     "execution_count": 32,
     "metadata": {},
     "output_type": "execute_result"
    }
   ],
   "source": [
    "df_clean[['monthlyincome', 'salary', 'employeenumber']].loc[df_clean['monthlyincome'] > df_clean['salary']]"
   ]
  },
  {
   "cell_type": "code",
   "execution_count": 33,
   "metadata": {},
   "outputs": [
    {
     "data": {
      "text/plain": [
       "1316    840.83\n",
       "1359    876.67\n",
       "1464    940.83\n",
       "Name: monthlyincome, dtype: float64"
      ]
     },
     "execution_count": 33,
     "metadata": {},
     "output_type": "execute_result"
    }
   ],
   "source": [
    "df_clean.loc[df_clean['employeenumber'].isin([1317,1360,1465]), \"monthlyincome\"]/100"
   ]
  },
  {
   "cell_type": "markdown",
   "metadata": {},
   "source": [
    "\n",
    "## CAMBIAR NULOS POR DATO (non-travel y full time)"
   ]
  },
  {
   "cell_type": "code",
   "execution_count": 34,
   "metadata": {},
   "outputs": [],
   "source": [
    "def nulos(df,columna, dato): \n",
    "    df[columna] = df[columna].fillna(dato)\n",
    "    return "
   ]
  },
  {
   "cell_type": "code",
   "execution_count": 35,
   "metadata": {},
   "outputs": [],
   "source": [
    "nulos(df_clean, \"businesstravel\", \"non-travel\")"
   ]
  },
  {
   "cell_type": "code",
   "execution_count": 38,
   "metadata": {},
   "outputs": [],
   "source": [
    "nulos(df_clean, \"standardhours\", \"Full Time\")"
   ]
  },
  {
   "cell_type": "code",
   "execution_count": 39,
   "metadata": {},
   "outputs": [
    {
     "data": {
      "text/plain": [
       "array(['Full Time', 'Part Time'], dtype=object)"
      ]
     },
     "execution_count": 39,
     "metadata": {},
     "output_type": "execute_result"
    }
   ],
   "source": [
    "df_clean[\"standardhours\"].unique()"
   ]
  },
  {
   "cell_type": "markdown",
   "metadata": {},
   "source": [
    "## FUNCIÓN PARA PASAR DE FLOAT A INTEGER"
   ]
  },
  {
   "cell_type": "markdown",
   "metadata": {},
   "source": [
    "## falta por terminar!!!!"
   ]
  },
  {
   "cell_type": "code",
   "execution_count": 67,
   "metadata": {},
   "outputs": [],
   "source": [
    "def numero_entero(valor):\n",
    "    try: \n",
    "        if isinstance(valor):\n",
    "            return int(valor) \n",
    "        else: \n",
    "            valor\n",
    "    except:\n",
    "        return np.nan"
   ]
  },
  {
   "cell_type": "code",
   "execution_count": 69,
   "metadata": {},
   "outputs": [
    {
     "data": {
      "text/plain": [
       "np.int64(114)"
      ]
     },
     "execution_count": 69,
     "metadata": {},
     "output_type": "execute_result"
    }
   ],
   "source": [
    "df_clean[\"worklifebalance\"].isnull().sum()"
   ]
  },
  {
   "cell_type": "code",
   "execution_count": 63,
   "metadata": {},
   "outputs": [],
   "source": [
    "lista = [ 1.0, 2.0, 3.0, np.nan, 4 ]"
   ]
  },
  {
   "cell_type": "code",
   "execution_count": 58,
   "metadata": {},
   "outputs": [
    {
     "data": {
      "text/plain": [
       "float"
      ]
     },
     "execution_count": 58,
     "metadata": {},
     "output_type": "execute_result"
    }
   ],
   "source": [
    "type(lista[0])"
   ]
  },
  {
   "cell_type": "code",
   "execution_count": 68,
   "metadata": {},
   "outputs": [
    {
     "name": "stdout",
     "output_type": "stream",
     "text": [
      "[1.0, 2.0, 3.0, nan, 4]\n"
     ]
    }
   ],
   "source": [
    "for numero in lista:\n",
    "    numero_entero(numero)\n",
    "print(lista)"
   ]
  },
  {
   "cell_type": "code",
   "execution_count": 70,
   "metadata": {},
   "outputs": [],
   "source": [
    "df_clean.to_csv(\"hr_raw_data_clean.csv\")"
   ]
  }
 ],
 "metadata": {
  "kernelspec": {
   "display_name": "Python 3",
   "language": "python",
   "name": "python3"
  },
  "language_info": {
   "codemirror_mode": {
    "name": "ipython",
    "version": 3
   },
   "file_extension": ".py",
   "mimetype": "text/x-python",
   "name": "python",
   "nbconvert_exporter": "python",
   "pygments_lexer": "ipython3",
   "version": "3.9.6"
  }
 },
 "nbformat": 4,
 "nbformat_minor": 2
}
